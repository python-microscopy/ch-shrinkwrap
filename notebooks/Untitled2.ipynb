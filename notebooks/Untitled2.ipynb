{
 "cells": [
  {
   "cell_type": "code",
   "execution_count": 1,
   "id": "6596bb77-9cea-409c-a74a-dc1a960170c8",
   "metadata": {},
   "outputs": [
    {
     "name": "stdout",
     "output_type": "stream",
     "text": [
      "Populating the interactive namespace from numpy and matplotlib\n"
     ]
    }
   ],
   "source": [
    "# import PYME.experimental._triangle_mesh as triangle_mesh\n",
    "import ch_shrinkwrap._membrane_mesh as membrane_mesh\n",
    "\n",
    "%pylab inline"
   ]
  },
  {
   "cell_type": "code",
   "execution_count": 17,
   "id": "ef11e086-51b9-45e3-a5f4-c8b97f465d4e",
   "metadata": {},
   "outputs": [],
   "source": [
    "# Generate vertices and faces to split\n",
    "\n",
    "vertices = np.array([\n",
    "            [0, 1, 0],\n",
    "            [-0.25, 0, 0],\n",
    "            [0, -1, 0],\n",
    "            [0.25, 0.5, 0]\n",
    "            ])\n",
    "faces = np.array([\n",
    "        [0,1,2],\n",
    "        [0,2,3]\n",
    "        ])\n",
    "\n"
   ]
  },
  {
   "cell_type": "code",
   "execution_count": 18,
   "id": "1623d222-34a7-49ba-8fa2-f494c778a35e",
   "metadata": {},
   "outputs": [
    {
     "name": "stdout",
     "output_type": "stream",
     "text": [
      "initializing halfedges ...\n",
      "vertices.shape = (4, 3), faces.shape = (2, 3)\n",
      "iterating edges\n",
      "done initializing halfedges\n"
     ]
    }
   ],
   "source": [
    "# mesh = triangle_mesh.TriangleMesh(vertices=vertices, faces=faces)\n",
    "mesh = membrane_mesh.MembraneMesh(vertices=vertices, faces=faces)"
   ]
  },
  {
   "cell_type": "code",
   "execution_count": 19,
   "id": "9744cf44-9e5e-4879-9ab3-119a6fa6efc7",
   "metadata": {},
   "outputs": [
    {
     "data": {
      "text/plain": [
       "0"
      ]
     },
     "execution_count": 19,
     "metadata": {},
     "output_type": "execute_result"
    }
   ],
   "source": [
    "mesh._halfedges[mesh._halfedges[3]['next']]['vertex']"
   ]
  },
  {
   "cell_type": "code",
   "execution_count": 20,
   "id": "f3894b1d-72fa-4fa7-90dc-73969339c2c6",
   "metadata": {},
   "outputs": [
    {
     "name": "stdout",
     "output_type": "stream",
     "text": [
      "Splitting 4\n",
      "Yes, skeleton.\n",
      "2.0\n",
      "Splitting 3\n",
      "Yes, skeleton.\n",
      "1.520690679550171\n",
      "Split count: 2\n"
     ]
    },
    {
     "data": {
      "text/plain": [
       "2"
      ]
     },
     "execution_count": 20,
     "metadata": {},
     "output_type": "execute_result"
    }
   ],
   "source": [
    "# mesh.edge_split(1, live_update=1, upsample=0, skeleton=1)\n",
    "mesh.skeleton_split_edges()"
   ]
  },
  {
   "cell_type": "code",
   "execution_count": 21,
   "id": "69f62ce2-2035-4288-99b5-3cf56e89050d",
   "metadata": {},
   "outputs": [
    {
     "data": {
      "image/png": "[encoded data removed]",
      "text/plain": [
       "<Figure size 432x288 with 1 Axes>"
      ]
     },
     "metadata": {
      "needs_background": "light"
     },
     "output_type": "display_data"
    }
   ],
   "source": [
    "plt.figure()\n",
    "for i in range(mesh.faces.shape[0]):\n",
    "    v = mesh._vertices['position'][mesh.faces[i]]\n",
    "    #print(v)\n",
    "    plt.plot(np.hstack([v[:,0], v[0,0]]),np.hstack([v[:,1], v[0,1]]))"
   ]
  },
  {
   "cell_type": "code",
   "execution_count": null,
   "id": "5ddf820f-c621-49ee-87e5-7a6de08492a9",
   "metadata": {},
   "outputs": [],
   "source": []
  },
  {
   "cell_type": "code",
   "execution_count": null,
   "id": "19c7e33f-94f0-4b62-adaa-f5ca8596b2f5",
   "metadata": {},
   "outputs": [],
   "source": []
  }
 ],
 "metadata": {
  "kernelspec": {
   "display_name": "pyme",
   "language": "python",
   "name": "pyme"
  },
  "language_info": {
   "codemirror_mode": {
    "name": "ipython",
    "version": 3
   },
   "file_extension": ".py",
   "mimetype": "text/x-python",
   "name": "python",
   "nbconvert_exporter": "python",
   "pygments_lexer": "ipython3",
   "version": "3.7.6"
  }
 },
 "nbformat": 4,
 "nbformat_minor": 5
}
