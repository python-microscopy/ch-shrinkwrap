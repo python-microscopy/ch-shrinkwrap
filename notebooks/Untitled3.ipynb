{
 "cells": [
  {
   "cell_type": "code",
   "execution_count": 1,
   "id": "6868746f-9456-4967-a2ed-a6d963fe22b7",
   "metadata": {},
   "outputs": [
    {
     "name": "stdout",
     "output_type": "stream",
     "text": [
      "Trying to load 3rd party recipe module ch_shrinkwrap.recipe_modules.surface_fitting\n",
      "Loaded 3rd party recipe module ch_shrinkwrap.recipe_modules.surface_fitting\n",
      "Trying to load 3rd party recipe module ch_shrinkwrap.recipe_modules.surface_feature_extraction\n",
      "Loaded 3rd party recipe module ch_shrinkwrap.recipe_modules.surface_feature_extraction\n",
      "Detected a .git folder, assuming a development install\n",
      "quaternion module not found, disabling custom clip plane orientations\n",
      "quaternion module not found, disabling custom clip plane orientations\n"
     ]
    }
   ],
   "source": [
    "from PYME.LMVis import VisGUI\n",
    "\n",
    "%gui wx"
   ]
  },
  {
   "cell_type": "code",
   "execution_count": 2,
   "id": "f51bb5f2-3060-4f4f-b7a6-f4fe57b8f5cc",
   "metadata": {
    "collapsed": true,
    "jupyter": {
     "outputs_hidden": true
    },
    "tags": []
   },
   "outputs": [
    {
     "name": "stderr",
     "output_type": "stream",
     "text": [
      "DEBUG:PYME.LMVis.visCore:Creating VisGUI menu bar\n",
      "DEBUG:PYME.LMVis.Extras:Initializing QPobjectSegment plugin\n",
      "DEBUG:PYME.LMVis.Extras:Initializing animation plugin\n",
      "DEBUG:PYME.LMVis.Extras:Initializing clusterAnalysis plugin\n",
      "DEBUG:PYME.LMVis.Extras:Initializing dockedPanel plugin\n",
      "DEBUG:PYME.LMVis.Extras:Initializing extra_layers plugin\n",
      "DEBUG:PYME.LMVis.Extras:Initializing fiducial plugin\n",
      "DEBUG:PYME.LMVis.Extras:Initializing flagZMotionArtifacts plugin\n",
      "DEBUG:root:Adding menu items for event filters\n",
      "DEBUG:PYME.LMVis.Extras:Initializing fusionUtils plugin\n",
      "DEBUG:PYME.LMVis.Extras:Initializing multiColourAnalysis plugin\n",
      "DEBUG:PYME.LMVis.Extras:Initializing multiviewMapping plugin\n",
      "DEBUG:root:Adding menu items for multi-view manipulation\n",
      "DEBUG:PYME.LMVis.Extras:Initializing objectMeasurements plugin\n",
      "DEBUG:PYME.LMVis.Extras:Initializing particleTracking plugin\n",
      "DEBUG:PYME.LMVis.Extras:Initializing perFrameVariable plugin\n",
      "DEBUG:PYME.LMVis.Extras:Initializing photophysics plugin\n",
      "DEBUG:PYME.LMVis.Extras:Initializing pointSetGeneration plugin\n",
      "DEBUG:PYME.LMVis.Extras:Initializing pointwiseColoc plugin\n",
      "DEBUG:PYME.LMVis.Extras:Initializing saved_views plugin\n",
      "DEBUG:PYME.LMVis.Extras:Initializing scaleBox plugin\n",
      "DEBUG:PYME.LMVis.Extras:Initializing sequentialSpecies plugin\n",
      "DEBUG:PYME.LMVis.Extras:Initializing setBGImage plugin\n",
      "DEBUG:PYME.LMVis.Extras:Initializing shiftmapGenerator plugin\n",
      "DEBUG:PYME.LMVis.Extras:Initializing showShortcuts plugin\n",
      "DEBUG:PYME.LMVis.Extras:Initializing snapshot plugin\n",
      "DEBUG:PYME.LMVis.Extras:Initializing spherical_harmonics plugin\n",
      "DEBUG:root:Adding menu items for spherical harmonic (shell) fitting\n",
      "DEBUG:PYME.LMVis.Extras:Initializing subsets plugin\n",
      "DEBUG:PYME.LMVis.Extras:Initializing surface_fitting plugin\n",
      "DEBUG:PYME.LMVis.Extras:Initializing temperaturePlot plugin\n",
      "DEBUG:PYME.LMVis.Extras:Initializing vibration plugin\n"
     ]
    },
    {
     "name": "stdout",
     "output_type": "stream",
     "text": [
      "New Canvas\n",
      "Saved Views are deprecated -  use the ones with animation instead and remove me!\n",
      "Creating fold panel\n",
      "GenPanels\n",
      "Creating datasource panel\n",
      "RecipeView._layout\n",
      "Input datasources:  []\n",
      "Image list size: 1\n",
      "Creating layers GUI\n",
      "height:  0\n",
      "NB best size: wx.Size(200, 0)\n",
      "RecipeView._layout\n",
      "Input datasources:  []\n",
      "recipe.execute()\n",
      "RecipeView._layout\n",
      "Input datasources:  []\n",
      "0\n",
      "OpenGL - Version: b'2.1 INTEL-14.7.20'\n",
      "Shader - Version: b'1.20'\n",
      "GL_MAX_SAMPLES: 8, GL_SAMPLES: 4\n"
     ]
    },
    {
     "name": "stderr",
     "output_type": "stream",
     "text": [
      "DEBUG:PYME.LMVis.shader_programs.ShaderProgramFactory:New shader program created: <class 'PYME.LMVis.shader_programs.DefaultShaderProgram.DefaultShaderProgram'>\n"
     ]
    },
    {
     "name": "stdout",
     "output_type": "stream",
     "text": [
      "Ev Idle\n",
      "('points', 't')\n",
      "refreshed\n"
     ]
    }
   ],
   "source": [
    "pymevis = VisGUI.ipython_pymevisualize()\n",
    "pipeline = pymevis.pipeline"
   ]
  },
  {
   "cell_type": "code",
   "execution_count": 3,
   "id": "6861391d-b4f7-49b0-b2ea-c2c3398656ae",
   "metadata": {
    "collapsed": true,
    "jupyter": {
     "outputs_hidden": true
    },
    "tags": []
   },
   "outputs": [
    {
     "name": "stdout",
     "output_type": "stream",
     "text": [
      "Creating Pipeline\n",
      "RecipeView._layout\n"
     ]
    },
    {
     "name": "stderr",
     "output_type": "stream",
     "text": [
      "10:43:18 PM: Debug: Adding duplicate image handler for 'Windows bitmap file'\n",
      "10:43:18 PM: Debug: Adding duplicate animation handler for '1' type\n",
      "10:43:18 PM: Debug: Adding duplicate animation handler for '2' type\n",
      "10:43:18 PM: Debug: Adding duplicate image handler for 'Windows bitmap file'\n",
      "10:43:18 PM: Debug: Adding duplicate animation handler for '1' type\n",
      "10:43:18 PM: Debug: Adding duplicate animation handler for '2' type\n",
      "wx._core.wxAssertionError: C++ assertion \"GetEventHandler() == this\" failed at /opt/concourse/worker/volumes/live/3ef8f33f-8e5b-442f-6716-948fc4646a36/volume/wxpython_1547931203930/work/ext/wxWidgets/src/common/wincmn.cpp(478) in ~wxWindowBase(): any pushed event handlers must have been removed\n",
      "\n",
      "The above exception was the direct cause of the following exception:\n",
      "\n",
      "SystemError: <class 'wx._core.WindowDestroyEvent'> returned a result with an error set\n",
      "wx._core.wxAssertionError: C++ assertion \"GetEventHandler() == this\" failed at /opt/concourse/worker/volumes/live/3ef8f33f-8e5b-442f-6716-948fc4646a36/volume/wxpython_1547931203930/work/ext/wxWidgets/src/common/wincmn.cpp(478) in ~wxWindowBase(): any pushed event handlers must have been removed\n",
      "\n",
      "The above exception was the direct cause of the following exception:\n",
      "\n",
      "SystemError: <class 'wx._core.WindowDestroyEvent'> returned a result with an error set\n",
      "wx._core.wxAssertionError: C++ assertion \"GetEventHandler() == this\" failed at /opt/concourse/worker/volumes/live/3ef8f33f-8e5b-442f-6716-948fc4646a36/volume/wxpython_1547931203930/work/ext/wxWidgets/src/common/wincmn.cpp(478) in ~wxWindowBase(): any pushed event handlers must have been removed\n",
      "\n",
      "The above exception was the direct cause of the following exception:\n",
      "\n",
      "SystemError: <class 'wx._core.WindowDestroyEvent'> returned a result with an error set\n",
      "DEBUG:PYME.recipes.localisations:no events found\n"
     ]
    },
    {
     "name": "stdout",
     "output_type": "stream",
     "text": [
      "Input datasources:  ['_Localizations', 'FitResults']\n",
      "RecipeView._layout\n",
      "Input datasources:  ['_Localizations', 'FitResults']\n",
      "RecipeView._layout\n",
      "Input datasources:  ['_Localizations', 'FitResults']\n",
      "recipe.execute()\n",
      "Executing <PYME.recipes.localisations.Pipelineify object at 0x7f89f5e29e30>\n",
      "Executing <PYME.recipes.localisations.ProcessColour object at 0x7f89f7abb9b0>\n",
      "Executing <PYME.recipes.tablefilters.FilterTable object at 0x7f89f75061d0>\n",
      "RecipeView._layout\n"
     ]
    },
    {
     "name": "stderr",
     "output_type": "stream",
     "text": [
      "wx._core.wxAssertionError: C++ assertion \"GetEventHandler() == this\" failed at /opt/concourse/worker/volumes/live/3ef8f33f-8e5b-442f-6716-948fc4646a36/volume/wxpython_1547931203930/work/ext/wxWidgets/src/common/wincmn.cpp(478) in ~wxWindowBase(): any pushed event handlers must have been removed\n",
      "\n",
      "The above exception was the direct cause of the following exception:\n",
      "\n",
      "SystemError: <class 'wx._core.WindowDestroyEvent'> returned a result with an error set\n",
      "wx._core.wxAssertionError: C++ assertion \"GetEventHandler() == this\" failed at /opt/concourse/worker/volumes/live/3ef8f33f-8e5b-442f-6716-948fc4646a36/volume/wxpython_1547931203930/work/ext/wxWidgets/src/common/wincmn.cpp(478) in ~wxWindowBase(): any pushed event handlers must have been removed\n",
      "\n",
      "The above exception was the direct cause of the following exception:\n",
      "\n",
      "SystemError: <class 'wx._core.WindowDestroyEvent'> returned a result with an error set\n",
      "wx._core.wxAssertionError: C++ assertion \"GetEventHandler() == this\" failed at /opt/concourse/worker/volumes/live/3ef8f33f-8e5b-442f-6716-948fc4646a36/volume/wxpython_1547931203930/work/ext/wxWidgets/src/common/wincmn.cpp(478) in ~wxWindowBase(): any pushed event handlers must have been removed\n",
      "\n",
      "The above exception was the direct cause of the following exception:\n",
      "\n",
      "SystemError: <class 'wx._core.WindowDestroyEvent'> returned a result with an error set\n",
      "wx._core.wxAssertionError: C++ assertion \"GetEventHandler() == this\" failed at /opt/concourse/worker/volumes/live/3ef8f33f-8e5b-442f-6716-948fc4646a36/volume/wxpython_1547931203930/work/ext/wxWidgets/src/common/wincmn.cpp(478) in ~wxWindowBase(): any pushed event handlers must have been removed\n",
      "\n",
      "The above exception was the direct cause of the following exception:\n",
      "\n",
      "SystemError: <class 'wx._core.WindowDestroyEvent'> returned a result with an error set\n",
      "wx._core.wxAssertionError: C++ assertion \"GetEventHandler() == this\" failed at /opt/concourse/worker/volumes/live/3ef8f33f-8e5b-442f-6716-948fc4646a36/volume/wxpython_1547931203930/work/ext/wxWidgets/src/common/wincmn.cpp(478) in ~wxWindowBase(): any pushed event handlers must have been removed\n",
      "\n",
      "The above exception was the direct cause of the following exception:\n",
      "\n",
      "SystemError: <class 'wx._core.WindowDestroyEvent'> returned a result with an error set\n",
      "wx._core.wxAssertionError: C++ assertion \"GetEventHandler() == this\" failed at /opt/concourse/worker/volumes/live/3ef8f33f-8e5b-442f-6716-948fc4646a36/volume/wxpython_1547931203930/work/ext/wxWidgets/src/common/wincmn.cpp(478) in ~wxWindowBase(): any pushed event handlers must have been removed\n",
      "\n",
      "The above exception was the direct cause of the following exception:\n",
      "\n",
      "SystemError: <class 'wx._core.WindowDestroyEvent'> returned a result with an error set\n",
      "DEBUG:PYME.LMVis.VisGUI:Creating tabs\n"
     ]
    },
    {
     "name": "stdout",
     "output_type": "stream",
     "text": [
      "Input datasources:  ['_Localizations', 'FitResults']\n",
      "Pipeline Created\n",
      "RecipeView._layout\n",
      "Input datasources:  ['_Localizations', 'FitResults']\n"
     ]
    },
    {
     "name": "stderr",
     "output_type": "stream",
     "text": [
      "DEBUG:PYME.LMVis.VisGUI:Finished creating tabs\n"
     ]
    },
    {
     "name": "stdout",
     "output_type": "stream",
     "text": [
      "0\n",
      "Gui stuff done\n",
      "lw update\n",
      "Creating layers GUI\n"
     ]
    },
    {
     "name": "stderr",
     "output_type": "stream",
     "text": [
      "DEBUG:PYME.LMVis.shader_programs.ShaderProgramFactory:New shader program created: <class 'PYME.LMVis.shader_programs.DefaultShaderProgram.OpaquePointShaderProgram'>\n",
      "DEBUG:PYME.LMVis.visCore:Added layer, datasouce=output\n"
     ]
    },
    {
     "name": "stdout",
     "output_type": "stream",
     "text": [
      "hl update\n",
      "height:  308\n",
      "NB best size: wx.Size(250, 308)\n",
      "lw update\n",
      "hl update\n",
      "hl update\n",
      "rmin:[8014.0996 8364.2    -397.37  ], r_max:[11513.   11863.     448.88]\n",
      "Resizing node store - new size: 1500\n",
      "Resizing node store - new size: 2250\n",
      "Resizing node store - new size: 3375\n",
      "Resizing node store - new size: 5063\n",
      "Resizing node store - new size: 7595\n",
      "Resizing node store - new size: 11393\n",
      "Resizing node store - new size: 17090\n",
      "Resizing node store - new size: 25635\n",
      "Resizing node store - new size: 38453\n",
      "Resizing node store - new size: 57680\n",
      "Resizing node store - new size: 86520\n",
      "Octree  (octree0) created\n",
      "Disposing of CBEditor\n",
      "recipe.execute()\n",
      "Executing <PYME.recipes.surface_fitting.DualMarchingCubes object at 0x7f89d89c2a70>\n",
      "Dual grid created in 1.618 s\n",
      "March in 0.032 s\n",
      "Generating TriangularMesh object\n",
      "Data munged to vertices, faces\n",
      "initializing halfedges ...\n",
      "vertices.shape = (6418, 3), faces.shape = (12640, 3)\n",
      "iterating edges\n",
      "done initializing halfedges\n",
      "Generated TriangularMesh object\n",
      "Split count: 5711\n",
      "Flip count: 4309 [1 failed]\n",
      "Flip count: 342 [0 failed]\n",
      "Flip count: 27 [0 failed]\n",
      "Flip count: 2 [0 failed]\n",
      "Flip count: 0 [0 failed]\n",
      "Collapse count: 7167[219 failed]\n",
      "Flip count: 1456 [2 failed]\n",
      "Flip count: 101 [0 failed]\n",
      "Flip count: 4 [0 failed]\n",
      "Flip count: 0 [0 failed]\n",
      "Split count: 3401\n",
      "Flip count: 2479 [2 failed]\n",
      "Flip count: 151 [2 failed]\n",
      "Flip count: 12 [2 failed]\n",
      "Flip count: 1 [2 failed]\n",
      "Flip count: 0 [2 failed]\n",
      "Collapse count: 3737[47 failed]\n",
      "Flip count: 1043 [3 failed]\n",
      "Flip count: 49 [0 failed]\n",
      "Flip count: 0 [0 failed]\n",
      "Split count: 2998\n",
      "Flip count: 2236 [0 failed]\n",
      "Flip count: 103 [0 failed]\n",
      "Flip count: 1 [0 failed]\n",
      "Flip count: 0 [0 failed]\n",
      "Collapse count: 3181[48 failed]\n",
      "Flip count: 878 [0 failed]\n",
      "Flip count: 30 [0 failed]\n",
      "Flip count: 0 [0 failed]\n",
      "Split count: 3047\n",
      "Flip count: 2193 [0 failed]\n",
      "Flip count: 84 [0 failed]\n",
      "Flip count: 3 [0 failed]\n",
      "Flip count: 0 [0 failed]\n",
      "Collapse count: 3144[56 failed]\n",
      "Flip count: 814 [1 failed]\n",
      "Flip count: 37 [0 failed]\n",
      "Flip count: 2 [0 failed]\n",
      "Flip count: 0 [0 failed]\n",
      "Split count: 2952\n",
      "Flip count: 2109 [0 failed]\n",
      "Flip count: 83 [0 failed]\n",
      "Flip count: 4 [0 failed]\n",
      "Flip count: 0 [0 failed]\n",
      "Collapse count: 3025[46 failed]\n",
      "Flip count: 785 [2 failed]\n",
      "Flip count: 32 [0 failed]\n",
      "Flip count: 1 [0 failed]\n",
      "Flip count: 0 [0 failed]\n",
      "lw update\n",
      "hl update\n",
      "RecipeView._layout\n",
      "Input datasources:  ['_Localizations', 'FitResults', 'octree0']\n",
      "RecipeView._layout\n"
     ]
    },
    {
     "name": "stderr",
     "output_type": "stream",
     "text": [
      "wx._core.wxAssertionError: C++ assertion \"GetEventHandler() == this\" failed at /opt/concourse/worker/volumes/live/3ef8f33f-8e5b-442f-6716-948fc4646a36/volume/wxpython_1547931203930/work/ext/wxWidgets/src/common/wincmn.cpp(478) in ~wxWindowBase(): any pushed event handlers must have been removed\n",
      "\n",
      "The above exception was the direct cause of the following exception:\n",
      "\n",
      "SystemError: <class 'wx._core.WindowDestroyEvent'> returned a result with an error set\n",
      "wx._core.wxAssertionError: C++ assertion \"GetEventHandler() == this\" failed at /opt/concourse/worker/volumes/live/3ef8f33f-8e5b-442f-6716-948fc4646a36/volume/wxpython_1547931203930/work/ext/wxWidgets/src/common/wincmn.cpp(478) in ~wxWindowBase(): any pushed event handlers must have been removed\n",
      "\n",
      "The above exception was the direct cause of the following exception:\n",
      "\n",
      "SystemError: <class 'wx._core.WindowDestroyEvent'> returned a result with an error set\n",
      "wx._core.wxAssertionError: C++ assertion \"GetEventHandler() == this\" failed at /opt/concourse/worker/volumes/live/3ef8f33f-8e5b-442f-6716-948fc4646a36/volume/wxpython_1547931203930/work/ext/wxWidgets/src/common/wincmn.cpp(478) in ~wxWindowBase(): any pushed event handlers must have been removed\n",
      "\n",
      "The above exception was the direct cause of the following exception:\n",
      "\n",
      "SystemError: <class 'wx._core.WindowDestroyEvent'> returned a result with an error set\n",
      "wx._core.wxAssertionError: C++ assertion \"GetEventHandler() == this\" failed at /opt/concourse/worker/volumes/live/3ef8f33f-8e5b-442f-6716-948fc4646a36/volume/wxpython_1547931203930/work/ext/wxWidgets/src/common/wincmn.cpp(478) in ~wxWindowBase(): any pushed event handlers must have been removed\n",
      "\n",
      "The above exception was the direct cause of the following exception:\n",
      "\n",
      "SystemError: <class 'wx._core.WindowDestroyEvent'> returned a result with an error set\n",
      "wx._core.wxAssertionError: C++ assertion \"GetEventHandler() == this\" failed at /opt/concourse/worker/volumes/live/3ef8f33f-8e5b-442f-6716-948fc4646a36/volume/wxpython_1547931203930/work/ext/wxWidgets/src/common/wincmn.cpp(478) in ~wxWindowBase(): any pushed event handlers must have been removed\n",
      "\n",
      "The above exception was the direct cause of the following exception:\n",
      "\n",
      "SystemError: <class 'wx._core.WindowDestroyEvent'> returned a result with an error set\n",
      "wx._core.wxAssertionError: C++ assertion \"GetEventHandler() == this\" failed at /opt/concourse/worker/volumes/live/3ef8f33f-8e5b-442f-6716-948fc4646a36/volume/wxpython_1547931203930/work/ext/wxWidgets/src/common/wincmn.cpp(478) in ~wxWindowBase(): any pushed event handlers must have been removed\n",
      "\n",
      "The above exception was the direct cause of the following exception:\n",
      "\n",
      "SystemError: <class 'wx._core.WindowDestroyEvent'> returned a result with an error set\n",
      "wx._core.wxAssertionError: C++ assertion \"GetEventHandler() == this\" failed at /opt/concourse/worker/volumes/live/3ef8f33f-8e5b-442f-6716-948fc4646a36/volume/wxpython_1547931203930/work/ext/wxWidgets/src/common/wincmn.cpp(478) in ~wxWindowBase(): any pushed event handlers must have been removed\n",
      "\n",
      "The above exception was the direct cause of the following exception:\n",
      "\n",
      "SystemError: <class 'wx._core.WindowDestroyEvent'> returned a result with an error set\n",
      "DEBUG:PYME.LMVis.shader_programs.ShaderProgramFactory:New shader program created: <class 'PYME.LMVis.shader_programs.GouraudShaderProgram.GouraudShaderProgram'>\n"
     ]
    },
    {
     "name": "stdout",
     "output_type": "stream",
     "text": [
      "Input datasources:  ['_Localizations', 'FitResults', 'octree0']\n",
      "Isosurface generated, adding layer\n",
      "lw update\n",
      "Disposing of HistLimitsEditor\n",
      "Creating layers GUI\n",
      "hl update\n"
     ]
    },
    {
     "name": "stderr",
     "output_type": "stream",
     "text": [
      "ERROR:traitsui.wx.toolkit:Wx control <traitsui.wx.helper.TraitsUIPanel object at 0x7f89f82b77d0> not destroyed cleanly\n",
      "Traceback (most recent call last):\n",
      "  File \"/opt/miniconda3/envs/pyme/lib/python3.7/site-packages/traitsui/wx/toolkit.py\", line 436, in _destroy_control\n",
      "    control.Destroy()\n",
      "  File \"/opt/miniconda3/envs/pyme/lib/python3.7/site-packages/traitsui/wx/helper.py\", line 326, in Destroy\n",
      "    self.Unbind(wx.EVT_CHILD_FOCUS)\n",
      "  File \"/opt/miniconda3/envs/pyme/lib/python3.7/site-packages/wx/core.py\", line 1416, in _EvtHandler_Unbind\n",
      "    return event.Unbind(self, id, id2, handler)\n",
      "  File \"/opt/miniconda3/envs/pyme/lib/python3.7/site-packages/wx/core.py\", line 1485, in Unbind\n",
      "    success += int(target.Disconnect(id1, id2, et, handler))\n",
      "RuntimeError: wrapped C/C++ object of type TraitsUIPanel has been deleted\n"
     ]
    },
    {
     "name": "stdout",
     "output_type": "stream",
     "text": [
      "hl update\n",
      "height:  335\n",
      "NB best size: wx.Size(280, 618)\n",
      "Isosurface layer added\n"
     ]
    },
    {
     "name": "stderr",
     "output_type": "stream",
     "text": [
      "DEBUG:PYME.LMVis.shader_programs.ShaderProgramFactory:New shader program created: <class 'PYME.LMVis.shader_programs.WireFrameShaderProgram.WireFrameShaderProgram'>\n"
     ]
    },
    {
     "name": "stdout",
     "output_type": "stream",
     "text": [
      "lw update\n",
      "lw update\n"
     ]
    },
    {
     "name": "stderr",
     "output_type": "stream",
     "text": [
      "ERROR:traits:Exception occurred in traits notification handler for object: <PYME.LMVis.layers.pointcloud.PointCloudRenderLayer object at 0x7f89f7d68e90>, trait: visible, old value: True, new value: False\n",
      "Traceback (most recent call last):\n",
      "  File \"/opt/miniconda3/envs/pyme/lib/python3.7/site-packages/traits/trait_notifiers.py\", line 524, in _dispatch_change_event\n",
      "    self.dispatch(handler, *args)\n",
      "  File \"/opt/miniconda3/envs/pyme/lib/python3.7/site-packages/traits/trait_notifiers.py\", line 486, in dispatch\n",
      "    handler(*args)\n",
      "  File \"/Users/zrc4/Code/python-microscopy/PYME/LMVis/layers/pointcloud.py\", line 139, in <lambda>\n",
      "    self.on_trait_change(lambda: self.on_update.send(self), 'visible')\n",
      "  File \"/Users/zrc4/Code/python-microscopy/PYME/contrib/dispatch/dispatcher.py\", line 174, in send\n",
      "    for receiver in self._live_receivers(sender)\n",
      "  File \"/Users/zrc4/Code/python-microscopy/PYME/contrib/dispatch/dispatcher.py\", line 174, in <listcomp>\n",
      "    for receiver in self._live_receivers(sender)\n",
      "  File \"/Users/zrc4/Code/python-microscopy/PYME/ui/custom_traits_editors.py\", line 465, in n_update\n",
      "    self.update_editor()\n",
      "  File \"/Users/zrc4/Code/python-microscopy/PYME/ui/custom_traits_editors.py\", line 477, in update_editor\n",
      "    self.control.SetData(self.factory.data(), *self.value)\n",
      "AttributeError: 'NoneType' object has no attribute 'SetData'\n",
      "ERROR:traits:Exception occurred in traits notification handler for object: <PYME.LMVis.layers.pointcloud.PointCloudRenderLayer object at 0x7f89f7d68e90>, trait: visible, old value: True, new value: False\n",
      "Traceback (most recent call last):\n",
      "  File \"/opt/miniconda3/envs/pyme/lib/python3.7/site-packages/traits/trait_notifiers.py\", line 524, in _dispatch_change_event\n",
      "    self.dispatch(handler, *args)\n",
      "  File \"/opt/miniconda3/envs/pyme/lib/python3.7/site-packages/traits/trait_notifiers.py\", line 486, in dispatch\n",
      "    handler(*args)\n",
      "  File \"/Users/zrc4/Code/python-microscopy/PYME/ui/layerFoldPanel.py\", line 118, in _refresh\n",
      "    self.Refresh()\n",
      "RuntimeError: wrapped C/C++ object of type LayerCaptionBar has been deleted\n"
     ]
    },
    {
     "name": "stdout",
     "output_type": "stream",
     "text": [
      "hl update\n"
     ]
    }
   ],
   "source": [
    "import numpy as np\n",
    "from PYME.IO import tabular\n",
    "\n",
    "def add_ds_from_Nx3(points, pipeline, pymevis, ds_name='points', color=None, normals=None):\n",
    "    \"\"\"\n",
    "    Quickly add points/normals to the pipeline and pymevis display.\n",
    "    \"\"\"\n",
    "    \n",
    "    d = {'x': points[:,0], 'y': points[:,1], 'z': points[:,2]}\n",
    "    \n",
    "    if color is not None:\n",
    "        d['c'] = color\n",
    "        \n",
    "    if normals is not None:\n",
    "        d['xn'] = normals[:,0]\n",
    "        d['yn'] = normals[:,1]\n",
    "        d['zn'] = normals[:,2]\n",
    "\n",
    "    # create tabular mappingFilter data source and add it to pymevis\n",
    "    pipeline.addDataSource(ds_name, tabular.mappingFilter(d))\n",
    "\n",
    "    # select this data source (optional, but helps support \"default behavior\")\n",
    "    pipeline.selectDataSource(ds_name)\n",
    "\n",
    "    # Add a pointcloud layer that displays data source named 'points' (the one we just added)\n",
    "    pymevis.add_pointcloud_layer(ds_name=ds_name)\n",
    "    \n",
    "    if normals is not None:\n",
    "        pymevis.glCanvas.layers[-1].display_normals=True"
   ]
  },
  {
   "cell_type": "code",
   "execution_count": null,
   "id": "699c04ee-a63e-426a-a661-8176c18056a7",
   "metadata": {},
   "outputs": [],
   "source": [
    "from ch_shrinkwrap import shape, sdf\n",
    "\n",
    "sp = shape.Sphere(10)\n",
    "pts = sp.points()\n",
    "n = sdf.sdf_normals(pts.T, sp.sdf).T\n",
    "add_ds_from_Nx3(pts, pipeline, pymevis, normals=n)"
   ]
  },
  {
   "cell_type": "code",
   "execution_count": 4,
   "id": "0a516738-28e7-4389-9706-6e254d9e9fc5",
   "metadata": {},
   "outputs": [
    {
     "name": "stderr",
     "output_type": "stream",
     "text": [
      "/Users/zrc4/Code/python-microscopy/PYME/IO/tabular.py:48: VisibleDeprecationWarning: mappingFilter is deprecated, use MappingFilter instead\n",
      "  warnings.warn(VisibleDeprecationWarning('%s is deprecated, use %s instead' % (name, cls.__name__)))\n",
      "/Users/zrc4/Code/python-microscopy/PYME/IO/tabular.py:957: VisibleDeprecationWarning: Mapping filter created with something that is not a tabular object. This will be unsupported in a future release. Consider DictSource or ColumnSource instead\n",
      "  warnings.warn(VisibleDeprecationWarning('Mapping filter created with something that is not a tabular object. This will be unsupported in a future release. Consider DictSource or ColumnSource instead'))\n",
      "ERROR:traits:Exception occurred in traits notification handler for object: <PYME.LMVis.layers.pointcloud.PointCloudRenderLayer object at 0x7f89f7d68e90>, trait: _datasource_choices, old value: ['output', 'output.chan0', '_Localizations', 'FitResults', 'Localizations', 'colour_mapped', 'filtered_localizations', 'octree0', 'surf0'], new value: ['output', '_Localizations', 'FitResults', 'Localizations', 'colour_mapped', 'filtered_localizations', 'octree0', 'surf0', 'points']\n",
      "Traceback (most recent call last):\n",
      "  File \"/opt/miniconda3/envs/pyme/lib/python3.7/site-packages/traits/trait_notifiers.py\", line 524, in _dispatch_change_event\n",
      "    self.dispatch(handler, *args)\n",
      "  File \"/opt/miniconda3/envs/pyme/lib/python3.7/site-packages/traits/trait_notifiers.py\", line 486, in dispatch\n",
      "    handler(*args)\n",
      "  File \"/Users/zrc4/Code/python-microscopy/PYME/ui/layerFoldPanel.py\", line 118, in _refresh\n",
      "    self.Refresh()\n",
      "RuntimeError: wrapped C/C++ object of type LayerCaptionBar has been deleted\n",
      "ERROR:traits:Exception occurred in traits notification handler for object: <PYME.LMVis.layers.pointcloud.PointCloudRenderLayer object at 0x7f89f7d68e90>, trait: _datasource_keys, old value: ['ColourNorm', 'accum', 'accuracy', 'amp', 'background11', 'background12', 'background21', 'background22', 'chisq', 'clusterID', 'customconfidence1', 'customconfidence2', 'customconfidence3', 'cycle', 'driftx', 'drifty', 'driftz', 'error_x', 'fiducial', 'focus', 'frame', 'imageID', 'llr', 'loglikelihood', 'maxResidualSlope', 'p_chan0', 'photoncount', 'photoncount11', 'photoncount12', 'photoncount21', 'photoncount22', 'precisionx', 'precisiony', 'precisionz', 'probe', 'psfphotoncount', 'psfx', 'psfy', 'psfz', 'stdev', 't', 'timepoint', 'x', 'x_raw', 'y', 'y_raw', 'z', 'z_raw', 'zstep'], new value: ['focus', 'x', 'x_raw', 'xn', 'y', 'y_raw', 'yn', 'z', 'z_raw', 'zn']\n",
      "Traceback (most recent call last):\n",
      "  File \"/opt/miniconda3/envs/pyme/lib/python3.7/site-packages/traits/trait_notifiers.py\", line 524, in _dispatch_change_event\n",
      "    self.dispatch(handler, *args)\n",
      "  File \"/opt/miniconda3/envs/pyme/lib/python3.7/site-packages/traits/trait_notifiers.py\", line 486, in dispatch\n",
      "    handler(*args)\n",
      "  File \"/Users/zrc4/Code/python-microscopy/PYME/ui/layerFoldPanel.py\", line 118, in _refresh\n",
      "    self.Refresh()\n",
      "RuntimeError: wrapped C/C++ object of type LayerCaptionBar has been deleted\n"
     ]
    },
    {
     "name": "stdout",
     "output_type": "stream",
     "text": [
      "lw update\n",
      "lw update\n",
      "lw update\n",
      "lw update\n",
      "Disposing of HistLimitsEditor\n",
      "Disposing of HistLimitsEditor\n",
      "Creating layers GUI\n",
      "hl update\n",
      "hl update\n"
     ]
    },
    {
     "name": "stderr",
     "output_type": "stream",
     "text": [
      "DEBUG:PYME.LMVis.visCore:Added layer, datasouce=points\n"
     ]
    },
    {
     "name": "stdout",
     "output_type": "stream",
     "text": [
      "hl update\n",
      "height:  360\n",
      "NB best size: wx.Size(280, 922)\n"
     ]
    },
    {
     "name": "stderr",
     "output_type": "stream",
     "text": [
      "ERROR:traitsui.wx.toolkit:Wx control <traitsui.wx.helper.TraitsUIPanel object at 0x7f89d89fe9b0> not destroyed cleanly\n",
      "Traceback (most recent call last):\n",
      "  File \"/opt/miniconda3/envs/pyme/lib/python3.7/site-packages/traitsui/wx/toolkit.py\", line 436, in _destroy_control\n",
      "    control.Destroy()\n",
      "  File \"/opt/miniconda3/envs/pyme/lib/python3.7/site-packages/traitsui/wx/helper.py\", line 326, in Destroy\n",
      "    self.Unbind(wx.EVT_CHILD_FOCUS)\n",
      "  File \"/opt/miniconda3/envs/pyme/lib/python3.7/site-packages/wx/core.py\", line 1416, in _EvtHandler_Unbind\n",
      "    return event.Unbind(self, id, id2, handler)\n",
      "  File \"/opt/miniconda3/envs/pyme/lib/python3.7/site-packages/wx/core.py\", line 1485, in Unbind\n",
      "    success += int(target.Disconnect(id1, id2, et, handler))\n",
      "RuntimeError: wrapped C/C++ object of type TraitsUIPanel has been deleted\n",
      "ERROR:traitsui.wx.toolkit:Wx control <traitsui.wx.helper.TraitsUIPanel object at 0x7f89db0abb90> not destroyed cleanly\n",
      "Traceback (most recent call last):\n",
      "  File \"/opt/miniconda3/envs/pyme/lib/python3.7/site-packages/traitsui/wx/toolkit.py\", line 436, in _destroy_control\n",
      "    control.Destroy()\n",
      "  File \"/opt/miniconda3/envs/pyme/lib/python3.7/site-packages/traitsui/wx/helper.py\", line 326, in Destroy\n",
      "    self.Unbind(wx.EVT_CHILD_FOCUS)\n",
      "  File \"/opt/miniconda3/envs/pyme/lib/python3.7/site-packages/wx/core.py\", line 1416, in _EvtHandler_Unbind\n",
      "    return event.Unbind(self, id, id2, handler)\n",
      "  File \"/opt/miniconda3/envs/pyme/lib/python3.7/site-packages/wx/core.py\", line 1485, in Unbind\n",
      "    success += int(target.Disconnect(id1, id2, et, handler))\n",
      "RuntimeError: wrapped C/C++ object of type TraitsUIPanel has been deleted\n",
      "ERROR:traits:Exception occurred in traits notification handler for object: <PYME.LMVis.layers.mesh.TriangleRenderLayer object at 0x7f89f78daa70>, trait: visible, old value: True, new value: False\n",
      "Traceback (most recent call last):\n",
      "  File \"/opt/miniconda3/envs/pyme/lib/python3.7/site-packages/traits/trait_notifiers.py\", line 524, in _dispatch_change_event\n",
      "    self.dispatch(handler, *args)\n",
      "  File \"/opt/miniconda3/envs/pyme/lib/python3.7/site-packages/traits/trait_notifiers.py\", line 486, in dispatch\n",
      "    handler(*args)\n",
      "  File \"/Users/zrc4/Code/python-microscopy/PYME/ui/layerFoldPanel.py\", line 118, in _refresh\n",
      "    self.Refresh()\n",
      "RuntimeError: wrapped C/C++ object of type LayerCaptionBar has been deleted\n",
      "/Users/zrc4/Code/python-microscopy/PYME/LMVis/view_clipping_pane.py:207: wxPyDeprecationWarning: Call to deprecated item EmptyBitmap. Use :class:`wx.Bitmap` instead\n",
      "  MemBitmap = wx.EmptyBitmap(s.GetWidth(), s.GetHeight())\n"
     ]
    },
    {
     "name": "stdout",
     "output_type": "stream",
     "text": [
      "lw update\n",
      "hl update\n"
     ]
    },
    {
     "name": "stderr",
     "output_type": "stream",
     "text": [
      "ERROR:traits:Exception occurred in traits notification handler for object: <PYME.LMVis.layers.mesh.TriangleRenderLayer object at 0x7f89f78daa70>, trait: visible, old value: False, new value: True\n",
      "Traceback (most recent call last):\n",
      "  File \"/opt/miniconda3/envs/pyme/lib/python3.7/site-packages/traits/trait_notifiers.py\", line 524, in _dispatch_change_event\n",
      "    self.dispatch(handler, *args)\n",
      "  File \"/opt/miniconda3/envs/pyme/lib/python3.7/site-packages/traits/trait_notifiers.py\", line 486, in dispatch\n",
      "    handler(*args)\n",
      "  File \"/Users/zrc4/Code/python-microscopy/PYME/ui/layerFoldPanel.py\", line 118, in _refresh\n",
      "    self.Refresh()\n",
      "RuntimeError: wrapped C/C++ object of type LayerCaptionBar has been deleted\n",
      "ERROR:traits:Exception occurred in traits notification handler for object: <PYME.LMVis.layers.mesh.TriangleRenderLayer object at 0x7f89f78daa70>, trait: alpha, old value: 1.0, new value: 0.5\n",
      "Traceback (most recent call last):\n",
      "  File \"/opt/miniconda3/envs/pyme/lib/python3.7/site-packages/traits/trait_notifiers.py\", line 524, in _dispatch_change_event\n",
      "    self.dispatch(handler, *args)\n",
      "  File \"/opt/miniconda3/envs/pyme/lib/python3.7/site-packages/traits/trait_notifiers.py\", line 486, in dispatch\n",
      "    handler(*args)\n",
      "  File \"/Users/zrc4/Code/python-microscopy/PYME/ui/layerFoldPanel.py\", line 118, in _refresh\n",
      "    self.Refresh()\n",
      "RuntimeError: wrapped C/C++ object of type LayerCaptionBar has been deleted\n",
      "DEBUG:PYME.LMVis.shader_programs.ShaderProgramFactory:New shader program created: <class 'PYME.LMVis.shader_programs.GouraudShaderProgram.OITGouraudShaderProgram'>\n",
      "DEBUG:PYME.LMVis.shader_programs.ShaderProgramFactory:New shader program created: <class 'PYME.LMVis.shader_programs.oit_compositor.OITCompositorProgram'>\n"
     ]
    },
    {
     "name": "stdout",
     "output_type": "stream",
     "text": [
      "lw update\n"
     ]
    },
    {
     "name": "stderr",
     "output_type": "stream",
     "text": [
      "wx._core.wxAssertionError: C++ assertion \"GetEventHandler() == this\" failed at /opt/concourse/worker/volumes/live/3ef8f33f-8e5b-442f-6716-948fc4646a36/volume/wxpython_1547931203930/work/ext/wxWidgets/src/common/wincmn.cpp(478) in ~wxWindowBase(): any pushed event handlers must have been removed\n",
      "\n",
      "The above exception was the direct cause of the following exception:\n",
      "\n",
      "SystemError: <class 'wx._core.TimerEvent'> returned a result with an error set\n"
     ]
    }
   ],
   "source": [
    "from ch_shrinkwrap import evaluation_utils\n",
    "\n",
    "pts,n = evaluation_utils.points_from_mesh(pipeline.dataSources['surf0'], dx_min=50, normals=True)\n",
    "add_ds_from_Nx3(pts, pipeline, pymevis, normals=n)"
   ]
  },
  {
   "cell_type": "code",
   "execution_count": null,
   "id": "5f3da96f-a2e5-4f60-af54-70e82672e4d2",
   "metadata": {},
   "outputs": [],
   "source": [
    "pipeline.dataSources['surf0'].bbox"
   ]
  },
  {
   "cell_type": "code",
   "execution_count": null,
   "id": "c848bc43-af48-4cff-bde8-89cbcd4f7240",
   "metadata": {},
   "outputs": [],
   "source": []
  }
 ],
 "metadata": {
  "kernelspec": {
   "display_name": "pyme",
   "language": "python",
   "name": "pyme"
  },
  "language_info": {
   "codemirror_mode": {
    "name": "ipython",
    "version": 3
   },
   "file_extension": ".py",
   "mimetype": "text/x-python",
   "name": "python",
   "nbconvert_exporter": "python",
   "pygments_lexer": "ipython3",
   "version": "3.7.6"
  }
 },
 "nbformat": 4,
 "nbformat_minor": 5
}
