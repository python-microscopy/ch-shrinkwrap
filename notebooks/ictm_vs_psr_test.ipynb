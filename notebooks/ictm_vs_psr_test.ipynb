{
 "cells": [
  {
   "cell_type": "code",
   "execution_count": 1,
   "id": "1a92427e",
   "metadata": {},
   "outputs": [
    {
     "name": "stdout",
     "output_type": "stream",
     "text": [
      "Trying to load 3rd party recipe module ch_shrinkwrap.recipe_modules.surface_fitting\n",
      "Loaded 3rd party recipe module ch_shrinkwrap.recipe_modules.surface_fitting\n",
      "quaternion module not found, disabling custom clip plane orientations\n",
      "quaternion module not found, disabling custom clip plane orientations\n"
     ]
    }
   ],
   "source": [
    "from PYME.LMVis import VisGUI\n",
    "\n",
    "%gui wx"
   ]
  },
  {
   "cell_type": "code",
   "execution_count": 2,
   "id": "133d7954",
   "metadata": {},
   "outputs": [
    {
     "name": "stderr",
     "output_type": "stream",
     "text": [
      "DEBUG:PYME.LMVis.visCore:Creating VisGUI menu bar\n",
      "DEBUG:PYME.LMVis.Extras:Initializing QPobjectSegment plugin\n",
      "DEBUG:PYME.LMVis.Extras:Initializing animation plugin\n",
      "DEBUG:PYME.LMVis.Extras:Initializing clusterAnalysis plugin\n",
      "DEBUG:PYME.LMVis.Extras:Initializing dockedPanel plugin\n",
      "DEBUG:PYME.LMVis.Extras:Initializing extra_layers plugin\n",
      "DEBUG:PYME.LMVis.Extras:Initializing fiducial plugin\n",
      "DEBUG:PYME.LMVis.Extras:Initializing flagZMotionArtifacts plugin\n",
      "DEBUG:root:Adding menu items for event filters\n",
      "DEBUG:PYME.LMVis.Extras:Initializing fusionUtils plugin\n",
      "DEBUG:PYME.LMVis.Extras:Initializing multiColourAnalysis plugin\n",
      "DEBUG:PYME.LMVis.Extras:Initializing multiviewMapping plugin\n",
      "DEBUG:root:Adding menu items for multi-view manipulation\n",
      "DEBUG:PYME.LMVis.Extras:Initializing objectMeasurements plugin\n",
      "DEBUG:PYME.LMVis.Extras:Initializing particleTracking plugin\n",
      "DEBUG:PYME.LMVis.Extras:Initializing perFrameVariable plugin\n",
      "DEBUG:PYME.LMVis.Extras:Initializing photophysics plugin\n",
      "DEBUG:PYME.LMVis.Extras:Initializing pointSetGeneration plugin\n",
      "DEBUG:PYME.LMVis.Extras:Initializing pointwiseColoc plugin\n",
      "DEBUG:PYME.LMVis.Extras:Initializing saved_views plugin\n",
      "DEBUG:PYME.LMVis.Extras:Initializing scaleBox plugin\n"
     ]
    },
    {
     "name": "stdout",
     "output_type": "stream",
     "text": [
      "New Canvas\n",
      "Saved Views are deprecated -  use the ones with animation instead and remove me!\n"
     ]
    },
    {
     "name": "stderr",
     "output_type": "stream",
     "text": [
      "DEBUG:PYME.LMVis.Extras:Initializing sequentialSpecies plugin\n",
      "DEBUG:PYME.LMVis.Extras:Initializing setBGImage plugin\n",
      "DEBUG:PYME.LMVis.Extras:Initializing shiftmapGenerator plugin\n",
      "DEBUG:PYME.LMVis.Extras:Initializing showShortcuts plugin\n",
      "DEBUG:PYME.LMVis.Extras:Initializing snapshot plugin\n",
      "DEBUG:PYME.LMVis.Extras:Initializing spherical_harmonics plugin\n",
      "DEBUG:root:Adding menu items for spherical harmonic (shell) fitting\n",
      "DEBUG:PYME.LMVis.Extras:Initializing subsets plugin\n",
      "DEBUG:PYME.LMVis.Extras:Initializing surface_fitting plugin\n",
      "DEBUG:PYME.LMVis.Extras:Initializing temperaturePlot plugin\n",
      "DEBUG:PYME.LMVis.Extras:Initializing vibration plugin\n",
      "DEBUG:PYME.LMVis.shader_programs.ShaderProgramFactory:New shader program created: <class 'PYME.LMVis.shader_programs.DefaultShaderProgram.DefaultShaderProgram'>\n"
     ]
    },
    {
     "name": "stdout",
     "output_type": "stream",
     "text": [
      "Creating fold panel\n",
      "GenPanels\n",
      "Creating datasource panel\n",
      "RecipeView._layout\n",
      "Input datasources:  []\n",
      "Image list size: 1\n",
      "Creating layers GUI\n",
      "height:  0\n",
      "NB best size: wx.Size(200, 0)\n",
      "RecipeView._layout\n",
      "Input datasources:  []\n",
      "recipe.execute()\n",
      "RecipeView._layout\n",
      "Input datasources:  []\n",
      "0\n",
      "OpenGL - Version: b'2.1 INTEL-14.7.18'\n",
      "Shader - Version: b'1.20'\n",
      "GL_MAX_SAMPLES: 8, GL_SAMPLES: 4\n",
      "Ev Idle\n",
      "('points', 't')\n",
      "refreshed\n"
     ]
    }
   ],
   "source": [
    "pymevis = VisGUI.ipython_pymevisualize()\n",
    "pipeline = pymevis.pipeline\n",
    "\n",
    "import numpy as np\n",
    "import os"
   ]
  },
  {
   "cell_type": "code",
   "execution_count": 3,
   "id": "a87d7fa6",
   "metadata": {},
   "outputs": [],
   "source": [
    "\"\"\"\n",
    "This compares ICTM mesh quality as a function of parameters.\n",
    "\"\"\"\n",
    "\n",
    "# Where to save the intermediate files generated \n",
    "save_fp = '/Users/zrc4/Downloads/test_ictm_7'\n",
    "if not os.path.exists(save_fp):\n",
    "    os.mkdir(save_fp)\n",
    "\n",
    "# three way junction generation parameters\n",
    "centroid = np.array([0,0,0])\n",
    "h, r = 500, 50       # capsule length, capsule radius\n",
    "smoothing = r      # ~h/2 creates a three-way junction with a \"sheet\" (but it's puffy like seaweed)\n",
    "# loc precision\n",
    "psf_width = 250.0\n",
    "mean_photon_count = 300.0\n",
    "\n",
    "# octree-based reconstruction parameters\n",
    "cull_inner_surfaces = True\n",
    "n_points_min =30\n",
    "remesh = True\n",
    "repair = False\n",
    "smooth_curvature = True\n",
    "density = 6e-6\n",
    "\n",
    "# screened poisson reconstruction parameters\n",
    "fulldepth=5\n"
   ]
  },
  {
   "cell_type": "code",
   "execution_count": 4,
   "id": "1d155a90",
   "metadata": {},
   "outputs": [],
   "source": [
    "\"\"\"\n",
    "Generate three-way junction\n",
    "\"\"\"\n",
    "\n",
    "from ch_shrinkwrap.shape import ThreeWayJunction\n",
    "\n",
    "twj = ThreeWayJunction(h, r, centroid, smoothing)"
   ]
  },
  {
   "cell_type": "code",
   "execution_count": 6,
   "id": "a0794f0d",
   "metadata": {},
   "outputs": [],
   "source": [
    "\"\"\"\n",
    "Generate and save three-way junction ponts\n",
    "\"\"\"\n",
    "import time\n",
    "\n",
    "from ch_shrinkwrap import util\n",
    "\n",
    "cap_points = twj.points(p=0.001, psf_width=psf_width, mean_photon_count=mean_photon_count, resample=True)\n",
    "cap_sigma = twj._noise\n",
    "\n",
    "no = 0.1\n",
    "scale = 1.2\n",
    "bbox = [np.min(cap_points[:,0]), np.min(cap_points[:,1]), \n",
    "        np.min(cap_points[:,2]), np.max(cap_points[:,0]),\n",
    "        np.max(cap_points[:,1]), np.max(cap_points[:,2])]\n",
    "bbox = [scale*x for x in bbox]\n",
    "xl, yl, zl, xu, yu, zu = bbox\n",
    "xn, yn, zn = xu-xl, yu-yl, zu-zl\n",
    "ln = int(no*len(cap_points)/(1.0-no))\n",
    "noise_points = np.random.rand(ln,3)*(np.array([xn,yn,zn])[None,:]) + (np.array([xl,yl,zl])[None,:])\n",
    "noise_sigma = util.noise(noise_points.shape, model='poisson', psf_width=psf_width, mean_photon_count=mean_photon_count)\n",
    "\n",
    "points = np.vstack([cap_points,noise_points])\n",
    "sigma = np.vstack([cap_sigma,noise_sigma])\n",
    "s = np.sqrt((sigma*sigma).sum(1))\n",
    "\n",
    "points_time = time.strftime('%Y%d%m_%HH%M')\n",
    "points_fn = f\"twj_h{h}_r{r}_smoothing{smoothing}_{points_time}\".replace('.','_')+\".txt\"\n",
    "points_fp = save_fp + '/' + points_fn\n",
    "np.savetxt(points_fp, np.vstack([points.T,s]).T, header=\"x y z sigma\")"
   ]
  },
  {
   "cell_type": "code",
   "execution_count": 8,
   "id": "4ca3c0f1",
   "metadata": {},
   "outputs": [
    {
     "name": "stdout",
     "output_type": "stream",
     "text": [
      "Creating Pipeline\n"
     ]
    },
    {
     "name": "stderr",
     "output_type": "stream",
     "text": [
      "DEBUG:PYME.LMVis.shader_programs.ShaderProgramFactory:New shader program created: <class 'PYME.LMVis.shader_programs.DefaultShaderProgram.OpaquePointShaderProgram'>\n",
      "DEBUG:PYME.LMVis.visCore:Added layer, datasouce=output\n"
     ]
    },
    {
     "name": "stdout",
     "output_type": "stream",
     "text": [
      "lw update\n",
      "Creating layers GUI\n",
      "hl update\n",
      "height:  308\n",
      "NB best size: wx.Size(243, 308)\n",
      "lw update\n",
      "hl update\n",
      "hl update\n"
     ]
    },
    {
     "ename": "TypeError",
     "evalue": "OpenFile() argument after ** must be a mapping, not NoneType",
     "output_type": "error",
     "traceback": [
      "\u001b[0;31m---------------------------------------------------------------------------\u001b[0m",
      "\u001b[0;31mTypeError\u001b[0m                                 Traceback (most recent call last)",
      "\u001b[0;32m/var/folders/g9/tj_thbrx23qcft96nq5j5d4sx7_5b_/T/ipykernel_51489/845216051.py\u001b[0m in \u001b[0;36m<module>\u001b[0;34m\u001b[0m\n\u001b[1;32m      1\u001b[0m \u001b[0;31m# Now we need PYMEVis\u001b[0m\u001b[0;34m\u001b[0m\u001b[0;34m\u001b[0m\u001b[0;34m\u001b[0m\u001b[0m\n\u001b[0;32m----> 2\u001b[0;31m \u001b[0mpymevis\u001b[0m\u001b[0;34m.\u001b[0m\u001b[0mOpenFile\u001b[0m\u001b[0;34m(\u001b[0m\u001b[0mpoints_fp\u001b[0m\u001b[0;34m)\u001b[0m\u001b[0;34m\u001b[0m\u001b[0;34m\u001b[0m\u001b[0m\n\u001b[0m\u001b[1;32m      3\u001b[0m \u001b[0;34m\u001b[0m\u001b[0m\n\u001b[1;32m      4\u001b[0m \u001b[0;31m# Octree renderer (original mesh based on parameters above)\u001b[0m\u001b[0;34m\u001b[0m\u001b[0;34m\u001b[0m\u001b[0;34m\u001b[0m\u001b[0m\n\u001b[1;32m      5\u001b[0m \u001b[0;32mfrom\u001b[0m \u001b[0mPYME\u001b[0m\u001b[0;34m.\u001b[0m\u001b[0mLMVis\u001b[0m\u001b[0;34m.\u001b[0m\u001b[0mExtras\u001b[0m\u001b[0;34m.\u001b[0m\u001b[0mextra_layers\u001b[0m \u001b[0;32mimport\u001b[0m \u001b[0mgen_octree_from_points\u001b[0m\u001b[0;34m\u001b[0m\u001b[0;34m\u001b[0m\u001b[0m\n",
      "\u001b[0;32m~/Code/python-microscopy/PYME/LMVis/visCore.py\u001b[0m in \u001b[0;36mOpenFile\u001b[0;34m(self, filename, recipe_callback)\u001b[0m\n\u001b[1;32m    753\u001b[0m         \u001b[0;32melse\u001b[0m\u001b[0;34m:\u001b[0m\u001b[0;34m\u001b[0m\u001b[0;34m\u001b[0m\u001b[0m\n\u001b[1;32m    754\u001b[0m             \u001b[0margs\u001b[0m \u001b[0;34m=\u001b[0m \u001b[0mself\u001b[0m\u001b[0;34m.\u001b[0m\u001b[0m_populate_open_args\u001b[0m\u001b[0;34m(\u001b[0m\u001b[0mfilename\u001b[0m\u001b[0;34m)\u001b[0m\u001b[0;34m\u001b[0m\u001b[0;34m\u001b[0m\u001b[0m\n\u001b[0;32m--> 755\u001b[0;31m             \u001b[0mself\u001b[0m\u001b[0;34m.\u001b[0m\u001b[0mpipeline\u001b[0m\u001b[0;34m.\u001b[0m\u001b[0mOpenFile\u001b[0m\u001b[0;34m(\u001b[0m\u001b[0mfilename\u001b[0m\u001b[0;34m,\u001b[0m \u001b[0;34m**\u001b[0m\u001b[0margs\u001b[0m\u001b[0;34m)\u001b[0m\u001b[0;34m\u001b[0m\u001b[0;34m\u001b[0m\u001b[0m\n\u001b[0m\u001b[1;32m    756\u001b[0m         \u001b[0mprint\u001b[0m\u001b[0;34m(\u001b[0m\u001b[0;34m'Pipeline Created'\u001b[0m\u001b[0;34m)\u001b[0m\u001b[0;34m\u001b[0m\u001b[0;34m\u001b[0m\u001b[0m\n\u001b[1;32m    757\u001b[0m \u001b[0;34m\u001b[0m\u001b[0m\n",
      "\u001b[0;31mTypeError\u001b[0m: OpenFile() argument after ** must be a mapping, not NoneType"
     ]
    }
   ],
   "source": [
    "# Now we need PYMEVis\n",
    "pymevis.OpenFile(points_fp)\n",
    "\n",
    "# Octree renderer (original mesh based on parameters above)\n",
    "from PYME.LMVis.Extras.extra_layers import gen_octree_from_points\n",
    "from PYME.recipes.surface_fitting import DualMarchingCubes\n",
    "\n",
    "oc_name = gen_octree_from_points(pymevis)\n",
    "surf_name, surf_count = pipeline.new_ds_name('surf', return_count=True)\n",
    "\n",
    "recipe = pipeline.recipe\n",
    "dmc = DualMarchingCubes(recipe, invalidate_parent=False, input=oc_name, output=surf_name,\n",
    "                       threshold_density=density, n_points_min=n_points_min, remesh=remesh,\n",
    "                       repair=repair, cull_inner_surfaces=cull_inner_surfaces, smooth_curvature=smooth_curvature)\n",
    "recipe.add_modules_and_execute([dmc,])\n",
    "\n",
    "octree_fp = points_fp.split('.txt')[0] + '_octree.stl'\n",
    "pipeline.dataSources[dmc.output].to_stl(octree_fp)"
   ]
  },
  {
   "cell_type": "code",
   "execution_count": 9,
   "id": "886cbbb9",
   "metadata": {},
   "outputs": [
    {
     "name": "stdout",
     "output_type": "stream",
     "text": [
      "Test Statistic 0.840491\n",
      "Test Statistic 0.871614\n",
      "Test Statistic 0.679361\n",
      "Test Statistic 0.533662\n",
      "Test Statistic 0.405705\n",
      "Test Statistic 0.278295\n",
      "Test Statistic 0.180041\n",
      "Test Statistic 0.088348\n",
      "Test Statistic 0.049986\n",
      "Test Statistic 0.029678\n"
     ]
    },
    {
     "name": "stderr",
     "output_type": "stream",
     "text": [
      "DEBUG:PYME.LMVis.shader_programs.ShaderProgramFactory:New shader program created: <class 'PYME.LMVis.shader_programs.GouraudShaderProgram.GouraudShaderProgram'>\n"
     ]
    },
    {
     "name": "stdout",
     "output_type": "stream",
     "text": [
      "Data munged to vertices, faces\n",
      "initializing halfedges ...\n",
      "vertices.shape = (199, 3), faces.shape = (394, 3)\n",
      "iterating edges\n",
      "done initializing halfedges\n",
      "lw update\n",
      "Disposing of HistLimitsEditor\n",
      "Creating layers GUI\n",
      "hl update\n"
     ]
    },
    {
     "name": "stderr",
     "output_type": "stream",
     "text": [
      "ERROR:traitsui.wx.toolkit:Wx control <traitsui.wx.helper.TraitsUIPanel object at 0x7fb5ae24cd70> not destroyed cleanly\n",
      "Traceback (most recent call last):\n",
      "  File \"/opt/miniconda3/envs/pyme/lib/python3.7/site-packages/traitsui/wx/toolkit.py\", line 436, in _destroy_control\n",
      "    control.Destroy()\n",
      "  File \"/opt/miniconda3/envs/pyme/lib/python3.7/site-packages/traitsui/wx/helper.py\", line 326, in Destroy\n",
      "    self.Unbind(wx.EVT_CHILD_FOCUS)\n",
      "  File \"/opt/miniconda3/envs/pyme/lib/python3.7/site-packages/wx/core.py\", line 1416, in _EvtHandler_Unbind\n",
      "    return event.Unbind(self, id, id2, handler)\n",
      "  File \"/opt/miniconda3/envs/pyme/lib/python3.7/site-packages/wx/core.py\", line 1485, in Unbind\n",
      "    success += int(target.Disconnect(id1, id2, et, handler))\n",
      "RuntimeError: wrapped C/C++ object of type TraitsUIPanel has been deleted\n"
     ]
    },
    {
     "name": "stdout",
     "output_type": "stream",
     "text": [
      "hl update\n",
      "height:  335\n",
      "NB best size: wx.Size(280, 618)\n"
     ]
    },
    {
     "name": "stderr",
     "output_type": "stream",
     "text": [
      "ERROR:traits:Exception occurred in traits notification handler for object: <PYME.LMVis.layers.pointcloud.PointCloudRenderLayer object at 0x7fb5aeef29b0>, trait: visible, old value: True, new value: False\n",
      "Traceback (most recent call last):\n",
      "  File \"/opt/miniconda3/envs/pyme/lib/python3.7/site-packages/traits/trait_notifiers.py\", line 524, in _dispatch_change_event\n",
      "    self.dispatch(handler, *args)\n",
      "  File \"/opt/miniconda3/envs/pyme/lib/python3.7/site-packages/traits/trait_notifiers.py\", line 486, in dispatch\n",
      "    handler(*args)\n",
      "  File \"/Users/zrc4/Code/python-microscopy/PYME/LMVis/layers/pointcloud.py\", line 138, in <lambda>\n",
      "    self.on_trait_change(lambda: self.on_update.send(self), 'visible')\n",
      "  File \"/Users/zrc4/Code/python-microscopy/PYME/contrib/dispatch/dispatcher.py\", line 174, in send\n",
      "    for receiver in self._live_receivers(sender)\n",
      "  File \"/Users/zrc4/Code/python-microscopy/PYME/contrib/dispatch/dispatcher.py\", line 174, in <listcomp>\n",
      "    for receiver in self._live_receivers(sender)\n",
      "  File \"/Users/zrc4/Code/python-microscopy/PYME/ui/custom_traits_editors.py\", line 472, in n_update\n",
      "    self.update_editor()\n",
      "  File \"/Users/zrc4/Code/python-microscopy/PYME/ui/custom_traits_editors.py\", line 484, in update_editor\n",
      "    self.control.SetData(self.factory.data(), *self.value)\n",
      "AttributeError: 'NoneType' object has no attribute 'SetData'\n",
      "ERROR:traits:Exception occurred in traits notification handler for object: <PYME.LMVis.layers.pointcloud.PointCloudRenderLayer object at 0x7fb5aeef29b0>, trait: visible, old value: True, new value: False\n",
      "Traceback (most recent call last):\n",
      "  File \"/opt/miniconda3/envs/pyme/lib/python3.7/site-packages/traits/trait_notifiers.py\", line 524, in _dispatch_change_event\n",
      "    self.dispatch(handler, *args)\n",
      "  File \"/opt/miniconda3/envs/pyme/lib/python3.7/site-packages/traits/trait_notifiers.py\", line 486, in dispatch\n",
      "    handler(*args)\n",
      "  File \"/Users/zrc4/Code/python-microscopy/PYME/ui/layerFoldPanel.py\", line 118, in _refresh\n",
      "    self.Refresh()\n",
      "RuntimeError: wrapped C/C++ object of type LayerCaptionBar has been deleted\n"
     ]
    },
    {
     "name": "stdout",
     "output_type": "stream",
     "text": [
      "hl update\n"
     ]
    },
    {
     "name": "stderr",
     "output_type": "stream",
     "text": [
      "ERROR:traits:Exception occurred in traits notification handler for object: <PYME.LMVis.layers.pointcloud.PointCloudRenderLayer object at 0x7fb5aeef29b0>, trait: visible, old value: False, new value: True\n",
      "Traceback (most recent call last):\n",
      "  File \"/opt/miniconda3/envs/pyme/lib/python3.7/site-packages/traits/trait_notifiers.py\", line 524, in _dispatch_change_event\n",
      "    self.dispatch(handler, *args)\n",
      "  File \"/opt/miniconda3/envs/pyme/lib/python3.7/site-packages/traits/trait_notifiers.py\", line 486, in dispatch\n",
      "    handler(*args)\n",
      "  File \"/Users/zrc4/Code/python-microscopy/PYME/LMVis/layers/pointcloud.py\", line 138, in <lambda>\n",
      "    self.on_trait_change(lambda: self.on_update.send(self), 'visible')\n",
      "  File \"/Users/zrc4/Code/python-microscopy/PYME/contrib/dispatch/dispatcher.py\", line 174, in send\n",
      "    for receiver in self._live_receivers(sender)\n",
      "  File \"/Users/zrc4/Code/python-microscopy/PYME/contrib/dispatch/dispatcher.py\", line 174, in <listcomp>\n",
      "    for receiver in self._live_receivers(sender)\n",
      "  File \"/Users/zrc4/Code/python-microscopy/PYME/ui/custom_traits_editors.py\", line 472, in n_update\n",
      "    self.update_editor()\n",
      "  File \"/Users/zrc4/Code/python-microscopy/PYME/ui/custom_traits_editors.py\", line 484, in update_editor\n",
      "    self.control.SetData(self.factory.data(), *self.value)\n",
      "AttributeError: 'NoneType' object has no attribute 'SetData'\n",
      "ERROR:traits:Exception occurred in traits notification handler for object: <PYME.LMVis.layers.pointcloud.PointCloudRenderLayer object at 0x7fb5aeef29b0>, trait: visible, old value: False, new value: True\n",
      "Traceback (most recent call last):\n",
      "  File \"/opt/miniconda3/envs/pyme/lib/python3.7/site-packages/traits/trait_notifiers.py\", line 524, in _dispatch_change_event\n",
      "    self.dispatch(handler, *args)\n",
      "  File \"/opt/miniconda3/envs/pyme/lib/python3.7/site-packages/traits/trait_notifiers.py\", line 486, in dispatch\n",
      "    handler(*args)\n",
      "  File \"/Users/zrc4/Code/python-microscopy/PYME/ui/layerFoldPanel.py\", line 118, in _refresh\n",
      "    self.Refresh()\n",
      "RuntimeError: wrapped C/C++ object of type LayerCaptionBar has been deleted\n"
     ]
    },
    {
     "name": "stdout",
     "output_type": "stream",
     "text": [
      "hl update\n"
     ]
    },
    {
     "name": "stderr",
     "output_type": "stream",
     "text": [
      "ERROR:traits:Exception occurred in traits notification handler for object: <PYME.LMVis.layers.pointcloud.PointCloudRenderLayer object at 0x7fb5aeef29b0>, trait: _datasource_choices, old value: ['output', 'FitResults', 'Localizations', 'colour_mapped', 'filtered_localizations', 'octree0', 'surf0'], new value: ['output', 'FitResults', 'Localizations', 'colour_mapped', 'filtered_localizations', 'octree0', 'surf0', 'surf1']\n",
      "Traceback (most recent call last):\n",
      "  File \"/opt/miniconda3/envs/pyme/lib/python3.7/site-packages/traits/trait_notifiers.py\", line 524, in _dispatch_change_event\n",
      "    self.dispatch(handler, *args)\n",
      "  File \"/opt/miniconda3/envs/pyme/lib/python3.7/site-packages/traits/trait_notifiers.py\", line 486, in dispatch\n",
      "    handler(*args)\n",
      "  File \"/Users/zrc4/Code/python-microscopy/PYME/ui/layerFoldPanel.py\", line 118, in _refresh\n",
      "    self.Refresh()\n",
      "RuntimeError: wrapped C/C++ object of type LayerCaptionBar has been deleted\n",
      "ERROR:traits:Exception occurred in traits notification handler for object: <PYME.LMVis.layers.pointcloud.PointCloudRenderLayer object at 0x7fb5aeef29b0>, trait: point_size, old value: 30.0, new value: 3.0\n",
      "Traceback (most recent call last):\n",
      "  File \"/opt/miniconda3/envs/pyme/lib/python3.7/site-packages/traits/trait_notifiers.py\", line 524, in _dispatch_change_event\n",
      "    self.dispatch(handler, *args)\n",
      "  File \"/opt/miniconda3/envs/pyme/lib/python3.7/site-packages/traits/trait_notifiers.py\", line 486, in dispatch\n",
      "    handler(*args)\n",
      "  File \"/Users/zrc4/Code/python-microscopy/PYME/LMVis/layers/pointcloud.py\", line 191, in update\n",
      "    self.on_update.send(self)\n",
      "  File \"/Users/zrc4/Code/python-microscopy/PYME/contrib/dispatch/dispatcher.py\", line 174, in send\n",
      "    for receiver in self._live_receivers(sender)\n",
      "  File \"/Users/zrc4/Code/python-microscopy/PYME/contrib/dispatch/dispatcher.py\", line 174, in <listcomp>\n",
      "    for receiver in self._live_receivers(sender)\n",
      "  File \"/Users/zrc4/Code/python-microscopy/PYME/ui/custom_traits_editors.py\", line 472, in n_update\n",
      "    self.update_editor()\n",
      "  File \"/Users/zrc4/Code/python-microscopy/PYME/ui/custom_traits_editors.py\", line 484, in update_editor\n",
      "    self.control.SetData(self.factory.data(), *self.value)\n",
      "AttributeError: 'NoneType' object has no attribute 'SetData'\n",
      "ERROR:traits:Exception occurred in traits notification handler for object: <PYME.LMVis.layers.pointcloud.PointCloudRenderLayer object at 0x7fb5aeef29b0>, trait: point_size, old value: 30.0, new value: 3.0\n",
      "Traceback (most recent call last):\n",
      "  File \"/opt/miniconda3/envs/pyme/lib/python3.7/site-packages/traits/trait_notifiers.py\", line 524, in _dispatch_change_event\n",
      "    self.dispatch(handler, *args)\n",
      "  File \"/opt/miniconda3/envs/pyme/lib/python3.7/site-packages/traits/trait_notifiers.py\", line 486, in dispatch\n",
      "    handler(*args)\n",
      "  File \"/Users/zrc4/Code/python-microscopy/PYME/ui/layerFoldPanel.py\", line 118, in _refresh\n",
      "    self.Refresh()\n",
      "RuntimeError: wrapped C/C++ object of type LayerCaptionBar has been deleted\n"
     ]
    },
    {
     "name": "stdout",
     "output_type": "stream",
     "text": [
      "lw update\n",
      "hl update\n"
     ]
    },
    {
     "name": "stderr",
     "output_type": "stream",
     "text": [
      "DEBUG:PYME.LMVis.shader_programs.ShaderProgramFactory:New shader program created: <class 'PYME.LMVis.shader_programs.WireFrameShaderProgram.WireFrameShaderProgram'>\n"
     ]
    },
    {
     "name": "stdout",
     "output_type": "stream",
     "text": [
      "lw update\n"
     ]
    }
   ],
   "source": [
    "\"\"\"\n",
    "At this point, we will start from the original surface and iterate using\n",
    "different parameters.\n",
    "\"\"\"\n",
    "# Shrinkwrap renderer\n",
    "from ch_shrinkwrap import _membrane_mesh as membrane_mesh\n",
    "\n",
    "max_iters = np.hstack([5, np.logspace(1,2,10).astype(int)])\n",
    "step_size = np.logspace(0,2,10)\n",
    "search_k = np.hstack([2,np.arange(0,105,5)[1:]])[:5]\n",
    "remesh_every = np.array([5,10,20,50,100])\n",
    "\n",
    "max_iters = np.array([10])\n",
    "remesh_every = np.array([10])\n",
    "step_size = np.array([12.9])\n",
    "search_k = np.array([20])\n",
    "edge_length_div = np.array([4])\n",
    "noise = np.array([0.1])\n",
    "\n",
    "for it in max_iters:\n",
    "    for lam in step_size:\n",
    "        for k in search_k:\n",
    "            for re in remesh_every:\n",
    "                # Copy the mesh over\n",
    "                mesh = membrane_mesh.MembraneMesh(mesh=pipeline.dataSources[dmc.output])\n",
    "\n",
    "                # set params\n",
    "                mesh.max_iter = re\n",
    "                mesh.step_size = lam\n",
    "                mesh.search_k = k\n",
    "\n",
    "                start = time.time()\n",
    "                mesh.shrink_wrap(points, s, method='ictm')\n",
    "                stop = time.time()\n",
    "                duration = stop-start\n",
    "\n",
    "                wrap_fp = points_fp.split('.txt')[0] + \"_\".join(f\"_iters{it}_remesh{re}_lambda{lam:.1f}_searchk{k}_noise{no}_ntriangles{mesh.faces.shape[0]}_duration{duration:.1f}_ictm\".split('.')) + \".stl\"\n",
    "                mesh.to_stl(wrap_fp)"
   ]
  },
  {
   "cell_type": "code",
   "execution_count": null,
   "id": "9ca23d99",
   "metadata": {},
   "outputs": [],
   "source": [
    "\"\"\"\n",
    "Now calculate SPR.\n",
    "\"\"\"\n",
    "\n",
    "def screened_poisson(points_fp, rowstoskip=1, strformat='X Y Z Reflectance', separator='SPACE',\n",
    "                     colorformat='[0-255]', onerror='skip', k=10, smoothiter=0,\n",
    "                     flipflag=False, viewpos=[0,0,0], depth=8, fulldepth=5,\n",
    "                     cgdepth=0, scale=1.1, samplespernode=1.5, pointweight=4, \n",
    "                     iters=8, confidence=False, preclean=False):\n",
    "    \"\"\"\n",
    "    Run screened poisson reconstruction on a set of points, using meshlab.\n",
    "    \n",
    "    For more information on these parameters, see meshlab.\n",
    "    \n",
    "    Parameters\n",
    "    ----------\n",
    "    points_fp : str\n",
    "        Path to text file containing a point cloud represented as a set of XYZ coordinates\n",
    "    see meshlab\n",
    "    \n",
    "    Returns\n",
    "    -------\n",
    "    str\n",
    "        File path to STL of reconstruction\n",
    "        \n",
    "    \"\"\"\n",
    "    import pymeshlab as ml\n",
    "\n",
    "    ms = ml.MeshSet()  # create a mesh\n",
    "    ms.load_new_mesh(file_name=points_fp,\n",
    "                     rowtoskip=rowstoskip,\n",
    "                     strformat=strformat,\n",
    "                     separator=separator,\n",
    "                     rgbmode=colorformat,\n",
    "                     onerror=onerror)  # load points\n",
    "    start = time.time()\n",
    "    # compute normals\n",
    "    ms.compute_normals_for_point_sets(k=k,  # number of neighbors\n",
    "                                      smoothiter=smoothiter,\n",
    "                                      flipflag=flipflag,\n",
    "                                      viewpos=viewpos)\n",
    "    # run SPR\n",
    "    ms.surface_reconstruction_screened_poisson(visiblelayer=False,\n",
    "                                               depth=depth,\n",
    "                                               fulldepth=fulldepth,\n",
    "                                               cgdepth=cgdepth,\n",
    "                                               scale=scale,\n",
    "                                               samplespernode=samplespernode,\n",
    "                                               pointweight=pointweight,\n",
    "                                               iters=iters,\n",
    "                                               confidence=confidence,\n",
    "                                               preclean=preclean)\n",
    "    stop = time.time()\n",
    "    duration = stop-start\n",
    "    # save surface\n",
    "    surface_fp = points_fp.split('.txt')[0] + \"_\".join(f\"_searchk{k}_depth{depth}_scale{scale}_samplespernode{samplespernode}_pointweight{pointweight}_iters{iters}_noise{no}_duration{duration:.1f}_spr\".split('.')) + \".stl\"\n",
    "    ms.save_current_mesh(file_name=surface_fp, unify_vertices=True)\n",
    "    \n",
    "    return surface_fp\n",
    "\n",
    "max_iters = np.arange(4,15,2)\n",
    "depth = np.arange(4,15,2,dtype=int)\n",
    "search_k = np.hstack([2,np.arange(0,105,5)[1:]])[:7]\n",
    "scale=np.arange(5,16,2)/10\n",
    "samplespernode=np.arange(1,20,0.5)\n",
    "pointweight=np.arange(0,10)\n",
    "\n",
    "max_iters = np.array([8],dtype=int)\n",
    "depth = np.array([8],dtype=int)\n",
    "search_k = np.array([10])\n",
    "scale=np.array([1.1])\n",
    "samplespernode=np.array([1.5])\n",
    "pointweight=np.array([4])\n",
    "\n",
    "for it in max_iters:\n",
    "    for k in search_k:\n",
    "        for d in depth:\n",
    "            for sc in scale:\n",
    "                for spn in samplespernode:\n",
    "                    for wt in pointweight:\n",
    "                        spr_fp = screened_poisson(points_fp, k=k, depth=d, fulldepth=fulldepth, \n",
    "                                                  scale=sc, samplespernode=spn, pointweight=wt, iters=it)"
   ]
  },
  {
   "cell_type": "code",
   "execution_count": null,
   "id": "3ea98b2e",
   "metadata": {},
   "outputs": [],
   "source": []
  },
  {
   "cell_type": "code",
   "execution_count": null,
   "id": "bb6babe6",
   "metadata": {},
   "outputs": [],
   "source": []
  }
 ],
 "metadata": {
  "kernelspec": {
   "display_name": "pyme",
   "language": "python",
   "name": "pyme"
  },
  "language_info": {
   "codemirror_mode": {
    "name": "ipython",
    "version": 3
   },
   "file_extension": ".py",
   "mimetype": "text/x-python",
   "name": "python",
   "nbconvert_exporter": "python",
   "pygments_lexer": "ipython3",
   "version": "3.7.6"
  }
 },
 "nbformat": 4,
 "nbformat_minor": 5
}
