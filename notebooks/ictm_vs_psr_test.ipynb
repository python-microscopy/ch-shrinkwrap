{
 "cells": [
  {
   "cell_type": "code",
   "execution_count": 1,
   "id": "1a92427e",
   "metadata": {},
   "outputs": [
    {
     "name": "stderr",
     "output_type": "stream",
     "text": [
      "ERROR:PYME.recipes.modules:Error loading plugin: cc_drift_cor.plugins.recipes.processing\n",
      "Traceback (most recent call last):\n",
      "  File \"c:\\users\\zrc4\\code\\python-microscopy\\PYME\\recipes\\modules.py\", line 42, in <module>\n",
      "    m = __import__(mn, fromlist=mn.split('.')[:-1])\n",
      "ModuleNotFoundError: No module named 'cc_drift_cor'\n",
      "ERROR:PYME.recipes.modules:Error loading plugin: cc_drift_cor.plugins.recipes.localisations\n",
      "Traceback (most recent call last):\n",
      "  File \"c:\\users\\zrc4\\code\\python-microscopy\\PYME\\recipes\\modules.py\", line 42, in <module>\n",
      "    m = __import__(mn, fromlist=mn.split('.')[:-1])\n",
      "ModuleNotFoundError: No module named 'cc_drift_cor'\n",
      "ERROR:PYME.recipes.modules:Error loading plugin: pyme_4pi.recipe_modules.conversion\n",
      "Traceback (most recent call last):\n",
      "  File \"c:\\users\\zrc4\\code\\python-microscopy\\PYME\\recipes\\modules.py\", line 42, in <module>\n",
      "    m = __import__(mn, fromlist=mn.split('.')[:-1])\n",
      "ModuleNotFoundError: No module named 'pyme_4pi'\n",
      "ERROR:PYME.recipes.modules:Error loading plugin: cc_drift_cor.plugins.recipes.chung_cc\n",
      "Traceback (most recent call last):\n",
      "  File \"c:\\users\\zrc4\\code\\python-microscopy\\PYME\\recipes\\modules.py\", line 42, in <module>\n",
      "    m = __import__(mn, fromlist=mn.split('.')[:-1])\n",
      "ModuleNotFoundError: No module named 'cc_drift_cor'\n",
      "ERROR:PYME.recipes.modules:Error loading plugin: cc_drift_cor.plugins.recipes.io\n",
      "Traceback (most recent call last):\n",
      "  File \"c:\\users\\zrc4\\code\\python-microscopy\\PYME\\recipes\\modules.py\", line 42, in <module>\n",
      "    m = __import__(mn, fromlist=mn.split('.')[:-1])\n",
      "ModuleNotFoundError: No module named 'cc_drift_cor'\n"
     ]
    },
    {
     "name": "stdout",
     "output_type": "stream",
     "text": [
      "Trying to load 3rd party recipe module cc_drift_cor.plugins.recipes.processing\n",
      "Trying to load 3rd party recipe module cc_drift_cor.plugins.recipes.localisations\n",
      "Trying to load 3rd party recipe module ch_shrinkwrap.recipe_modules.surface_fitting\n",
      "Loaded 3rd party recipe module ch_shrinkwrap.recipe_modules.surface_fitting\n",
      "Trying to load 3rd party recipe module pyme_4pi.recipe_modules.conversion\n",
      "Trying to load 3rd party recipe module cc_drift_cor.plugins.recipes.chung_cc\n",
      "Trying to load 3rd party recipe module oidic.recipe_modules.reconstruct\n",
      "Loaded 3rd party recipe module oidic.recipe_modules.reconstruct\n",
      "Trying to load 3rd party recipe module cc_drift_cor.plugins.recipes.io\n"
     ]
    },
    {
     "name": "stderr",
     "output_type": "stream",
     "text": [
      "INFO:OpenGL.GLUT.special:Using NT-specific GLUT calls with exit callbacks\n"
     ]
    },
    {
     "name": "stdout",
     "output_type": "stream",
     "text": [
      "quaternion module not found, disabling custom clip plane orientations\n",
      "quaternion module not found, disabling custom clip plane orientations\n"
     ]
    }
   ],
   "source": [
    "from PYME.LMVis import VisGUI\n",
    "\n",
    "%gui wx"
   ]
  },
  {
   "cell_type": "code",
   "execution_count": 2,
   "id": "133d7954",
   "metadata": {},
   "outputs": [
    {
     "name": "stderr",
     "output_type": "stream",
     "text": [
      "DEBUG:PYME.LMVis.visCore:Creating VisGUI menu bar\n",
      "DEBUG:PYME.LMVis.Extras:Initializing QPobjectSegment plugin\n",
      "DEBUG:PYME.LMVis.Extras:Initializing animation plugin\n",
      "DEBUG:PYME.LMVis.Extras:Initializing clusterAnalysis plugin\n",
      "DEBUG:PYME.LMVis.Extras:Initializing dockedPanel plugin\n",
      "DEBUG:PYME.LMVis.Extras:Initializing extra_layers plugin\n",
      "DEBUG:PYME.LMVis.Extras:Initializing fiducial plugin\n",
      "DEBUG:PYME.LMVis.Extras:Initializing flagZMotionArtifacts plugin\n",
      "DEBUG:root:Adding menu items for event filters\n",
      "DEBUG:PYME.LMVis.Extras:Initializing fusionUtils plugin\n",
      "DEBUG:PYME.LMVis.Extras:Initializing multiColourAnalysis plugin\n",
      "DEBUG:PYME.LMVis.Extras:Initializing multiviewMapping plugin\n",
      "DEBUG:root:Adding menu items for multi-view manipulation\n",
      "DEBUG:PYME.LMVis.Extras:Initializing objectMeasurements plugin\n",
      "DEBUG:PYME.LMVis.Extras:Initializing particleTracking plugin\n",
      "DEBUG:PYME.LMVis.Extras:Initializing perFrameVariable plugin\n",
      "DEBUG:PYME.LMVis.Extras:Initializing photophysics plugin\n",
      "DEBUG:PYME.LMVis.Extras:Initializing pointSetGeneration plugin\n",
      "DEBUG:PYME.LMVis.Extras:Initializing pointwiseColoc plugin\n",
      "DEBUG:PYME.LMVis.Extras:Initializing saved_views plugin\n",
      "DEBUG:PYME.LMVis.Extras:Initializing scaleBox plugin\n",
      "DEBUG:PYME.LMVis.Extras:Initializing sequentialSpecies plugin\n",
      "DEBUG:PYME.LMVis.Extras:Initializing setBGImage plugin\n",
      "DEBUG:PYME.LMVis.Extras:Initializing shiftmapGenerator plugin\n",
      "DEBUG:PYME.LMVis.Extras:Initializing showShortcuts plugin\n",
      "DEBUG:PYME.LMVis.Extras:Initializing snapshot plugin\n",
      "DEBUG:PYME.LMVis.Extras:Initializing spherical_harmonics plugin\n",
      "DEBUG:root:Adding menu items for spherical harmonic (shell) fitting\n",
      "DEBUG:PYME.LMVis.Extras:Initializing subsets plugin\n",
      "DEBUG:PYME.LMVis.Extras:Initializing surface_fitting plugin\n",
      "DEBUG:PYME.LMVis.Extras:Initializing temperaturePlot plugin\n",
      "DEBUG:PYME.LMVis.Extras:Initializing vibration plugin\n",
      "ERROR:PYME.LMVis.Extras:Error loading plugin: pyme_4pi.visgui_modules.conversion\n",
      "Traceback (most recent call last):\n",
      "  File \"c:\\users\\zrc4\\code\\python-microscopy\\PYME\\LMVis\\Extras\\__init__.py\", line 46, in InitPlugins\n",
      "    m = __import__(mn, fromlist=mn.split('.')[:-1])\n",
      "ModuleNotFoundError: No module named 'pyme_4pi'\n"
     ]
    },
    {
     "name": "stdout",
     "output_type": "stream",
     "text": [
      "New Canvas\n",
      "Saved Views are deprecated -  use the ones with animation instead and remove me!\n"
     ]
    },
    {
     "name": "stderr",
     "output_type": "stream",
     "text": [
      "ERROR:PYME.LMVis.Extras:Error loading plugin: pyme_4pi.visgui_modules.precision\n",
      "Traceback (most recent call last):\n",
      "  File \"c:\\users\\zrc4\\code\\python-microscopy\\PYME\\LMVis\\Extras\\__init__.py\", line 46, in InitPlugins\n",
      "    m = __import__(mn, fromlist=mn.split('.')[:-1])\n",
      "ModuleNotFoundError: No module named 'pyme_4pi'\n"
     ]
    },
    {
     "name": "stdout",
     "output_type": "stream",
     "text": [
      "Creating fold panel\n",
      "GenPanels\n",
      "Creating datasource panel\n",
      "RecipeView._layout\n",
      "Input datasources:  []\n",
      "Image list size: 1\n",
      "Creating layers GUI\n",
      "height:  0\n",
      "NB best size: wx.Size(200, 0)\n",
      "RecipeView._layout\n"
     ]
    },
    {
     "ename": "RuntimeError",
     "evalue": "wrapped C/C++ object of type foldPanel has been deleted",
     "output_type": "error",
     "traceback": [
      "\u001b[1;31m---------------------------------------------------------------------------\u001b[0m",
      "\u001b[1;31mRuntimeError\u001b[0m                              Traceback (most recent call last)",
      "\u001b[1;32mc:\\users\\zrc4\\code\\python-microscopy\\PYME\\ui\\manualFoldPanel.py\u001b[0m in \u001b[0;36mOnResize\u001b[1;34m(self, event)\u001b[0m\n\u001b[0;32m    757\u001b[0m \u001b[1;33m\u001b[0m\u001b[0m\n\u001b[0;32m    758\u001b[0m     \u001b[1;32mdef\u001b[0m \u001b[0mOnResize\u001b[0m\u001b[1;33m(\u001b[0m\u001b[0mself\u001b[0m\u001b[1;33m,\u001b[0m \u001b[0mevent\u001b[0m\u001b[1;33m)\u001b[0m\u001b[1;33m:\u001b[0m\u001b[1;33m\u001b[0m\u001b[1;33m\u001b[0m\u001b[0m\n\u001b[1;32m--> 759\u001b[1;33m         \u001b[1;32mif\u001b[0m \u001b[1;33m(\u001b[0m\u001b[1;32mnot\u001b[0m \u001b[0mself\u001b[0m\u001b[1;33m.\u001b[0m\u001b[0m_in_fold1\u001b[0m\u001b[1;33m)\u001b[0m \u001b[1;32mand\u001b[0m \u001b[0mself\u001b[0m\u001b[1;33m.\u001b[0m\u001b[0mIsShownOnScreen\u001b[0m\u001b[1;33m(\u001b[0m\u001b[1;33m)\u001b[0m\u001b[1;33m:\u001b[0m\u001b[1;33m\u001b[0m\u001b[1;33m\u001b[0m\u001b[0m\n\u001b[0m\u001b[0;32m    760\u001b[0m             \u001b[0mself\u001b[0m\u001b[1;33m.\u001b[0m\u001b[0mfold1\u001b[0m\u001b[1;33m(\u001b[0m\u001b[1;33m)\u001b[0m\u001b[1;33m\u001b[0m\u001b[1;33m\u001b[0m\u001b[0m\n\u001b[0;32m    761\u001b[0m \u001b[1;33m\u001b[0m\u001b[0m\n",
      "\u001b[1;31mRuntimeError\u001b[0m: wrapped C/C++ object of type foldPanel has been deleted"
     ]
    },
    {
     "name": "stdout",
     "output_type": "stream",
     "text": [
      "Input datasources:  []\n",
      "recipe.execute()\n",
      "RecipeView._layout\n"
     ]
    },
    {
     "ename": "RuntimeError",
     "evalue": "wrapped C/C++ object of type foldPanel has been deleted",
     "output_type": "error",
     "traceback": [
      "\u001b[1;31m---------------------------------------------------------------------------\u001b[0m",
      "\u001b[1;31mRuntimeError\u001b[0m                              Traceback (most recent call last)",
      "\u001b[1;32mc:\\users\\zrc4\\code\\python-microscopy\\PYME\\ui\\manualFoldPanel.py\u001b[0m in \u001b[0;36mOnResize\u001b[1;34m(self, event)\u001b[0m\n\u001b[0;32m    757\u001b[0m \u001b[1;33m\u001b[0m\u001b[0m\n\u001b[0;32m    758\u001b[0m     \u001b[1;32mdef\u001b[0m \u001b[0mOnResize\u001b[0m\u001b[1;33m(\u001b[0m\u001b[0mself\u001b[0m\u001b[1;33m,\u001b[0m \u001b[0mevent\u001b[0m\u001b[1;33m)\u001b[0m\u001b[1;33m:\u001b[0m\u001b[1;33m\u001b[0m\u001b[1;33m\u001b[0m\u001b[0m\n\u001b[1;32m--> 759\u001b[1;33m         \u001b[1;32mif\u001b[0m \u001b[1;33m(\u001b[0m\u001b[1;32mnot\u001b[0m \u001b[0mself\u001b[0m\u001b[1;33m.\u001b[0m\u001b[0m_in_fold1\u001b[0m\u001b[1;33m)\u001b[0m \u001b[1;32mand\u001b[0m \u001b[0mself\u001b[0m\u001b[1;33m.\u001b[0m\u001b[0mIsShownOnScreen\u001b[0m\u001b[1;33m(\u001b[0m\u001b[1;33m)\u001b[0m\u001b[1;33m:\u001b[0m\u001b[1;33m\u001b[0m\u001b[1;33m\u001b[0m\u001b[0m\n\u001b[0m\u001b[0;32m    760\u001b[0m             \u001b[0mself\u001b[0m\u001b[1;33m.\u001b[0m\u001b[0mfold1\u001b[0m\u001b[1;33m(\u001b[0m\u001b[1;33m)\u001b[0m\u001b[1;33m\u001b[0m\u001b[1;33m\u001b[0m\u001b[0m\n\u001b[0;32m    761\u001b[0m \u001b[1;33m\u001b[0m\u001b[0m\n",
      "\u001b[1;31mRuntimeError\u001b[0m: wrapped C/C++ object of type foldPanel has been deleted"
     ]
    },
    {
     "name": "stdout",
     "output_type": "stream",
     "text": [
      "Input datasources:  []\n",
      "0\n",
      "OpenGL - Version: b'4.6.0 NVIDIA 442.50'\n",
      "Shader - Version: b'4.60 NVIDIA'\n",
      "GL_MAX_SAMPLES: 32, GL_SAMPLES: 4\n"
     ]
    },
    {
     "name": "stderr",
     "output_type": "stream",
     "text": [
      "DEBUG:PYME.LMVis.shader_programs.ShaderProgramFactory:New shader program created: <class 'PYME.LMVis.shader_programs.DefaultShaderProgram.DefaultShaderProgram'>\n"
     ]
    },
    {
     "name": "stdout",
     "output_type": "stream",
     "text": [
      "Ev Idle\n",
      "('points', 't')\n",
      "refreshed\n"
     ]
    }
   ],
   "source": [
    "pymevis = VisGUI.ipython_pymevisualize()\n",
    "pipeline = pymevis.pipeline\n",
    "\n",
    "import numpy as np\n",
    "import os"
   ]
  },
  {
   "cell_type": "code",
   "execution_count": 3,
   "id": "a87d7fa6",
   "metadata": {},
   "outputs": [],
   "source": [
    "\"\"\"\n",
    "This compares ICTM mesh quality as a function of parameters.\n",
    "\"\"\"\n",
    "\n",
    "# Where to save the intermediate files generated \n",
    "save_fp = 'C:\\\\Users\\\\zrc4\\\\Downloads\\\\test_ictm_7'\n",
    "if not os.path.exists(save_fp):\n",
    "    os.mkdir(save_fp)\n",
    "\n",
    "# three way junction generation parameters\n",
    "centroid = np.array([0,0,0])\n",
    "h, r = 500, 50       # capsule length, capsule radius\n",
    "smoothing = r      # ~h/2 creates a three-way junction with a \"sheet\" (but it's puffy like seaweed)\n",
    "# loc precision\n",
    "psf_width = 250.0\n",
    "mean_photon_count = 300.0\n",
    "\n",
    "# octree-based reconstruction parameters\n",
    "cull_inner_surfaces = True\n",
    "n_points_min =30\n",
    "remesh = True\n",
    "repair = False\n",
    "smooth_curvature = True\n",
    "density = 6e-6\n",
    "\n",
    "# screened poisson reconstruction parameters\n",
    "fulldepth=5\n"
   ]
  },
  {
   "cell_type": "code",
   "execution_count": 4,
   "id": "1d155a90",
   "metadata": {},
   "outputs": [],
   "source": [
    "\"\"\"\n",
    "Generate three-way junction\n",
    "\"\"\"\n",
    "\n",
    "from ch_shrinkwrap.shape import ThreeWayJunction\n",
    "\n",
    "twj = ThreeWayJunction(h, r, centroid, smoothing)"
   ]
  },
  {
   "cell_type": "code",
   "execution_count": 5,
   "id": "a0794f0d",
   "metadata": {},
   "outputs": [],
   "source": [
    "\"\"\"\n",
    "Generate and save three-way junction ponts\n",
    "\"\"\"\n",
    "import time\n",
    "\n",
    "from ch_shrinkwrap import util\n",
    "\n",
    "cap_points = twj.points(p=0.001, psf_width=psf_width, mean_photon_count=mean_photon_count, resample=True)\n",
    "cap_sigma = twj._noise\n",
    "\n",
    "no = 0.1\n",
    "scale = 1.2\n",
    "bbox = [np.min(cap_points[:,0]), np.min(cap_points[:,1]), \n",
    "        np.min(cap_points[:,2]), np.max(cap_points[:,0]),\n",
    "        np.max(cap_points[:,1]), np.max(cap_points[:,2])]\n",
    "bbox = [scale*x for x in bbox]\n",
    "xl, yl, zl, xu, yu, zu = bbox\n",
    "xn, yn, zn = xu-xl, yu-yl, zu-zl\n",
    "ln = int(no*len(cap_points)/(1.0-no))\n",
    "noise_points = np.random.rand(ln,3)*(np.array([xn,yn,zn])[None,:]) + (np.array([xl,yl,zl])[None,:])\n",
    "noise_sigma = util.noise(noise_points.shape, model='poisson', psf_width=psf_width, mean_photon_count=mean_photon_count)\n",
    "\n",
    "points = np.vstack([cap_points,noise_points])\n",
    "sigma = np.vstack([cap_sigma,noise_sigma])\n",
    "s = np.sqrt((sigma*sigma).sum(1))\n",
    "\n",
    "points_time = time.strftime('%Y%d%m_%HH%M')\n",
    "points_fn = f\"twj_h{h}_r{r}_smoothing{smoothing}_{points_time}\".replace('.','_')+\".txt\"\n",
    "points_fp = save_fp + '/' + points_fn\n",
    "np.savetxt(points_fp, np.vstack([points.T,s]).T, header=\"x y z sigma\")"
   ]
  },
  {
   "cell_type": "code",
   "execution_count": 6,
   "id": "4ca3c0f1",
   "metadata": {},
   "outputs": [
    {
     "name": "stdout",
     "output_type": "stream",
     "text": [
      "Creating Pipeline\n",
      "RecipeView._layout\n"
     ]
    },
    {
     "ename": "RuntimeError",
     "evalue": "wrapped C/C++ object of type foldPanel has been deleted",
     "output_type": "error",
     "traceback": [
      "\u001b[1;31m---------------------------------------------------------------------------\u001b[0m",
      "\u001b[1;31mRuntimeError\u001b[0m                              Traceback (most recent call last)",
      "\u001b[1;32mc:\\users\\zrc4\\code\\python-microscopy\\PYME\\ui\\manualFoldPanel.py\u001b[0m in \u001b[0;36mOnResize\u001b[1;34m(self, event)\u001b[0m\n\u001b[0;32m    757\u001b[0m \u001b[1;33m\u001b[0m\u001b[0m\n\u001b[0;32m    758\u001b[0m     \u001b[1;32mdef\u001b[0m \u001b[0mOnResize\u001b[0m\u001b[1;33m(\u001b[0m\u001b[0mself\u001b[0m\u001b[1;33m,\u001b[0m \u001b[0mevent\u001b[0m\u001b[1;33m)\u001b[0m\u001b[1;33m:\u001b[0m\u001b[1;33m\u001b[0m\u001b[1;33m\u001b[0m\u001b[0m\n\u001b[1;32m--> 759\u001b[1;33m         \u001b[1;32mif\u001b[0m \u001b[1;33m(\u001b[0m\u001b[1;32mnot\u001b[0m \u001b[0mself\u001b[0m\u001b[1;33m.\u001b[0m\u001b[0m_in_fold1\u001b[0m\u001b[1;33m)\u001b[0m \u001b[1;32mand\u001b[0m \u001b[0mself\u001b[0m\u001b[1;33m.\u001b[0m\u001b[0mIsShownOnScreen\u001b[0m\u001b[1;33m(\u001b[0m\u001b[1;33m)\u001b[0m\u001b[1;33m:\u001b[0m\u001b[1;33m\u001b[0m\u001b[1;33m\u001b[0m\u001b[0m\n\u001b[0m\u001b[0;32m    760\u001b[0m             \u001b[0mself\u001b[0m\u001b[1;33m.\u001b[0m\u001b[0mfold1\u001b[0m\u001b[1;33m(\u001b[0m\u001b[1;33m)\u001b[0m\u001b[1;33m\u001b[0m\u001b[1;33m\u001b[0m\u001b[0m\n\u001b[0;32m    761\u001b[0m \u001b[1;33m\u001b[0m\u001b[0m\n",
      "\u001b[1;31mRuntimeError\u001b[0m: wrapped C/C++ object of type foldPanel has been deleted"
     ]
    },
    {
     "name": "stdout",
     "output_type": "stream",
     "text": [
      "Input datasources:  ['FitResults']\n",
      "RecipeView._layout\n"
     ]
    },
    {
     "ename": "SystemError",
     "evalue": "<class 'wx._core.WindowDestroyEvent'> returned a result with an error set",
     "output_type": "error",
     "traceback": [
      "\u001b[1;31m---------------------------------------------------------------------------\u001b[0m",
      "\u001b[1;31mwxAssertionError\u001b[0m                          Traceback (most recent call last)",
      "\u001b[1;31mwxAssertionError\u001b[0m: C++ assertion \"GetEventHandler() == this\" failed at ..\\..\\src\\common\\wincmn.cpp(478) in wxWindowBase::~wxWindowBase(): any pushed event handlers must have been removed",
      "\nThe above exception was the direct cause of the following exception:\n",
      "\u001b[1;31mSystemError\u001b[0m                               Traceback (most recent call last)",
      "\u001b[1;31mSystemError\u001b[0m: <class 'wx._core.WindowDestroyEvent'> returned a result with an error set"
     ]
    },
    {
     "ename": "RuntimeError",
     "evalue": "wrapped C/C++ object of type foldPanel has been deleted",
     "output_type": "error",
     "traceback": [
      "\u001b[1;31m---------------------------------------------------------------------------\u001b[0m",
      "\u001b[1;31mRuntimeError\u001b[0m                              Traceback (most recent call last)",
      "\u001b[1;32mc:\\users\\zrc4\\code\\python-microscopy\\PYME\\ui\\manualFoldPanel.py\u001b[0m in \u001b[0;36mOnResize\u001b[1;34m(self, event)\u001b[0m\n\u001b[0;32m    757\u001b[0m \u001b[1;33m\u001b[0m\u001b[0m\n\u001b[0;32m    758\u001b[0m     \u001b[1;32mdef\u001b[0m \u001b[0mOnResize\u001b[0m\u001b[1;33m(\u001b[0m\u001b[0mself\u001b[0m\u001b[1;33m,\u001b[0m \u001b[0mevent\u001b[0m\u001b[1;33m)\u001b[0m\u001b[1;33m:\u001b[0m\u001b[1;33m\u001b[0m\u001b[1;33m\u001b[0m\u001b[0m\n\u001b[1;32m--> 759\u001b[1;33m         \u001b[1;32mif\u001b[0m \u001b[1;33m(\u001b[0m\u001b[1;32mnot\u001b[0m \u001b[0mself\u001b[0m\u001b[1;33m.\u001b[0m\u001b[0m_in_fold1\u001b[0m\u001b[1;33m)\u001b[0m \u001b[1;32mand\u001b[0m \u001b[0mself\u001b[0m\u001b[1;33m.\u001b[0m\u001b[0mIsShownOnScreen\u001b[0m\u001b[1;33m(\u001b[0m\u001b[1;33m)\u001b[0m\u001b[1;33m:\u001b[0m\u001b[1;33m\u001b[0m\u001b[1;33m\u001b[0m\u001b[0m\n\u001b[0m\u001b[0;32m    760\u001b[0m             \u001b[0mself\u001b[0m\u001b[1;33m.\u001b[0m\u001b[0mfold1\u001b[0m\u001b[1;33m(\u001b[0m\u001b[1;33m)\u001b[0m\u001b[1;33m\u001b[0m\u001b[1;33m\u001b[0m\u001b[0m\n\u001b[0;32m    761\u001b[0m \u001b[1;33m\u001b[0m\u001b[0m\n",
      "\u001b[1;31mRuntimeError\u001b[0m: wrapped C/C++ object of type foldPanel has been deleted"
     ]
    },
    {
     "name": "stdout",
     "output_type": "stream",
     "text": [
      "Input datasources:  ['FitResults']\n",
      "RecipeView._layout\n"
     ]
    },
    {
     "ename": "SystemError",
     "evalue": "<class 'wx._core.WindowDestroyEvent'> returned a result with an error set",
     "output_type": "error",
     "traceback": [
      "\u001b[1;31m---------------------------------------------------------------------------\u001b[0m",
      "\u001b[1;31mwxAssertionError\u001b[0m                          Traceback (most recent call last)",
      "\u001b[1;31mwxAssertionError\u001b[0m: C++ assertion \"GetEventHandler() == this\" failed at ..\\..\\src\\common\\wincmn.cpp(478) in wxWindowBase::~wxWindowBase(): any pushed event handlers must have been removed",
      "\nThe above exception was the direct cause of the following exception:\n",
      "\u001b[1;31mSystemError\u001b[0m                               Traceback (most recent call last)",
      "\u001b[1;31mSystemError\u001b[0m: <class 'wx._core.WindowDestroyEvent'> returned a result with an error set"
     ]
    },
    {
     "ename": "SystemError",
     "evalue": "<class 'wx._core.WindowDestroyEvent'> returned a result with an error set",
     "output_type": "error",
     "traceback": [
      "\u001b[1;31m---------------------------------------------------------------------------\u001b[0m",
      "\u001b[1;31mwxAssertionError\u001b[0m                          Traceback (most recent call last)",
      "\u001b[1;31mwxAssertionError\u001b[0m: C++ assertion \"GetEventHandler() == this\" failed at ..\\..\\src\\common\\wincmn.cpp(478) in wxWindowBase::~wxWindowBase(): any pushed event handlers must have been removed",
      "\nThe above exception was the direct cause of the following exception:\n",
      "\u001b[1;31mSystemError\u001b[0m                               Traceback (most recent call last)",
      "\u001b[1;31mSystemError\u001b[0m: <class 'wx._core.WindowDestroyEvent'> returned a result with an error set"
     ]
    },
    {
     "ename": "RuntimeError",
     "evalue": "wrapped C/C++ object of type foldPanel has been deleted",
     "output_type": "error",
     "traceback": [
      "\u001b[1;31m---------------------------------------------------------------------------\u001b[0m",
      "\u001b[1;31mRuntimeError\u001b[0m                              Traceback (most recent call last)",
      "\u001b[1;32mc:\\users\\zrc4\\code\\python-microscopy\\PYME\\ui\\manualFoldPanel.py\u001b[0m in \u001b[0;36mOnResize\u001b[1;34m(self, event)\u001b[0m\n\u001b[0;32m    757\u001b[0m \u001b[1;33m\u001b[0m\u001b[0m\n\u001b[0;32m    758\u001b[0m     \u001b[1;32mdef\u001b[0m \u001b[0mOnResize\u001b[0m\u001b[1;33m(\u001b[0m\u001b[0mself\u001b[0m\u001b[1;33m,\u001b[0m \u001b[0mevent\u001b[0m\u001b[1;33m)\u001b[0m\u001b[1;33m:\u001b[0m\u001b[1;33m\u001b[0m\u001b[1;33m\u001b[0m\u001b[0m\n\u001b[1;32m--> 759\u001b[1;33m         \u001b[1;32mif\u001b[0m \u001b[1;33m(\u001b[0m\u001b[1;32mnot\u001b[0m \u001b[0mself\u001b[0m\u001b[1;33m.\u001b[0m\u001b[0m_in_fold1\u001b[0m\u001b[1;33m)\u001b[0m \u001b[1;32mand\u001b[0m \u001b[0mself\u001b[0m\u001b[1;33m.\u001b[0m\u001b[0mIsShownOnScreen\u001b[0m\u001b[1;33m(\u001b[0m\u001b[1;33m)\u001b[0m\u001b[1;33m:\u001b[0m\u001b[1;33m\u001b[0m\u001b[1;33m\u001b[0m\u001b[0m\n\u001b[0m\u001b[0;32m    760\u001b[0m             \u001b[0mself\u001b[0m\u001b[1;33m.\u001b[0m\u001b[0mfold1\u001b[0m\u001b[1;33m(\u001b[0m\u001b[1;33m)\u001b[0m\u001b[1;33m\u001b[0m\u001b[1;33m\u001b[0m\u001b[0m\n\u001b[0;32m    761\u001b[0m \u001b[1;33m\u001b[0m\u001b[0m\n",
      "\u001b[1;31mRuntimeError\u001b[0m: wrapped C/C++ object of type foldPanel has been deleted"
     ]
    },
    {
     "name": "stdout",
     "output_type": "stream",
     "text": [
      "Input datasources:  ['FitResults']\n"
     ]
    },
    {
     "name": "stderr",
     "output_type": "stream",
     "text": [
      "DEBUG:PYME.recipes.localisations:no events found\n"
     ]
    },
    {
     "name": "stdout",
     "output_type": "stream",
     "text": [
      "recipe.execute()\n",
      "Executing <PYME.recipes.localisations.Pipelineify object at 0x000001EC36801A68>\n",
      "Executing <PYME.recipes.localisations.ProcessColour object at 0x000001EC39E8DE88>\n",
      "Executing <PYME.recipes.tablefilters.FilterTable object at 0x000001EC39E47D68>\n",
      "RecipeView._layout\n"
     ]
    },
    {
     "ename": "SystemError",
     "evalue": "<class 'wx._core.WindowDestroyEvent'> returned a result with an error set",
     "output_type": "error",
     "traceback": [
      "\u001b[1;31m---------------------------------------------------------------------------\u001b[0m",
      "\u001b[1;31mwxAssertionError\u001b[0m                          Traceback (most recent call last)",
      "\u001b[1;31mwxAssertionError\u001b[0m: C++ assertion \"GetEventHandler() == this\" failed at ..\\..\\src\\common\\wincmn.cpp(478) in wxWindowBase::~wxWindowBase(): any pushed event handlers must have been removed",
      "\nThe above exception was the direct cause of the following exception:\n",
      "\u001b[1;31mSystemError\u001b[0m                               Traceback (most recent call last)",
      "\u001b[1;31mSystemError\u001b[0m: <class 'wx._core.WindowDestroyEvent'> returned a result with an error set"
     ]
    },
    {
     "ename": "SystemError",
     "evalue": "<class 'wx._core.WindowDestroyEvent'> returned a result with an error set",
     "output_type": "error",
     "traceback": [
      "\u001b[1;31m---------------------------------------------------------------------------\u001b[0m",
      "\u001b[1;31mwxAssertionError\u001b[0m                          Traceback (most recent call last)",
      "\u001b[1;31mwxAssertionError\u001b[0m: C++ assertion \"GetEventHandler() == this\" failed at ..\\..\\src\\common\\wincmn.cpp(478) in wxWindowBase::~wxWindowBase(): any pushed event handlers must have been removed",
      "\nThe above exception was the direct cause of the following exception:\n",
      "\u001b[1;31mSystemError\u001b[0m                               Traceback (most recent call last)",
      "\u001b[1;31mSystemError\u001b[0m: <class 'wx._core.WindowDestroyEvent'> returned a result with an error set"
     ]
    },
    {
     "ename": "SystemError",
     "evalue": "<class 'wx._core.WindowDestroyEvent'> returned a result with an error set",
     "output_type": "error",
     "traceback": [
      "\u001b[1;31m---------------------------------------------------------------------------\u001b[0m",
      "\u001b[1;31mwxAssertionError\u001b[0m                          Traceback (most recent call last)",
      "\u001b[1;31mwxAssertionError\u001b[0m: C++ assertion \"GetEventHandler() == this\" failed at ..\\..\\src\\common\\wincmn.cpp(478) in wxWindowBase::~wxWindowBase(): any pushed event handlers must have been removed",
      "\nThe above exception was the direct cause of the following exception:\n",
      "\u001b[1;31mSystemError\u001b[0m                               Traceback (most recent call last)",
      "\u001b[1;31mSystemError\u001b[0m: <class 'wx._core.WindowDestroyEvent'> returned a result with an error set"
     ]
    },
    {
     "ename": "RuntimeError",
     "evalue": "wrapped C/C++ object of type foldPanel has been deleted",
     "output_type": "error",
     "traceback": [
      "\u001b[1;31m---------------------------------------------------------------------------\u001b[0m",
      "\u001b[1;31mRuntimeError\u001b[0m                              Traceback (most recent call last)",
      "\u001b[1;32mc:\\users\\zrc4\\code\\python-microscopy\\PYME\\ui\\manualFoldPanel.py\u001b[0m in \u001b[0;36mOnResize\u001b[1;34m(self, event)\u001b[0m\n\u001b[0;32m    757\u001b[0m \u001b[1;33m\u001b[0m\u001b[0m\n\u001b[0;32m    758\u001b[0m     \u001b[1;32mdef\u001b[0m \u001b[0mOnResize\u001b[0m\u001b[1;33m(\u001b[0m\u001b[0mself\u001b[0m\u001b[1;33m,\u001b[0m \u001b[0mevent\u001b[0m\u001b[1;33m)\u001b[0m\u001b[1;33m:\u001b[0m\u001b[1;33m\u001b[0m\u001b[1;33m\u001b[0m\u001b[0m\n\u001b[1;32m--> 759\u001b[1;33m         \u001b[1;32mif\u001b[0m \u001b[1;33m(\u001b[0m\u001b[1;32mnot\u001b[0m \u001b[0mself\u001b[0m\u001b[1;33m.\u001b[0m\u001b[0m_in_fold1\u001b[0m\u001b[1;33m)\u001b[0m \u001b[1;32mand\u001b[0m \u001b[0mself\u001b[0m\u001b[1;33m.\u001b[0m\u001b[0mIsShownOnScreen\u001b[0m\u001b[1;33m(\u001b[0m\u001b[1;33m)\u001b[0m\u001b[1;33m:\u001b[0m\u001b[1;33m\u001b[0m\u001b[1;33m\u001b[0m\u001b[0m\n\u001b[0m\u001b[0;32m    760\u001b[0m             \u001b[0mself\u001b[0m\u001b[1;33m.\u001b[0m\u001b[0mfold1\u001b[0m\u001b[1;33m(\u001b[0m\u001b[1;33m)\u001b[0m\u001b[1;33m\u001b[0m\u001b[1;33m\u001b[0m\u001b[0m\n\u001b[0;32m    761\u001b[0m \u001b[1;33m\u001b[0m\u001b[0m\n",
      "\u001b[1;31mRuntimeError\u001b[0m: wrapped C/C++ object of type foldPanel has been deleted"
     ]
    },
    {
     "name": "stdout",
     "output_type": "stream",
     "text": [
      "Input datasources:  ['FitResults']\n",
      "Pipeline Created\n",
      "RecipeView._layout\n"
     ]
    },
    {
     "ename": "SystemError",
     "evalue": "<class 'wx._core.WindowDestroyEvent'> returned a result with an error set",
     "output_type": "error",
     "traceback": [
      "\u001b[1;31m---------------------------------------------------------------------------\u001b[0m",
      "\u001b[1;31mwxAssertionError\u001b[0m                          Traceback (most recent call last)",
      "\u001b[1;31mwxAssertionError\u001b[0m: C++ assertion \"GetEventHandler() == this\" failed at ..\\..\\src\\common\\wincmn.cpp(478) in wxWindowBase::~wxWindowBase(): any pushed event handlers must have been removed",
      "\nThe above exception was the direct cause of the following exception:\n",
      "\u001b[1;31mSystemError\u001b[0m                               Traceback (most recent call last)",
      "\u001b[1;31mSystemError\u001b[0m: <class 'wx._core.WindowDestroyEvent'> returned a result with an error set"
     ]
    },
    {
     "ename": "SystemError",
     "evalue": "<class 'wx._core.WindowDestroyEvent'> returned a result with an error set",
     "output_type": "error",
     "traceback": [
      "\u001b[1;31m---------------------------------------------------------------------------\u001b[0m",
      "\u001b[1;31mwxAssertionError\u001b[0m                          Traceback (most recent call last)",
      "\u001b[1;31mwxAssertionError\u001b[0m: C++ assertion \"GetEventHandler() == this\" failed at ..\\..\\src\\common\\wincmn.cpp(478) in wxWindowBase::~wxWindowBase(): any pushed event handlers must have been removed",
      "\nThe above exception was the direct cause of the following exception:\n",
      "\u001b[1;31mSystemError\u001b[0m                               Traceback (most recent call last)",
      "\u001b[1;31mSystemError\u001b[0m: <class 'wx._core.WindowDestroyEvent'> returned a result with an error set"
     ]
    },
    {
     "ename": "SystemError",
     "evalue": "<class 'wx._core.WindowDestroyEvent'> returned a result with an error set",
     "output_type": "error",
     "traceback": [
      "\u001b[1;31m---------------------------------------------------------------------------\u001b[0m",
      "\u001b[1;31mwxAssertionError\u001b[0m                          Traceback (most recent call last)",
      "\u001b[1;31mwxAssertionError\u001b[0m: C++ assertion \"GetEventHandler() == this\" failed at ..\\..\\src\\common\\wincmn.cpp(478) in wxWindowBase::~wxWindowBase(): any pushed event handlers must have been removed",
      "\nThe above exception was the direct cause of the following exception:\n",
      "\u001b[1;31mSystemError\u001b[0m                               Traceback (most recent call last)",
      "\u001b[1;31mSystemError\u001b[0m: <class 'wx._core.WindowDestroyEvent'> returned a result with an error set"
     ]
    },
    {
     "ename": "RuntimeError",
     "evalue": "wrapped C/C++ object of type foldPanel has been deleted",
     "output_type": "error",
     "traceback": [
      "\u001b[1;31m---------------------------------------------------------------------------\u001b[0m",
      "\u001b[1;31mRuntimeError\u001b[0m                              Traceback (most recent call last)",
      "\u001b[1;32mc:\\users\\zrc4\\code\\python-microscopy\\PYME\\ui\\manualFoldPanel.py\u001b[0m in \u001b[0;36mOnResize\u001b[1;34m(self, event)\u001b[0m\n\u001b[0;32m    757\u001b[0m \u001b[1;33m\u001b[0m\u001b[0m\n\u001b[0;32m    758\u001b[0m     \u001b[1;32mdef\u001b[0m \u001b[0mOnResize\u001b[0m\u001b[1;33m(\u001b[0m\u001b[0mself\u001b[0m\u001b[1;33m,\u001b[0m \u001b[0mevent\u001b[0m\u001b[1;33m)\u001b[0m\u001b[1;33m:\u001b[0m\u001b[1;33m\u001b[0m\u001b[1;33m\u001b[0m\u001b[0m\n\u001b[1;32m--> 759\u001b[1;33m         \u001b[1;32mif\u001b[0m \u001b[1;33m(\u001b[0m\u001b[1;32mnot\u001b[0m \u001b[0mself\u001b[0m\u001b[1;33m.\u001b[0m\u001b[0m_in_fold1\u001b[0m\u001b[1;33m)\u001b[0m \u001b[1;32mand\u001b[0m \u001b[0mself\u001b[0m\u001b[1;33m.\u001b[0m\u001b[0mIsShownOnScreen\u001b[0m\u001b[1;33m(\u001b[0m\u001b[1;33m)\u001b[0m\u001b[1;33m:\u001b[0m\u001b[1;33m\u001b[0m\u001b[1;33m\u001b[0m\u001b[0m\n\u001b[0m\u001b[0;32m    760\u001b[0m             \u001b[0mself\u001b[0m\u001b[1;33m.\u001b[0m\u001b[0mfold1\u001b[0m\u001b[1;33m(\u001b[0m\u001b[1;33m)\u001b[0m\u001b[1;33m\u001b[0m\u001b[1;33m\u001b[0m\u001b[0m\n\u001b[0;32m    761\u001b[0m \u001b[1;33m\u001b[0m\u001b[0m\n",
      "\u001b[1;31mRuntimeError\u001b[0m: wrapped C/C++ object of type foldPanel has been deleted"
     ]
    },
    {
     "name": "stdout",
     "output_type": "stream",
     "text": [
      "Input datasources:  ['FitResults']\n"
     ]
    },
    {
     "name": "stderr",
     "output_type": "stream",
     "text": [
      "DEBUG:PYME.LMVis.VisGUI:Creating tabs\n"
     ]
    },
    {
     "name": "stdout",
     "output_type": "stream",
     "text": [
      "0\n"
     ]
    },
    {
     "name": "stderr",
     "output_type": "stream",
     "text": [
      "DEBUG:PYME.LMVis.VisGUI:Finished creating tabs\n"
     ]
    },
    {
     "name": "stdout",
     "output_type": "stream",
     "text": [
      "Gui stuff done\n",
      "rmin:[-713.07385 -883.1457  -307.94617], r_max:[743.74854 743.45154 337.41827]\n",
      "Resizing node store - new size: 1500\n",
      "Resizing node store - new size: 2250\n",
      "Octree  (octree0) created\n",
      "recipe.execute()\n",
      "Executing <PYME.recipes.surface_fitting.DualMarchingCubes object at 0x000001EC3A041108>\n",
      "Dual grid created in 0.200 s\n",
      "March in 0.002 s\n",
      "Generating TriangularMesh object\n",
      "Data munged to vertices, faces\n",
      "initializing halfedges ...\n",
      "vertices.shape = (268, 3), faces.shape = (528, 3)\n",
      "iterating edges\n",
      "done initializing halfedges\n",
      "Generated TriangularMesh object\n",
      "Split count: 175\n",
      "Flip count: 125 [0 failed]\n",
      "Flip count: 11 [0 failed]\n",
      "Flip count: 1 [0 failed]\n",
      "Flip count: 0 [0 failed]\n",
      "Collapse count: 232[12 failed]\n",
      "Flip count: 55 [0 failed]\n",
      "Flip count: 1 [0 failed]\n",
      "Flip count: 0 [0 failed]\n",
      "Split count: 131\n",
      "Flip count: 108 [0 failed]\n",
      "Flip count: 7 [0 failed]\n",
      "Flip count: 0 [0 failed]\n",
      "Collapse count: 145[3 failed]\n",
      "Flip count: 33 [0 failed]\n",
      "Flip count: 0 [0 failed]\n",
      "Split count: 102\n",
      "Flip count: 74 [0 failed]\n",
      "Flip count: 1 [0 failed]\n",
      "Flip count: 0 [0 failed]\n",
      "Collapse count: 101[0 failed]\n",
      "Flip count: 21 [0 failed]\n",
      "Flip count: 0 [0 failed]\n",
      "Split count: 93\n",
      "Flip count: 78 [0 failed]\n",
      "Flip count: 1 [0 failed]\n",
      "Flip count: 0 [0 failed]\n",
      "Collapse count: 100[0 failed]\n",
      "Flip count: 30 [0 failed]\n",
      "Flip count: 0 [0 failed]\n",
      "Split count: 91\n",
      "Flip count: 65 [0 failed]\n",
      "Flip count: 3 [0 failed]\n",
      "Flip count: 0 [0 failed]\n",
      "Collapse count: 91[1 failed]\n",
      "Flip count: 30 [0 failed]\n",
      "Flip count: 0 [0 failed]\n",
      "RecipeView._layout\n"
     ]
    },
    {
     "ename": "SystemError",
     "evalue": "<class 'wx._core.WindowDestroyEvent'> returned a result with an error set",
     "output_type": "error",
     "traceback": [
      "\u001b[1;31m---------------------------------------------------------------------------\u001b[0m",
      "\u001b[1;31mwxAssertionError\u001b[0m                          Traceback (most recent call last)",
      "\u001b[1;31mwxAssertionError\u001b[0m: C++ assertion \"GetEventHandler() == this\" failed at ..\\..\\src\\common\\wincmn.cpp(478) in wxWindowBase::~wxWindowBase(): any pushed event handlers must have been removed",
      "\nThe above exception was the direct cause of the following exception:\n",
      "\u001b[1;31mSystemError\u001b[0m                               Traceback (most recent call last)",
      "\u001b[1;31mSystemError\u001b[0m: <class 'wx._core.WindowDestroyEvent'> returned a result with an error set"
     ]
    },
    {
     "ename": "SystemError",
     "evalue": "<class 'wx._core.WindowDestroyEvent'> returned a result with an error set",
     "output_type": "error",
     "traceback": [
      "\u001b[1;31m---------------------------------------------------------------------------\u001b[0m",
      "\u001b[1;31mwxAssertionError\u001b[0m                          Traceback (most recent call last)",
      "\u001b[1;31mwxAssertionError\u001b[0m: C++ assertion \"GetEventHandler() == this\" failed at ..\\..\\src\\common\\wincmn.cpp(478) in wxWindowBase::~wxWindowBase(): any pushed event handlers must have been removed",
      "\nThe above exception was the direct cause of the following exception:\n",
      "\u001b[1;31mSystemError\u001b[0m                               Traceback (most recent call last)",
      "\u001b[1;31mSystemError\u001b[0m: <class 'wx._core.WindowDestroyEvent'> returned a result with an error set"
     ]
    },
    {
     "ename": "SystemError",
     "evalue": "<class 'wx._core.WindowDestroyEvent'> returned a result with an error set",
     "output_type": "error",
     "traceback": [
      "\u001b[1;31m---------------------------------------------------------------------------\u001b[0m",
      "\u001b[1;31mwxAssertionError\u001b[0m                          Traceback (most recent call last)",
      "\u001b[1;31mwxAssertionError\u001b[0m: C++ assertion \"GetEventHandler() == this\" failed at ..\\..\\src\\common\\wincmn.cpp(478) in wxWindowBase::~wxWindowBase(): any pushed event handlers must have been removed",
      "\nThe above exception was the direct cause of the following exception:\n",
      "\u001b[1;31mSystemError\u001b[0m                               Traceback (most recent call last)",
      "\u001b[1;31mSystemError\u001b[0m: <class 'wx._core.WindowDestroyEvent'> returned a result with an error set"
     ]
    },
    {
     "ename": "RuntimeError",
     "evalue": "wrapped C/C++ object of type foldPanel has been deleted",
     "output_type": "error",
     "traceback": [
      "\u001b[1;31m---------------------------------------------------------------------------\u001b[0m",
      "\u001b[1;31mRuntimeError\u001b[0m                              Traceback (most recent call last)",
      "\u001b[1;32mc:\\users\\zrc4\\code\\python-microscopy\\PYME\\ui\\manualFoldPanel.py\u001b[0m in \u001b[0;36mOnResize\u001b[1;34m(self, event)\u001b[0m\n\u001b[0;32m    757\u001b[0m \u001b[1;33m\u001b[0m\u001b[0m\n\u001b[0;32m    758\u001b[0m     \u001b[1;32mdef\u001b[0m \u001b[0mOnResize\u001b[0m\u001b[1;33m(\u001b[0m\u001b[0mself\u001b[0m\u001b[1;33m,\u001b[0m \u001b[0mevent\u001b[0m\u001b[1;33m)\u001b[0m\u001b[1;33m:\u001b[0m\u001b[1;33m\u001b[0m\u001b[1;33m\u001b[0m\u001b[0m\n\u001b[1;32m--> 759\u001b[1;33m         \u001b[1;32mif\u001b[0m \u001b[1;33m(\u001b[0m\u001b[1;32mnot\u001b[0m \u001b[0mself\u001b[0m\u001b[1;33m.\u001b[0m\u001b[0m_in_fold1\u001b[0m\u001b[1;33m)\u001b[0m \u001b[1;32mand\u001b[0m \u001b[0mself\u001b[0m\u001b[1;33m.\u001b[0m\u001b[0mIsShownOnScreen\u001b[0m\u001b[1;33m(\u001b[0m\u001b[1;33m)\u001b[0m\u001b[1;33m:\u001b[0m\u001b[1;33m\u001b[0m\u001b[1;33m\u001b[0m\u001b[0m\n\u001b[0m\u001b[0;32m    760\u001b[0m             \u001b[0mself\u001b[0m\u001b[1;33m.\u001b[0m\u001b[0mfold1\u001b[0m\u001b[1;33m(\u001b[0m\u001b[1;33m)\u001b[0m\u001b[1;33m\u001b[0m\u001b[1;33m\u001b[0m\u001b[0m\n\u001b[0;32m    761\u001b[0m \u001b[1;33m\u001b[0m\u001b[0m\n",
      "\u001b[1;31mRuntimeError\u001b[0m: wrapped C/C++ object of type foldPanel has been deleted"
     ]
    },
    {
     "name": "stdout",
     "output_type": "stream",
     "text": [
      "Input datasources:  ['FitResults', 'octree0']\n",
      "RecipeView._layout\n"
     ]
    },
    {
     "ename": "SystemError",
     "evalue": "<class 'wx._core.WindowDestroyEvent'> returned a result with an error set",
     "output_type": "error",
     "traceback": [
      "\u001b[1;31m---------------------------------------------------------------------------\u001b[0m",
      "\u001b[1;31mwxAssertionError\u001b[0m                          Traceback (most recent call last)",
      "\u001b[1;31mwxAssertionError\u001b[0m: C++ assertion \"GetEventHandler() == this\" failed at ..\\..\\src\\common\\wincmn.cpp(478) in wxWindowBase::~wxWindowBase(): any pushed event handlers must have been removed",
      "\nThe above exception was the direct cause of the following exception:\n",
      "\u001b[1;31mSystemError\u001b[0m                               Traceback (most recent call last)",
      "\u001b[1;31mSystemError\u001b[0m: <class 'wx._core.WindowDestroyEvent'> returned a result with an error set"
     ]
    },
    {
     "ename": "SystemError",
     "evalue": "<class 'wx._core.WindowDestroyEvent'> returned a result with an error set",
     "output_type": "error",
     "traceback": [
      "\u001b[1;31m---------------------------------------------------------------------------\u001b[0m",
      "\u001b[1;31mwxAssertionError\u001b[0m                          Traceback (most recent call last)",
      "\u001b[1;31mwxAssertionError\u001b[0m: C++ assertion \"GetEventHandler() == this\" failed at ..\\..\\src\\common\\wincmn.cpp(478) in wxWindowBase::~wxWindowBase(): any pushed event handlers must have been removed",
      "\nThe above exception was the direct cause of the following exception:\n",
      "\u001b[1;31mSystemError\u001b[0m                               Traceback (most recent call last)",
      "\u001b[1;31mSystemError\u001b[0m: <class 'wx._core.WindowDestroyEvent'> returned a result with an error set"
     ]
    },
    {
     "ename": "SystemError",
     "evalue": "<class 'wx._core.WindowDestroyEvent'> returned a result with an error set",
     "output_type": "error",
     "traceback": [
      "\u001b[1;31m---------------------------------------------------------------------------\u001b[0m",
      "\u001b[1;31mwxAssertionError\u001b[0m                          Traceback (most recent call last)",
      "\u001b[1;31mwxAssertionError\u001b[0m: C++ assertion \"GetEventHandler() == this\" failed at ..\\..\\src\\common\\wincmn.cpp(478) in wxWindowBase::~wxWindowBase(): any pushed event handlers must have been removed",
      "\nThe above exception was the direct cause of the following exception:\n",
      "\u001b[1;31mSystemError\u001b[0m                               Traceback (most recent call last)",
      "\u001b[1;31mSystemError\u001b[0m: <class 'wx._core.WindowDestroyEvent'> returned a result with an error set"
     ]
    },
    {
     "ename": "SystemError",
     "evalue": "<class 'wx._core.WindowDestroyEvent'> returned a result with an error set",
     "output_type": "error",
     "traceback": [
      "\u001b[1;31m---------------------------------------------------------------------------\u001b[0m",
      "\u001b[1;31mwxAssertionError\u001b[0m                          Traceback (most recent call last)",
      "\u001b[1;31mwxAssertionError\u001b[0m: C++ assertion \"GetEventHandler() == this\" failed at ..\\..\\src\\common\\wincmn.cpp(478) in wxWindowBase::~wxWindowBase(): any pushed event handlers must have been removed",
      "\nThe above exception was the direct cause of the following exception:\n",
      "\u001b[1;31mSystemError\u001b[0m                               Traceback (most recent call last)",
      "\u001b[1;31mSystemError\u001b[0m: <class 'wx._core.WindowDestroyEvent'> returned a result with an error set"
     ]
    },
    {
     "ename": "RuntimeError",
     "evalue": "wrapped C/C++ object of type foldPanel has been deleted",
     "output_type": "error",
     "traceback": [
      "\u001b[1;31m---------------------------------------------------------------------------\u001b[0m",
      "\u001b[1;31mRuntimeError\u001b[0m                              Traceback (most recent call last)",
      "\u001b[1;32mc:\\users\\zrc4\\code\\python-microscopy\\PYME\\ui\\manualFoldPanel.py\u001b[0m in \u001b[0;36mOnResize\u001b[1;34m(self, event)\u001b[0m\n\u001b[0;32m    757\u001b[0m \u001b[1;33m\u001b[0m\u001b[0m\n\u001b[0;32m    758\u001b[0m     \u001b[1;32mdef\u001b[0m \u001b[0mOnResize\u001b[0m\u001b[1;33m(\u001b[0m\u001b[0mself\u001b[0m\u001b[1;33m,\u001b[0m \u001b[0mevent\u001b[0m\u001b[1;33m)\u001b[0m\u001b[1;33m:\u001b[0m\u001b[1;33m\u001b[0m\u001b[1;33m\u001b[0m\u001b[0m\n\u001b[1;32m--> 759\u001b[1;33m         \u001b[1;32mif\u001b[0m \u001b[1;33m(\u001b[0m\u001b[1;32mnot\u001b[0m \u001b[0mself\u001b[0m\u001b[1;33m.\u001b[0m\u001b[0m_in_fold1\u001b[0m\u001b[1;33m)\u001b[0m \u001b[1;32mand\u001b[0m \u001b[0mself\u001b[0m\u001b[1;33m.\u001b[0m\u001b[0mIsShownOnScreen\u001b[0m\u001b[1;33m(\u001b[0m\u001b[1;33m)\u001b[0m\u001b[1;33m:\u001b[0m\u001b[1;33m\u001b[0m\u001b[1;33m\u001b[0m\u001b[0m\n\u001b[0m\u001b[0;32m    760\u001b[0m             \u001b[0mself\u001b[0m\u001b[1;33m.\u001b[0m\u001b[0mfold1\u001b[0m\u001b[1;33m(\u001b[0m\u001b[1;33m)\u001b[0m\u001b[1;33m\u001b[0m\u001b[1;33m\u001b[0m\u001b[0m\n\u001b[0;32m    761\u001b[0m \u001b[1;33m\u001b[0m\u001b[0m\n",
      "\u001b[1;31mRuntimeError\u001b[0m: wrapped C/C++ object of type foldPanel has been deleted"
     ]
    },
    {
     "name": "stdout",
     "output_type": "stream",
     "text": [
      "Input datasources:  ['FitResults', 'octree0']\n"
     ]
    },
    {
     "name": "stderr",
     "output_type": "stream",
     "text": [
      "DEBUG:PYME.LMVis.shader_programs.ShaderProgramFactory:New shader program created: <class 'PYME.LMVis.shader_programs.DefaultShaderProgram.OpaquePointShaderProgram'>\n"
     ]
    },
    {
     "name": "stdout",
     "output_type": "stream",
     "text": [
      "lw update\n",
      "Creating layers GUI\n",
      "hl update\n",
      "height:  320\n",
      "NB best size: wx.Size(222, 320)\n"
     ]
    },
    {
     "name": "stderr",
     "output_type": "stream",
     "text": [
      "DEBUG:PYME.LMVis.visCore:Added layer, datasouce=output\n"
     ]
    },
    {
     "name": "stdout",
     "output_type": "stream",
     "text": [
      "lw update\n",
      "hl update\n",
      "hl update\n"
     ]
    }
   ],
   "source": [
    "# Now we need PYMEVis\n",
    "pymevis.OpenFile(points_fp)\n",
    "\n",
    "# Octree renderer (original mesh based on parameters above)\n",
    "from PYME.LMVis.Extras.extra_layers import gen_octree_from_points\n",
    "from PYME.recipes.surface_fitting import DualMarchingCubes\n",
    "\n",
    "oc_name = gen_octree_from_points(pymevis)\n",
    "surf_name, surf_count = pipeline.new_ds_name('surf', return_count=True)\n",
    "\n",
    "recipe = pipeline.recipe\n",
    "dmc = DualMarchingCubes(recipe, invalidate_parent=False, input=oc_name, output=surf_name,\n",
    "                       threshold_density=density, n_points_min=n_points_min, remesh=remesh,\n",
    "                       repair=repair, cull_inner_surfaces=cull_inner_surfaces, smooth_curvature=smooth_curvature)\n",
    "recipe.add_modules_and_execute([dmc,])\n",
    "\n",
    "octree_fp = points_fp.split('.txt')[0] + '_octree.stl'\n",
    "pipeline.dataSources[dmc.output].to_stl(octree_fp)"
   ]
  },
  {
   "cell_type": "code",
   "execution_count": null,
   "id": "886cbbb9",
   "metadata": {},
   "outputs": [
    {
     "name": "stdout",
     "output_type": "stream",
     "text": [
      "Test Statistic 0.807285\n",
      "Test Statistic 0.976583\n",
      "Test Statistic 0.532299\n",
      "Test Statistic 0.261967\n",
      "Test Statistic 0.095714\n",
      "Split count: 70\n",
      "Flip count: 66 [0 failed]\n",
      "Flip count: 0 [0 failed]\n",
      "Collapse count: 127[1 failed]\n",
      "Flip count: 27 [0 failed]\n",
      "Flip count: 1 [0 failed]\n",
      "Flip count: 0 [0 failed]\n",
      "Split count: 49\n",
      "Flip count: 47 [0 failed]\n",
      "Flip count: 1 [0 failed]\n",
      "Flip count: 0 [0 failed]\n",
      "Collapse count: 53[0 failed]\n",
      "Flip count: 24 [0 failed]\n",
      "Flip count: 1 [0 failed]\n",
      "Flip count: 0 [0 failed]\n",
      "Split count: 31\n",
      "Flip count: 26 [0 failed]\n",
      "Flip count: 0 [0 failed]\n",
      "Collapse count: 43[0 failed]\n",
      "Flip count: 14 [0 failed]\n",
      "Flip count: 1 [0 failed]\n",
      "Flip count: 0 [0 failed]\n",
      "Split count: 56\n",
      "Flip count: 44 [0 failed]\n",
      "Flip count: 2 [0 failed]\n",
      "Flip count: 0 [0 failed]\n",
      "Collapse count: 47[0 failed]\n",
      "Flip count: 20 [0 failed]\n",
      "Flip count: 0 [0 failed]\n",
      "Split count: 34\n",
      "Flip count: 27 [0 failed]\n",
      "Flip count: 3 [0 failed]\n",
      "Flip count: 0 [0 failed]\n",
      "Collapse count: 41[0 failed]\n",
      "Flip count: 13 [0 failed]\n",
      "Flip count: 1 [0 failed]\n",
      "Flip count: 0 [0 failed]\n",
      "Target mean length: 76.91629791259766   Resulting mean length: 76.962425\n",
      "Test Statistic 0.807824\n",
      "Test Statistic 0.878207\n",
      "Test Statistic 0.898404\n",
      "Test Statistic 0.820773\n",
      "Test Statistic 0.445542\n",
      "Split count: 64\n",
      "Flip count: 59 [0 failed]\n",
      "Flip count: 1 [0 failed]\n",
      "Flip count: 0 [0 failed]\n",
      "Collapse count: 133[2 failed]\n",
      "Flip count: 43 [0 failed]\n",
      "Flip count: 2 [0 failed]\n",
      "Flip count: 0 [0 failed]\n",
      "Split count: 47\n",
      "Flip count: 41 [0 failed]\n",
      "Flip count: 4 [0 failed]\n",
      "Flip count: 1 [0 failed]\n",
      "Flip count: 0 [0 failed]\n",
      "Collapse count: 58[0 failed]\n",
      "Flip count: 22 [0 failed]\n",
      "Flip count: 0 [0 failed]\n",
      "Split count: 43\n",
      "Flip count: 29 [0 failed]\n",
      "Flip count: 4 [0 failed]\n",
      "Flip count: 0 [0 failed]\n",
      "Collapse count: 44[0 failed]\n",
      "Flip count: 14 [0 failed]\n",
      "Flip count: 1 [0 failed]\n",
      "Flip count: 0 [0 failed]\n",
      "Split count: 44\n",
      "Flip count: 40 [0 failed]\n",
      "Flip count: 1 [0 failed]\n",
      "Flip count: 0 [0 failed]\n",
      "Collapse count: 43[1 failed]\n",
      "Flip count: 16 [0 failed]\n",
      "Flip count: 1 [0 failed]\n",
      "Flip count: 0 [0 failed]\n",
      "Split count: 28\n",
      "Flip count: 22 [0 failed]\n",
      "Flip count: 1 [0 failed]\n",
      "Flip count: 0 [0 failed]\n",
      "Collapse count: 27[0 failed]\n",
      "Flip count: 18 [0 failed]\n",
      "Flip count: 0 [0 failed]\n",
      "Target mean length: 76.91629791259766   Resulting mean length: 73.68226\n",
      "Test Statistic 0.826352\n",
      "Test Statistic 0.916382\n",
      "Test Statistic 0.947818\n",
      "Test Statistic 0.826881\n",
      "Test Statistic 0.776446\n",
      "Split count: 61\n",
      "Flip count: 59 [0 failed]\n",
      "Flip count: 0 [0 failed]\n",
      "Collapse count: 124[0 failed]\n",
      "Flip count: 30 [0 failed]\n",
      "Flip count: 0 [0 failed]\n",
      "Split count: 47\n",
      "Flip count: 45 [0 failed]\n",
      "Flip count: 2 [0 failed]\n",
      "Flip count: 0 [0 failed]\n",
      "Collapse count: 55[0 failed]\n",
      "Flip count: 15 [0 failed]\n",
      "Flip count: 1 [0 failed]\n",
      "Flip count: 0 [0 failed]\n",
      "Split count: 43\n",
      "Flip count: 43 [0 failed]\n",
      "Flip count: 1 [0 failed]\n",
      "Flip count: 0 [0 failed]\n",
      "Collapse count: 45[0 failed]\n",
      "Flip count: 23 [0 failed]\n",
      "Flip count: 0 [0 failed]\n",
      "Split count: 42\n",
      "Flip count: 38 [0 failed]\n",
      "Flip count: 1 [0 failed]\n",
      "Flip count: 1 [0 failed]\n",
      "Flip count: 0 [0 failed]\n",
      "Collapse count: 49[3 failed]\n",
      "Flip count: 12 [0 failed]\n",
      "Flip count: 0 [0 failed]\n",
      "Split count: 34\n",
      "Flip count: 29 [0 failed]\n",
      "Flip count: 0 [0 failed]\n",
      "Collapse count: 30[0 failed]\n",
      "Flip count: 8 [0 failed]\n",
      "Flip count: 0 [0 failed]\n",
      "Target mean length: 76.91629791259766   Resulting mean length: 73.42274\n",
      "Test Statistic 0.854816\n",
      "Test Statistic 0.779985\n"
     ]
    }
   ],
   "source": [
    "\"\"\"\n",
    "At this point, we will start from the original surface and iterate using\n",
    "different parameters.\n",
    "\"\"\"\n",
    "# Shrinkwrap renderer\n",
    "from ch_shrinkwrap import _membrane_mesh as membrane_mesh\n",
    "\n",
    "max_iters = np.hstack([5, np.logspace(1,2,10).astype(int)])\n",
    "step_size = np.logspace(0,2,10)\n",
    "search_k = np.hstack([2,np.arange(0,105,5)[1:]])[:5]\n",
    "remesh_every = np.array([5,10,20,50,100])\n",
    "\n",
    "# max_iters = np.array([10])\n",
    "# remesh_every = np.array([5])\n",
    "# step_size = np.array([12.9])\n",
    "# search_k = np.array([20])\n",
    "\n",
    "for it in max_iters:\n",
    "    for lam in step_size:\n",
    "        for k in search_k:\n",
    "            for re in remesh_every:\n",
    "                # Copy the mesh over\n",
    "                mesh = membrane_mesh.MembraneMesh(mesh=pipeline.dataSources[dmc.output])\n",
    "\n",
    "                # set params\n",
    "                mesh.max_iter = it\n",
    "                mesh.step_size = lam\n",
    "                mesh.search_k = k\n",
    "                mesh.remesh_frequency = re\n",
    "\n",
    "                start = time.time()\n",
    "                mesh.shrink_wrap(points, s, method='ictm')\n",
    "                stop = time.time()\n",
    "                duration = stop-start\n",
    "\n",
    "                wrap_fp = points_fp.split('.txt')[0] + \"_\".join(f\"_iters{it}_remesh{re}_lambda{lam:.1f}_searchk{k}_noise{no}_ntriangles{mesh.faces.shape[0]}_duration{duration:.1f}_ictm\".split('.')) + \".stl\"\n",
    "                mesh.to_stl(wrap_fp)"
   ]
  },
  {
   "cell_type": "code",
   "execution_count": null,
   "id": "9ca23d99",
   "metadata": {},
   "outputs": [],
   "source": [
    "\"\"\"\n",
    "Now calculate SPR.\n",
    "\"\"\"\n",
    "\n",
    "def screened_poisson(points_fp, rowstoskip=1, strformat='X Y Z Reflectance', separator='SPACE',\n",
    "                     colorformat='[0-255]', onerror='skip', k=10, smoothiter=0,\n",
    "                     flipflag=False, viewpos=[0,0,0], depth=8, fulldepth=5,\n",
    "                     cgdepth=0, scale=1.1, samplespernode=1.5, pointweight=4, \n",
    "                     iters=8, confidence=False, preclean=False):\n",
    "    \"\"\"\n",
    "    Run screened poisson reconstruction on a set of points, using meshlab.\n",
    "    \n",
    "    For more information on these parameters, see meshlab.\n",
    "    \n",
    "    Parameters\n",
    "    ----------\n",
    "    points_fp : str\n",
    "        Path to text file containing a point cloud represented as a set of XYZ coordinates\n",
    "    see meshlab\n",
    "    \n",
    "    Returns\n",
    "    -------\n",
    "    str\n",
    "        File path to STL of reconstruction\n",
    "        \n",
    "    \"\"\"\n",
    "    import pymeshlab as ml\n",
    "\n",
    "    ms = ml.MeshSet()  # create a mesh\n",
    "    ms.load_new_mesh(file_name=points_fp,\n",
    "                     rowtoskip=rowstoskip,\n",
    "                     strformat=strformat,\n",
    "                     separator=separator,\n",
    "                     rgbmode=colorformat,\n",
    "                     onerror=onerror)  # load points\n",
    "    start = time.time()\n",
    "    # compute normals\n",
    "    ms.compute_normals_for_point_sets(k=k,  # number of neighbors\n",
    "                                      smoothiter=smoothiter,\n",
    "                                      flipflag=flipflag,\n",
    "                                      viewpos=viewpos)\n",
    "    # run SPR\n",
    "    ms.surface_reconstruction_screened_poisson(visiblelayer=False,\n",
    "                                               depth=depth,\n",
    "                                               fulldepth=fulldepth,\n",
    "                                               cgdepth=cgdepth,\n",
    "                                               scale=scale,\n",
    "                                               samplespernode=samplespernode,\n",
    "                                               pointweight=pointweight,\n",
    "                                               iters=iters,\n",
    "                                               confidence=confidence,\n",
    "                                               preclean=preclean)\n",
    "    stop = time.time()\n",
    "    duration = stop-start\n",
    "    # save surface\n",
    "    surface_fp = points_fp.split('.txt')[0] + \"_\".join(f\"_searchk{k}_depth{depth}_scale{scale}_samplespernode{samplespernode}_pointweight{pointweight}_iters{iters}_noise{no}_duration{duration:.1f}_spr\".split('.')) + \".stl\"\n",
    "    ms.save_current_mesh(file_name=surface_fp, unify_vertices=True)\n",
    "    \n",
    "    return surface_fp\n",
    "\n",
    "max_iters = np.arange(4,15,2)\n",
    "depth = np.arange(4,15,2,dtype=int)\n",
    "search_k = np.hstack([2,np.arange(0,105,5)[1:]])[:7]\n",
    "scale=np.arange(5,16,2)/10\n",
    "samplespernode=np.arange(1,20,0.5)\n",
    "pointweight=np.arange(0,10)\n",
    "\n",
    "# max_iters = np.array([8],dtype=int)\n",
    "# depth = np.array([8],dtype=int)\n",
    "# search_k = np.array([10])\n",
    "# scale=np.array([1.1])\n",
    "# samplespernode=np.array([1.5])\n",
    "# pointweight=np.array([4])\n",
    "\n",
    "for it in max_iters:\n",
    "    for k in search_k:\n",
    "        for d in depth:\n",
    "            for sc in scale:\n",
    "                for spn in samplespernode:\n",
    "                    for wt in pointweight:\n",
    "                        spr_fp = screened_poisson(points_fp, k=k, depth=d, fulldepth=fulldepth, \n",
    "                                                  scale=sc, samplespernode=spn, pointweight=wt, iters=it)"
   ]
  },
  {
   "cell_type": "code",
   "execution_count": null,
   "id": "3ea98b2e",
   "metadata": {},
   "outputs": [],
   "source": []
  },
  {
   "cell_type": "code",
   "execution_count": null,
   "id": "bb6babe6",
   "metadata": {},
   "outputs": [],
   "source": []
  }
 ],
 "metadata": {
  "kernelspec": {
   "display_name": "pyme",
   "language": "python",
   "name": "pyme"
  },
  "language_info": {
   "codemirror_mode": {
    "name": "ipython",
    "version": 3
   },
   "file_extension": ".py",
   "mimetype": "text/x-python",
   "name": "python",
   "nbconvert_exporter": "python",
   "pygments_lexer": "ipython3",
   "version": "3.7.11"
  }
 },
 "nbformat": 4,
 "nbformat_minor": 5
}
