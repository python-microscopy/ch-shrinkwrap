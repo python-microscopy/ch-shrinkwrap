{
 "cells": [
  {
   "cell_type": "code",
   "execution_count": 1,
   "metadata": {},
   "outputs": [
    {
     "name": "stderr",
     "output_type": "stream",
     "text": [
      "/Users/zachcm/opt/miniconda3/envs/pyme/lib/python3.7/_collections_abc.py:702: MatplotlibDeprecationWarning: The global colormaps dictionary is no longer considered public API.\n",
      "  return len(self._mapping)\n",
      "/Users/zachcm/opt/miniconda3/envs/pyme/lib/python3.7/_collections_abc.py:720: MatplotlibDeprecationWarning: The global colormaps dictionary is no longer considered public API.\n",
      "  yield from self._mapping\n",
      "/Users/zachcm/Code/python-microscopy/PYME/misc/extraCMaps.py:73: MatplotlibDeprecationWarning: \n",
      "The revcmap function was deprecated in Matplotlib 3.2 and will be removed two minor releases later. Use Colormap.reversed() instead.\n",
      "  cmapdat_r = cm.revcmap(ndat[cmapname])\n",
      "INFO:OpenGL.acceleratesupport:No OpenGL_accelerate module loaded: No module named 'OpenGL_accelerate'\n"
     ]
    },
    {
     "name": "stdout",
     "output_type": "stream",
     "text": [
      "Trying to load 3rd party recipe module ch_shrinkwrap.recipe_modules.surface_fitting\n",
      "Loaded 3rd party recipe module ch_shrinkwrap.recipe_modules.surface_fitting\n",
      "quaternion module not found, disabling custom clip plane orientations\n",
      "quaternion module not found, disabling custom clip plane orientations\n"
     ]
    }
   ],
   "source": [
    "%gui wx\n",
    "\n",
    "from PYME.LMVis import VisGUI"
   ]
  },
  {
   "cell_type": "code",
   "execution_count": 2,
   "metadata": {},
   "outputs": [],
   "source": [
    "# Delay so wx can boot up\n",
    "import time\n",
    "time.sleep(4)"
   ]
  },
  {
   "cell_type": "code",
   "execution_count": 3,
   "metadata": {},
   "outputs": [
    {
     "name": "stderr",
     "output_type": "stream",
     "text": [
      "DEBUG:PYME.LMVis.visCore:Creating VisGUI menu bar\n",
      "DEBUG:PYME.LMVis.Extras:Initializing QPobjectSegment plugin\n",
      "DEBUG:PYME.LMVis.Extras:Initializing animation plugin\n",
      "DEBUG:PYME.LMVis.Extras:Initializing clusterAnalysis plugin\n",
      "DEBUG:PYME.LMVis.Extras:Initializing dockedPanel plugin\n",
      "DEBUG:PYME.LMVis.Extras:Initializing extra_layers plugin\n",
      "DEBUG:PYME.LMVis.Extras:Initializing fiducial plugin\n",
      "DEBUG:PYME.LMVis.Extras:Initializing flagZMotionArtifacts plugin\n",
      "DEBUG:root:Adding menu items for event filters\n",
      "DEBUG:PYME.LMVis.Extras:Initializing fusionUtils plugin\n",
      "DEBUG:PYME.LMVis.Extras:Initializing multiColourAnalysis plugin\n",
      "DEBUG:PYME.LMVis.Extras:Initializing multiviewMapping plugin\n",
      "DEBUG:root:Adding menu items for multi-view manipulation\n",
      "DEBUG:PYME.LMVis.Extras:Initializing objectMeasurements plugin\n",
      "DEBUG:PYME.LMVis.Extras:Initializing particleTracking plugin\n",
      "DEBUG:PYME.LMVis.Extras:Initializing perFrameVariable plugin\n",
      "DEBUG:PYME.LMVis.Extras:Initializing photophysics plugin\n",
      "DEBUG:PYME.LMVis.Extras:Initializing pointSetGeneration plugin\n",
      "DEBUG:PYME.LMVis.Extras:Initializing pointwiseColoc plugin\n",
      "DEBUG:PYME.LMVis.Extras:Initializing saved_views plugin\n",
      "DEBUG:PYME.LMVis.Extras:Initializing scaleBox plugin\n",
      "DEBUG:PYME.LMVis.Extras:Initializing sequentialSpecies plugin\n",
      "DEBUG:PYME.LMVis.Extras:Initializing setBGImage plugin\n",
      "DEBUG:PYME.LMVis.Extras:Initializing shiftmapGenerator plugin\n",
      "DEBUG:PYME.LMVis.Extras:Initializing showShortcuts plugin\n",
      "DEBUG:PYME.LMVis.Extras:Initializing snapshot plugin\n",
      "DEBUG:PYME.LMVis.Extras:Initializing spherical_harmonics plugin\n",
      "DEBUG:root:Adding menu items for spherical harmonic (shell) fitting\n",
      "DEBUG:PYME.LMVis.Extras:Initializing subsets plugin\n",
      "DEBUG:PYME.LMVis.Extras:Initializing surface_fitting plugin\n",
      "DEBUG:PYME.LMVis.Extras:Initializing temperaturePlot plugin\n",
      "DEBUG:PYME.LMVis.Extras:Initializing vibration plugin\n"
     ]
    },
    {
     "name": "stdout",
     "output_type": "stream",
     "text": [
      "New Canvas\n",
      "Saved Views are deprecated -  use the ones with animation instead and remove me!\n"
     ]
    },
    {
     "name": "stderr",
     "output_type": "stream",
     "text": [
      "/Users/zachcm/Code/python-microscopy/PYME/LMVis/filterPane.py:111: wxPyDeprecationWarning: Call to deprecated item. Use InsertItem instead.\n",
      "  ind = self.lFiltKeys.InsertStringItem(ind+1, key)\n",
      "/Users/zachcm/Code/python-microscopy/PYME/LMVis/filterPane.py:112: wxPyDeprecationWarning: Call to deprecated item. Use SetItem instead.\n",
      "  self.lFiltKeys.SetStringItem(ind, 1, '%3.2f' % value[0])\n",
      "/Users/zachcm/Code/python-microscopy/PYME/LMVis/filterPane.py:113: wxPyDeprecationWarning: Call to deprecated item. Use SetItem instead.\n",
      "  self.lFiltKeys.SetStringItem(ind, 2, '%3.2f' % value[1])\n",
      "/Users/zachcm/Code/python-microscopy/PYME/LMVis/filterPane.py:111: wxPyDeprecationWarning: Call to deprecated item. Use InsertItem instead.\n",
      "  ind = self.lFiltKeys.InsertStringItem(ind+1, key)\n",
      "/Users/zachcm/Code/python-microscopy/PYME/LMVis/filterPane.py:112: wxPyDeprecationWarning: Call to deprecated item. Use SetItem instead.\n",
      "  self.lFiltKeys.SetStringItem(ind, 1, '%3.2f' % value[0])\n",
      "/Users/zachcm/Code/python-microscopy/PYME/LMVis/filterPane.py:113: wxPyDeprecationWarning: Call to deprecated item. Use SetItem instead.\n",
      "  self.lFiltKeys.SetStringItem(ind, 2, '%3.2f' % value[1])\n",
      "DEBUG:PYME.LMVis.shader_programs.ShaderProgramFactory:New shader program created: <class 'PYME.LMVis.shader_programs.DefaultShaderProgram.DefaultShaderProgram'>\n"
     ]
    },
    {
     "name": "stdout",
     "output_type": "stream",
     "text": [
      "Creating fold panel\n",
      "GenPanels\n",
      "Creating datasource panel\n",
      "RecipeView._layout\n",
      "Input datasources:  []\n",
      "Image list size: 1\n",
      "Creating layers GUI\n",
      "height:  0\n",
      "NB best size: wx.Size(200, 0)\n",
      "RecipeView._layout\n",
      "Input datasources:  []\n",
      "RecipeView._layout\n",
      "Input datasources:  []\n",
      "0\n",
      "OpenGL - Version: b'2.1 INTEL-14.7.8'\n",
      "Shader - Version: b'1.20'\n",
      "GL_MAX_SAMPLES: 8, GL_SAMPLES: 4\n"
     ]
    },
    {
     "name": "stderr",
     "output_type": "stream",
     "text": [
      "/Users/zachcm/Code/python-microscopy/PYME/ui/manualFoldPanel.py:37: wxPyDeprecationWarning: Using deprecated class. Use Colour instead.\n",
      "  col = wx.NamedColour(col)\n"
     ]
    }
   ],
   "source": [
    "pymevis = VisGUI.ipython_pymevisualize()\n",
    "pipeline = pymevis.pipeline"
   ]
  },
  {
   "cell_type": "code",
   "execution_count": 4,
   "metadata": {},
   "outputs": [
    {
     "name": "stdout",
     "output_type": "stream",
     "text": [
      "Data munged to vertices, faces\n",
      "initializing halfedges ...\n",
      "vertices.shape = (529, 3), faces.shape = (1054, 3)\n",
      "iterating edges\n",
      "done initializing halfedges\n"
     ]
    }
   ],
   "source": [
    "import numpy as np\n",
    "from ch_shrinkwrap import membrane_mesh\n",
    "\n",
    "# Load torus mesh with no hole in it\n",
    "mesh = membrane_mesh.MembraneMesh.from_stl('hemo.stl')\n",
    "max_iters = 1\n",
    "step_size = 0.1\n",
    "# mesh.kc = 1.0\n",
    "attraction_weight = 0  # eV/nm\n",
    "curvature_weight = 10\n",
    "method = 'euler'\n",
    "\n",
    "mesh.a = attraction_weight\n",
    "mesh.c = curvature_weight\n",
    "mesh.max_iter = max_iters\n",
    "mesh.step_size = step_size\n",
    "\n",
    "pts = np.load('hemo_pts.npy')\n",
    "sigma = np.load('hemo_sigma.npy')"
   ]
  },
  {
   "cell_type": "code",
   "execution_count": 5,
   "metadata": {},
   "outputs": [
    {
     "name": "stderr",
     "output_type": "stream",
     "text": [
      "/Users/zachcm/Code/python-microscopy/PYME/IO/tabular.py:48: VisibleDeprecationWarning: mappingFilter is deprecated, use MappingFilter instead\n",
      "  warnings.warn(VisibleDeprecationWarning('%s is deprecated, use %s instead' % (name, cls.__name__)))\n",
      "/Users/zachcm/Code/python-microscopy/PYME/IO/tabular.py:928: VisibleDeprecationWarning: Mapping filter created with something that is not a tabular object. This will be unsupported in a future release. Consider DictSource or ColumnSource instead\n",
      "  warnings.warn(VisibleDeprecationWarning('Mapping filter created with something that is not a tabular object. This will be unsupported in a future release. Consider DictSource or ColumnSource instead'))\n",
      "DEBUG:PYME.LMVis.shader_programs.ShaderProgramFactory:New shader program created: <class 'PYME.LMVis.shader_programs.DefaultShaderProgram.OpaquePointShaderProgram'>\n"
     ]
    },
    {
     "name": "stdout",
     "output_type": "stream",
     "text": [
      "lw update\n",
      "lw update\n",
      "Creating layers GUI\n"
     ]
    },
    {
     "name": "stderr",
     "output_type": "stream",
     "text": [
      "/Users/zachcm/Code/python-microscopy/PYME/LMVis/layers/base.py:65: FutureWarning: `rcond` parameter will change to the default of machine precision times ``max(M, N)`` where M and N are the input matrix dimensions.\n",
      "To use the future default and silence this warning we advise to pass `rcond=None`, to keep using the old, explicitly pass `rcond=-1`.\n",
      "  self.shader_program.v_matrix[3,:3] = -np.linalg.lstsq(gl_canvas.object_rotation_matrix[:3,:3], gl_canvas.view.translation)[0]\n",
      "DEBUG:PYME.LMVis.visCore:Added layer, datasouce=points\n"
     ]
    },
    {
     "name": "stdout",
     "output_type": "stream",
     "text": [
      "hl update\n",
      "height:  308\n",
      "NB best size: wx.Size(243, 308)\n"
     ]
    },
    {
     "data": {
      "text/plain": [
       "<PYME.LMVis.layers.pointcloud.PointCloudRenderLayer at 0x7fbd02cc6650>"
      ]
     },
     "execution_count": 5,
     "metadata": {},
     "output_type": "execute_result"
    }
   ],
   "source": [
    "# Display torus points\n",
    "from PYME.IO import tabular\n",
    "\n",
    "pipeline.addDataSource('points', tabular.mappingFilter({'x': pts[:,0],\n",
    "                                                        'y': pts[:,1],\n",
    "                                                        'z': pts[:,2]}))\n",
    "pipeline.selectDataSource('points')\n",
    "pymevis.add_pointcloud_layer(ds_name='points')"
   ]
  },
  {
   "cell_type": "code",
   "execution_count": 6,
   "metadata": {},
   "outputs": [
    {
     "name": "stderr",
     "output_type": "stream",
     "text": [
      "DEBUG:PYME.LMVis.shader_programs.ShaderProgramFactory:New shader program created: <class 'PYME.LMVis.shader_programs.WireFrameShaderProgram.WireFrameShaderProgram'>\n"
     ]
    },
    {
     "name": "stdout",
     "output_type": "stream",
     "text": [
      "lw update\n",
      "Disposing of HistLimitsEditor\n",
      "Creating layers GUI\n",
      "hl update\n"
     ]
    },
    {
     "name": "stderr",
     "output_type": "stream",
     "text": [
      "/Users/zachcm/Code/python-microscopy/PYME/ui/layerFoldPanel.py:47: wxPyDeprecationWarning: Call to deprecated item BitmapFromBuffer. Use :meth:`wx.Bitmap.FromBuffer` or :meth:`wx.Bitmap.FromBufferAndAlpha` instead.\n",
      "  return wx.BitmapFromBuffer(30, 10, img)\n",
      "/Users/zachcm/Code/python-microscopy/PYME/ui/histLimits.py:289: wxPyDeprecationWarning: Call to deprecated item EmptyBitmap. Use :class:`wx.Bitmap` instead\n",
      "  MemBitmap = wx.EmptyBitmap(s.GetWidth(), s.GetHeight())\n"
     ]
    },
    {
     "name": "stdout",
     "output_type": "stream",
     "text": [
      "hl update\n",
      "height:  335\n",
      "NB best size: wx.Size(200, 335)\n"
     ]
    }
   ],
   "source": [
    "from PYME.LMVis.layers.mesh import TriangleRenderLayer\n",
    "\n",
    "# Display torus mesh\n",
    "\n",
    "mesh_name = pipeline.new_ds_name('hemo')\n",
    "surf_count=0\n",
    "pipeline.recipe.namespace[mesh_name] = mesh\n",
    "layer = TriangleRenderLayer(pipeline, dsname=mesh_name, method='wireframe', cmap = ['C', 'M', 'Y', 'R', 'G', 'B'][surf_count % 6])\n",
    "pymevis.add_layer(layer)"
   ]
  },
  {
   "cell_type": "code",
   "execution_count": 7,
   "metadata": {},
   "outputs": [
    {
     "name": "stdout",
     "output_type": "stream",
     "text": [
      "Delaunay remesh...\n",
      "initializing halfedges ...\n",
      "vertices.shape = (529, 3), faces.shape = (1054, 3)\n",
      "iterating edges\n",
      "done initializing halfedges\n",
      "Disposing of HistLimitsEditor\n",
      "Disposing of HistLimitsEditor\n",
      "Creating layers GUI\n",
      "hl update\n"
     ]
    },
    {
     "ename": "AttributeError",
     "evalue": "'TriangleRenderLayer' object has no attribute '_vertices'",
     "output_type": "error",
     "traceback": [
      "\u001b[0;31m---------------------------------------------------------------------------\u001b[0m",
      "\u001b[0;31mAttributeError\u001b[0m                            Traceback (most recent call last)",
      "\u001b[0;32m~/Code/python-microscopy/PYME/LMVis/gl_render3D_shaders.py\u001b[0m in \u001b[0;36mOnPaint\u001b[0;34m(self, events)\u001b[0m\n\u001b[1;32m    211\u001b[0m             \u001b[0mself\u001b[0m\u001b[0;34m.\u001b[0m\u001b[0minitialize\u001b[0m\u001b[0;34m(\u001b[0m\u001b[0;34m)\u001b[0m\u001b[0;34m\u001b[0m\u001b[0;34m\u001b[0m\u001b[0m\n\u001b[1;32m    212\u001b[0m         \u001b[0;32melse\u001b[0m\u001b[0;34m:\u001b[0m\u001b[0;34m\u001b[0m\u001b[0;34m\u001b[0m\u001b[0m\n\u001b[0;32m--> 213\u001b[0;31m             \u001b[0mself\u001b[0m\u001b[0;34m.\u001b[0m\u001b[0mOnDraw\u001b[0m\u001b[0;34m(\u001b[0m\u001b[0;34m)\u001b[0m\u001b[0;34m\u001b[0m\u001b[0;34m\u001b[0m\u001b[0m\n\u001b[0m\u001b[1;32m    214\u001b[0m         \u001b[0;32mreturn\u001b[0m\u001b[0;34m\u001b[0m\u001b[0;34m\u001b[0m\u001b[0m\n\u001b[1;32m    215\u001b[0m \u001b[0;34m\u001b[0m\u001b[0m\n",
      "\u001b[0;32m~/Code/python-microscopy/PYME/LMVis/gl_render3D_shaders.py\u001b[0m in \u001b[0;36mOnDraw\u001b[0;34m(self)\u001b[0m\n\u001b[1;32m    398\u001b[0m                         \u001b[0moit_layers\u001b[0m\u001b[0;34m.\u001b[0m\u001b[0mappend\u001b[0m\u001b[0;34m(\u001b[0m\u001b[0ml\u001b[0m\u001b[0;34m)\u001b[0m\u001b[0;34m\u001b[0m\u001b[0;34m\u001b[0m\u001b[0m\n\u001b[1;32m    399\u001b[0m                     \u001b[0;32melse\u001b[0m\u001b[0;34m:\u001b[0m\u001b[0;34m\u001b[0m\u001b[0;34m\u001b[0m\u001b[0m\n\u001b[0;32m--> 400\u001b[0;31m                         \u001b[0ml\u001b[0m\u001b[0;34m.\u001b[0m\u001b[0mrender\u001b[0m\u001b[0;34m(\u001b[0m\u001b[0mself\u001b[0m\u001b[0;34m)\u001b[0m\u001b[0;34m\u001b[0m\u001b[0;34m\u001b[0m\u001b[0m\n\u001b[0m\u001b[1;32m    401\u001b[0m \u001b[0;34m\u001b[0m\u001b[0m\n\u001b[1;32m    402\u001b[0m                 \u001b[0;32mif\u001b[0m \u001b[0mlen\u001b[0m\u001b[0;34m(\u001b[0m\u001b[0moit_layers\u001b[0m\u001b[0;34m)\u001b[0m \u001b[0;34m>\u001b[0m \u001b[0;36m0\u001b[0m\u001b[0;34m:\u001b[0m\u001b[0;34m\u001b[0m\u001b[0;34m\u001b[0m\u001b[0m\n",
      "\u001b[0;32m~/Code/python-microscopy/PYME/LMVis/layers/base.py\u001b[0m in \u001b[0;36mrender\u001b[0;34m(self, gl_canvas)\u001b[0m\n\u001b[1;32m    116\u001b[0m     \u001b[0;32mdef\u001b[0m \u001b[0mrender\u001b[0m\u001b[0;34m(\u001b[0m\u001b[0mself\u001b[0m\u001b[0;34m,\u001b[0m \u001b[0mgl_canvas\u001b[0m\u001b[0;34m)\u001b[0m\u001b[0;34m:\u001b[0m\u001b[0;34m\u001b[0m\u001b[0;34m\u001b[0m\u001b[0m\n\u001b[1;32m    117\u001b[0m         \u001b[0;32mif\u001b[0m \u001b[0mself\u001b[0m\u001b[0;34m.\u001b[0m\u001b[0mvisible\u001b[0m\u001b[0;34m:\u001b[0m\u001b[0;34m\u001b[0m\u001b[0;34m\u001b[0m\u001b[0m\n\u001b[0;32m--> 118\u001b[0;31m             \u001b[0;32mreturn\u001b[0m \u001b[0mself\u001b[0m\u001b[0;34m.\u001b[0m\u001b[0mengine\u001b[0m\u001b[0;34m.\u001b[0m\u001b[0mrender\u001b[0m\u001b[0;34m(\u001b[0m\u001b[0mgl_canvas\u001b[0m\u001b[0;34m,\u001b[0m \u001b[0mself\u001b[0m\u001b[0;34m)\u001b[0m\u001b[0;34m\u001b[0m\u001b[0;34m\u001b[0m\u001b[0m\n\u001b[0m\u001b[1;32m    119\u001b[0m \u001b[0;34m\u001b[0m\u001b[0m\n\u001b[1;32m    120\u001b[0m \u001b[0;34m\u001b[0m\u001b[0m\n",
      "\u001b[0;32m~/Code/python-microscopy/PYME/LMVis/layers/mesh.py\u001b[0m in \u001b[0;36mrender\u001b[0;34m(self, gl_canvas, layer)\u001b[0m\n\u001b[1;32m     25\u001b[0m \u001b[0;34m\u001b[0m\u001b[0m\n\u001b[1;32m     26\u001b[0m         \u001b[0;32mwith\u001b[0m \u001b[0mself\u001b[0m\u001b[0;34m.\u001b[0m\u001b[0mshader_program\u001b[0m\u001b[0;34m:\u001b[0m\u001b[0;34m\u001b[0m\u001b[0;34m\u001b[0m\u001b[0m\n\u001b[0;32m---> 27\u001b[0;31m             \u001b[0mvertices\u001b[0m \u001b[0;34m=\u001b[0m \u001b[0mlayer\u001b[0m\u001b[0;34m.\u001b[0m\u001b[0mget_vertices\u001b[0m\u001b[0;34m(\u001b[0m\u001b[0;34m)\u001b[0m\u001b[0;34m\u001b[0m\u001b[0;34m\u001b[0m\u001b[0m\n\u001b[0m\u001b[1;32m     28\u001b[0m             \u001b[0mn_vertices\u001b[0m \u001b[0;34m=\u001b[0m \u001b[0mvertices\u001b[0m\u001b[0;34m.\u001b[0m\u001b[0mshape\u001b[0m\u001b[0;34m[\u001b[0m\u001b[0;36m0\u001b[0m\u001b[0;34m]\u001b[0m\u001b[0;34m\u001b[0m\u001b[0;34m\u001b[0m\u001b[0m\n\u001b[1;32m     29\u001b[0m \u001b[0;34m\u001b[0m\u001b[0m\n",
      "\u001b[0;32m~/Code/python-microscopy/PYME/LMVis/layers/mesh.py\u001b[0m in \u001b[0;36mget_vertices\u001b[0;34m(self)\u001b[0m\n\u001b[1;32m    294\u001b[0m \u001b[0;34m\u001b[0m\u001b[0m\n\u001b[1;32m    295\u001b[0m     \u001b[0;32mdef\u001b[0m \u001b[0mget_vertices\u001b[0m\u001b[0;34m(\u001b[0m\u001b[0mself\u001b[0m\u001b[0;34m)\u001b[0m\u001b[0;34m:\u001b[0m\u001b[0;34m\u001b[0m\u001b[0;34m\u001b[0m\u001b[0m\n\u001b[0;32m--> 296\u001b[0;31m         \u001b[0;32mreturn\u001b[0m \u001b[0mself\u001b[0m\u001b[0;34m.\u001b[0m\u001b[0m_vertices\u001b[0m\u001b[0;34m\u001b[0m\u001b[0;34m\u001b[0m\u001b[0m\n\u001b[0m\u001b[1;32m    297\u001b[0m \u001b[0;34m\u001b[0m\u001b[0m\n\u001b[1;32m    298\u001b[0m     \u001b[0;32mdef\u001b[0m \u001b[0mget_normals\u001b[0m\u001b[0;34m(\u001b[0m\u001b[0mself\u001b[0m\u001b[0;34m)\u001b[0m\u001b[0;34m:\u001b[0m\u001b[0;34m\u001b[0m\u001b[0;34m\u001b[0m\u001b[0m\n",
      "\u001b[0;31mAttributeError\u001b[0m: 'TriangleRenderLayer' object has no attribute '_vertices'"
     ]
    },
    {
     "name": "stdout",
     "output_type": "stream",
     "text": [
      "hl update\n",
      "hl update\n",
      "height:  360\n",
      "NB best size: wx.Size(200, 360)\n"
     ]
    },
    {
     "name": "stderr",
     "output_type": "stream",
     "text": [
      "ERROR:traitsui.wx.toolkit:Wx control <traitsui.wx.helper.TraitsUIPanel object at 0x7fbd038310f0> not destroyed cleanly\n",
      "Traceback (most recent call last):\n",
      "  File \"/Users/zachcm/opt/miniconda3/envs/pyme/lib/python3.7/site-packages/traitsui/wx/toolkit.py\", line 436, in _destroy_control\n",
      "    control.Destroy()\n",
      "  File \"/Users/zachcm/opt/miniconda3/envs/pyme/lib/python3.7/site-packages/traitsui/wx/helper.py\", line 326, in Destroy\n",
      "    self.Unbind(wx.EVT_CHILD_FOCUS)\n",
      "  File \"/Users/zachcm/opt/miniconda3/envs/pyme/lib/python3.7/site-packages/wx/core.py\", line 1416, in _EvtHandler_Unbind\n",
      "    return event.Unbind(self, id, id2, handler)\n",
      "  File \"/Users/zachcm/opt/miniconda3/envs/pyme/lib/python3.7/site-packages/wx/core.py\", line 1485, in Unbind\n",
      "    success += int(target.Disconnect(id1, id2, et, handler))\n",
      "RuntimeError: wrapped C/C++ object of type TraitsUIPanel has been deleted\n",
      "ERROR:traitsui.wx.toolkit:Wx control <traitsui.wx.helper.TraitsUIPanel object at 0x7fbd03a66c30> not destroyed cleanly\n",
      "Traceback (most recent call last):\n",
      "  File \"/Users/zachcm/opt/miniconda3/envs/pyme/lib/python3.7/site-packages/traitsui/wx/toolkit.py\", line 436, in _destroy_control\n",
      "    control.Destroy()\n",
      "  File \"/Users/zachcm/opt/miniconda3/envs/pyme/lib/python3.7/site-packages/traitsui/wx/helper.py\", line 326, in Destroy\n",
      "    self.Unbind(wx.EVT_CHILD_FOCUS)\n",
      "  File \"/Users/zachcm/opt/miniconda3/envs/pyme/lib/python3.7/site-packages/wx/core.py\", line 1416, in _EvtHandler_Unbind\n",
      "    return event.Unbind(self, id, id2, handler)\n",
      "  File \"/Users/zachcm/opt/miniconda3/envs/pyme/lib/python3.7/site-packages/wx/core.py\", line 1485, in Unbind\n",
      "    success += int(target.Disconnect(id1, id2, et, handler))\n",
      "RuntimeError: wrapped C/C++ object of type TraitsUIPanel has been deleted\n",
      "ERROR:traitsui.wx.toolkit:Wx control <traitsui.wx.helper.TraitsUIPanel object at 0x7fbce3e68910> not destroyed cleanly\n",
      "Traceback (most recent call last):\n",
      "  File \"/Users/zachcm/opt/miniconda3/envs/pyme/lib/python3.7/site-packages/traitsui/wx/toolkit.py\", line 436, in _destroy_control\n",
      "    control.Destroy()\n",
      "  File \"/Users/zachcm/opt/miniconda3/envs/pyme/lib/python3.7/site-packages/traitsui/wx/helper.py\", line 326, in Destroy\n",
      "    self.Unbind(wx.EVT_CHILD_FOCUS)\n",
      "  File \"/Users/zachcm/opt/miniconda3/envs/pyme/lib/python3.7/site-packages/wx/core.py\", line 1416, in _EvtHandler_Unbind\n",
      "    return event.Unbind(self, id, id2, handler)\n",
      "  File \"/Users/zachcm/opt/miniconda3/envs/pyme/lib/python3.7/site-packages/wx/core.py\", line 1485, in Unbind\n",
      "    success += int(target.Disconnect(id1, id2, et, handler))\n",
      "RuntimeError: wrapped C/C++ object of type TraitsUIPanel has been deleted\n"
     ]
    },
    {
     "name": "stdout",
     "output_type": "stream",
     "text": [
      "Ev Idle\n",
      "('points', 't')\n",
      "refreshed\n"
     ]
    }
   ],
   "source": [
    "# punch a hole\n",
    "v, f = mesh.delaunay_remesh(pts)\n",
    "\n",
    "mesh2 = membrane_mesh.MembraneMesh(v,f)\n",
    "\n",
    "mesh2_name = pipeline.new_ds_name('hemo')\n",
    "surf_count=1\n",
    "pipeline.recipe.namespace[mesh2_name] = mesh2\n",
    "layer2 = TriangleRenderLayer(pipeline, dsname=mesh2_name, method='wireframe', cmap = ['C', 'M', 'Y', 'R', 'G', 'B'][surf_count % 6])\n",
    "pymevis.add_layer(layer2)"
   ]
  },
  {
   "cell_type": "code",
   "execution_count": null,
   "metadata": {},
   "outputs": [],
   "source": []
  }
 ],
 "metadata": {
  "kernelspec": {
   "display_name": "pyme",
   "language": "python",
   "name": "pyme"
  },
  "language_info": {
   "codemirror_mode": {
    "name": "ipython",
    "version": 3
   },
   "file_extension": ".py",
   "mimetype": "text/x-python",
   "name": "python",
   "nbconvert_exporter": "python",
   "pygments_lexer": "ipython3",
   "version": "3.7.6"
  }
 },
 "nbformat": 4,
 "nbformat_minor": 4
}
