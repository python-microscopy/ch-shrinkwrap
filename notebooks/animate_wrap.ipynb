{
 "cells": [
  {
   "cell_type": "code",
   "execution_count": 1,
   "metadata": {},
   "outputs": [
    {
     "name": "stderr",
     "output_type": "stream",
     "text": [
      "/Users/zachcm/opt/miniconda3/envs/pyme/lib/python3.7/_collections_abc.py:702: MatplotlibDeprecationWarning: The global colormaps dictionary is no longer considered public API.\n",
      "  return len(self._mapping)\n",
      "/Users/zachcm/opt/miniconda3/envs/pyme/lib/python3.7/_collections_abc.py:720: MatplotlibDeprecationWarning: The global colormaps dictionary is no longer considered public API.\n",
      "  yield from self._mapping\n",
      "/Users/zachcm/Code/python-microscopy/PYME/misc/extraCMaps.py:73: MatplotlibDeprecationWarning: \n",
      "The revcmap function was deprecated in Matplotlib 3.2 and will be removed two minor releases later. Use Colormap.reversed() instead.\n",
      "  cmapdat_r = cm.revcmap(ndat[cmapname])\n",
      "INFO:OpenGL.acceleratesupport:No OpenGL_accelerate module loaded: No module named 'OpenGL_accelerate'\n"
     ]
    },
    {
     "name": "stdout",
     "output_type": "stream",
     "text": [
      "Trying to load 3rd party recipe module nep_fitting.recipe_modules.nep_fits\n",
      "Loaded 3rd party recipe module nep_fitting.recipe_modules.nep_fits\n",
      "Trying to load 3rd party recipe module ch_shrinkwrap.recipe_modules.surface_fitting\n",
      "Loaded 3rd party recipe module ch_shrinkwrap.recipe_modules.surface_fitting\n",
      "quaternion module not found, disabling custom clip plane orientations\n",
      "quaternion module not found, disabling custom clip plane orientations\n"
     ]
    }
   ],
   "source": [
    "%gui wx\n",
    "\n",
    "import os\n",
    "from PYME.LMVis import VisGUI\n",
    "from PIL import Image"
   ]
  },
  {
   "cell_type": "code",
   "execution_count": 2,
   "metadata": {},
   "outputs": [],
   "source": [
    "# Delay so wx can boot up\n",
    "import time\n",
    "time.sleep(8)"
   ]
  },
  {
   "cell_type": "code",
   "execution_count": 3,
   "metadata": {},
   "outputs": [
    {
     "name": "stderr",
     "output_type": "stream",
     "text": [
      "DEBUG:PYME.LMVis.visCore:Creating VisGUI menu bar\n",
      "DEBUG:PYME.LMVis.Extras:Initializing QPobjectSegment plugin\n",
      "DEBUG:PYME.LMVis.Extras:Initializing animation plugin\n",
      "DEBUG:PYME.LMVis.Extras:Initializing clusterAnalysis plugin\n",
      "DEBUG:PYME.LMVis.Extras:Initializing dockedPanel plugin\n",
      "DEBUG:PYME.LMVis.Extras:Initializing extra_layers plugin\n",
      "DEBUG:PYME.LMVis.Extras:Initializing fiducial plugin\n",
      "DEBUG:PYME.LMVis.Extras:Initializing flagZMotionArtifacts plugin\n",
      "DEBUG:root:Adding menu items for event filters\n",
      "DEBUG:PYME.LMVis.Extras:Initializing fusionUtils plugin\n",
      "DEBUG:PYME.LMVis.Extras:Initializing multiColourAnalysis plugin\n",
      "DEBUG:PYME.LMVis.Extras:Initializing multiviewMapping plugin\n",
      "DEBUG:root:Adding menu items for multi-view manipulation\n",
      "DEBUG:PYME.LMVis.Extras:Initializing objectMeasurements plugin\n",
      "DEBUG:PYME.LMVis.Extras:Initializing particleTracking plugin\n",
      "DEBUG:PYME.LMVis.Extras:Initializing perFrameVariable plugin\n",
      "DEBUG:PYME.LMVis.Extras:Initializing photophysics plugin\n",
      "DEBUG:PYME.LMVis.Extras:Initializing pointSetGeneration plugin\n",
      "DEBUG:PYME.LMVis.Extras:Initializing pointwiseColoc plugin\n",
      "DEBUG:PYME.LMVis.Extras:Initializing saved_views plugin\n",
      "DEBUG:PYME.LMVis.Extras:Initializing scaleBox plugin\n",
      "DEBUG:PYME.LMVis.Extras:Initializing sequentialSpecies plugin\n",
      "DEBUG:PYME.LMVis.Extras:Initializing setBGImage plugin\n",
      "DEBUG:PYME.LMVis.Extras:Initializing shiftmapGenerator plugin\n",
      "DEBUG:PYME.LMVis.Extras:Initializing showShortcuts plugin\n",
      "DEBUG:PYME.LMVis.Extras:Initializing snapshot plugin\n",
      "DEBUG:PYME.LMVis.Extras:Initializing spherical_harmonics plugin\n",
      "DEBUG:root:Adding menu items for spherical harmonic (shell) fitting\n",
      "DEBUG:PYME.LMVis.Extras:Initializing subsets plugin\n",
      "DEBUG:PYME.LMVis.Extras:Initializing surface_fitting plugin\n",
      "DEBUG:PYME.LMVis.Extras:Initializing temperaturePlot plugin\n",
      "DEBUG:PYME.LMVis.Extras:Initializing vibration plugin\n"
     ]
    },
    {
     "name": "stdout",
     "output_type": "stream",
     "text": [
      "New Canvas\n",
      "Saved Views are deprecated -  use the ones with animation instead and remove me!\n"
     ]
    },
    {
     "name": "stderr",
     "output_type": "stream",
     "text": [
      "/Users/zachcm/Code/python-microscopy/PYME/LMVis/filterPane.py:111: wxPyDeprecationWarning: Call to deprecated item. Use InsertItem instead.\n",
      "  ind = self.lFiltKeys.InsertStringItem(ind+1, key)\n",
      "/Users/zachcm/Code/python-microscopy/PYME/LMVis/filterPane.py:112: wxPyDeprecationWarning: Call to deprecated item. Use SetItem instead.\n",
      "  self.lFiltKeys.SetStringItem(ind, 1, '%3.2f' % value[0])\n",
      "/Users/zachcm/Code/python-microscopy/PYME/LMVis/filterPane.py:113: wxPyDeprecationWarning: Call to deprecated item. Use SetItem instead.\n",
      "  self.lFiltKeys.SetStringItem(ind, 2, '%3.2f' % value[1])\n"
     ]
    },
    {
     "name": "stdout",
     "output_type": "stream",
     "text": [
      "Creating fold panel\n",
      "GenPanels\n",
      "Creating datasource panel\n",
      "RecipeView._layout\n",
      "Input datasources:  []\n",
      "Image list size: 1\n",
      "Creating layers GUI\n",
      "height:  0\n",
      "NB best size: wx.Size(200, 0)\n",
      "RecipeView._layout\n",
      "Input datasources:  []\n",
      "RecipeView._layout\n",
      "Input datasources:  []\n",
      "0\n",
      "OpenGL - Version: b'2.1 INTEL-14.7.8'\n",
      "Shader - Version: b'1.20'\n",
      "GL_MAX_SAMPLES: 8, GL_SAMPLES: 4\n"
     ]
    },
    {
     "name": "stderr",
     "output_type": "stream",
     "text": [
      "/Users/zachcm/Code/python-microscopy/PYME/LMVis/filterPane.py:111: wxPyDeprecationWarning: Call to deprecated item. Use InsertItem instead.\n",
      "  ind = self.lFiltKeys.InsertStringItem(ind+1, key)\n",
      "/Users/zachcm/Code/python-microscopy/PYME/LMVis/filterPane.py:112: wxPyDeprecationWarning: Call to deprecated item. Use SetItem instead.\n",
      "  self.lFiltKeys.SetStringItem(ind, 1, '%3.2f' % value[0])\n",
      "/Users/zachcm/Code/python-microscopy/PYME/LMVis/filterPane.py:113: wxPyDeprecationWarning: Call to deprecated item. Use SetItem instead.\n",
      "  self.lFiltKeys.SetStringItem(ind, 2, '%3.2f' % value[1])\n",
      "DEBUG:PYME.LMVis.shader_programs.ShaderProgramFactory:New shader program created: <class 'PYME.LMVis.shader_programs.DefaultShaderProgram.DefaultShaderProgram'>\n",
      "/Users/zachcm/Code/python-microscopy/PYME/ui/manualFoldPanel.py:37: wxPyDeprecationWarning: Using deprecated class. Use Colour instead.\n",
      "  col = wx.NamedColour(col)\n"
     ]
    }
   ],
   "source": [
    "pymevis = VisGUI.ipython_pymevisualize()\n",
    "pipeline = pymevis.pipeline\n",
    "recipe = pipeline.recipe"
   ]
  },
  {
   "cell_type": "code",
   "execution_count": 4,
   "metadata": {},
   "outputs": [],
   "source": [
    "import numpy as np\n",
    "\n",
    "pts = np.load('hemo_pts.npy')\n",
    "sigma = np.ones_like(pts[:,0])"
   ]
  },
  {
   "cell_type": "code",
   "execution_count": 5,
   "metadata": {},
   "outputs": [
    {
     "name": "stdout",
     "output_type": "stream",
     "text": [
      "Data munged to vertices, faces\n",
      "initializing halfedges ...\n",
      "vertices.shape = (529, 3), faces.shape = (1054, 3)\n",
      "iterating edges\n",
      "done initializing halfedges\n",
      "lw update\n",
      "Creating layers GUI\n"
     ]
    },
    {
     "name": "stderr",
     "output_type": "stream",
     "text": [
      "DEBUG:PYME.LMVis.shader_programs.ShaderProgramFactory:New shader program created: <class 'PYME.LMVis.shader_programs.GouraudShaderProgram.GouraudShaderProgram'>\n"
     ]
    },
    {
     "name": "stdout",
     "output_type": "stream",
     "text": [
      "hl update\n",
      "height:  310\n",
      "NB best size: wx.Size(280, 310)\n"
     ]
    },
    {
     "name": "stderr",
     "output_type": "stream",
     "text": [
      "/Users/zachcm/Code/python-microscopy/PYME/LMVis/layers/base.py:65: FutureWarning: `rcond` parameter will change to the default of machine precision times ``max(M, N)`` where M and N are the input matrix dimensions.\n",
      "To use the future default and silence this warning we advise to pass `rcond=None`, to keep using the old, explicitly pass `rcond=-1`.\n",
      "  self.shader_program.v_matrix[3,:3] = -np.linalg.lstsq(gl_canvas.object_rotation_matrix[:3,:3], gl_canvas.view.translation)[0]\n"
     ]
    }
   ],
   "source": [
    "from PYME.LMVis.layers.mesh import TriangleRenderLayer\n",
    "from ch_shrinkwrap import _membrane_mesh as membrane_mesh\n",
    "\n",
    "surf_name, surf_count = pipeline.new_ds_name('membrane', return_count=True)\n",
    "\n",
    "mesh = membrane_mesh.MembraneMesh.from_stl('hemo.stl')\n",
    "pipeline.dataSources[surf_name] = mesh\n",
    "layer = TriangleRenderLayer(pipeline, dsname=surf_name, method='shaded', cmap = ['C', 'M', 'Y', 'R', 'G', 'B'][surf_count % 6])\n",
    "pymevis.add_layer(layer)"
   ]
  },
  {
   "cell_type": "code",
   "execution_count": 6,
   "metadata": {},
   "outputs": [],
   "source": [
    "# Shrinkwrapping parameters\n",
    "max_iters = 10\n",
    "step_size = 0.1\n",
    "attraction_weight = 1  # eV/nm\n",
    "curvature_weight = 1\n",
    "largest_component_only = True\n",
    "method = 'euler'\n",
    "remesh_frequency = 5\n",
    "delaunay_remesh_frequency = 3\n",
    "\n",
    "# Animation save directory\n",
    "dir_name = '/Users/zachcm/Downloads/test_anim'"
   ]
  },
  {
   "cell_type": "code",
   "execution_count": 7,
   "metadata": {},
   "outputs": [
    {
     "name": "stderr",
     "output_type": "stream",
     "text": [
      "/Users/zachcm/Code/python-microscopy/PYME/ui/layerFoldPanel.py:47: wxPyDeprecationWarning: Call to deprecated item BitmapFromBuffer. Use :meth:`wx.Bitmap.FromBuffer` or :meth:`wx.Bitmap.FromBufferAndAlpha` instead.\n",
      "  return wx.BitmapFromBuffer(30, 10, img)\n"
     ]
    },
    {
     "name": "stdout",
     "output_type": "stream",
     "text": [
      "Ev Idle\n",
      "('points', 't')\n",
      "refreshed\n"
     ]
    }
   ],
   "source": [
    "mesh.a = attraction_weight\n",
    "mesh.c = curvature_weight\n",
    "mesh.max_iter = max_iters\n",
    "mesh.step_size = step_size\n",
    "mesh.remesh_frequency = remesh_frequency\n",
    "mesh.delaunay_remesh_frequency = delaunay_remesh_frequency"
   ]
  },
  {
   "cell_type": "code",
   "execution_count": null,
   "metadata": {},
   "outputs": [],
   "source": [
    "# for _i in range(max_iters):\n",
    "#     # Shrink wrap\n",
    "#     mesh.shrink_wrap(pts, sigma, method=method)\n",
    "    \n",
    "#     # Force a layer update for visualisation \n",
    "#     layer.update()\n",
    "    \n",
    "#     # Assumes PYME.LMVis.gl_render3D_shaders\n",
    "#     snap = pymevis.glCanvas.getIm().transpose(1,0,2)\n",
    "    \n",
    "#     im = Image.fromarray(snap).transpose(Image.FLIP_TOP_BOTTOM).save(os.path.join(dir_name, 'frame{:04d}.{}'.format(_i,'png')))"
   ]
  },
  {
   "cell_type": "code",
   "execution_count": null,
   "metadata": {
    "scrolled": false
   },
   "outputs": [
    {
     "name": "stdout",
     "output_type": "stream",
     "text": [
      "Iteration 0 ...\n",
      "lw update\n",
      "Viewport:  (622, 645)\n",
      "Snap min: 0.0 max: 1.0\n"
     ]
    },
    {
     "name": "stderr",
     "output_type": "stream",
     "text": [
      "/Users/zachcm/Code/ch-shrinkwrap/ch_shrinkwrap/animation.py:45: RuntimeWarning: divide by zero encountered in true_divide\n",
      "  mesh.shrink_wrap(pts, sigma)\n",
      "Exception ignored in: <function OffScreenHandler.__del__ at 0x7ff4f709e710>\n",
      "Traceback (most recent call last):\n",
      "  File \"/Users/zachcm/Code/python-microscopy/PYME/LMVis/gl_offScreenHandler.py\", line 52, in __del__\n",
      "    glDeleteFramebuffers(1, self._frame_buffer_object)\n",
      "  File \"/Users/zachcm/opt/miniconda3/envs/pyme/lib/python3.7/site-packages/OpenGL/latebind.py\", line 45, in __call__\n",
      "    return self._finalCall( *args, **named )\n",
      "  File \"/Users/zachcm/opt/miniconda3/envs/pyme/lib/python3.7/site-packages/OpenGL/wrapper.py\", line 677, in wrapperCall\n",
      "    pyArgs = tuple( calculate_pyArgs( args ))\n",
      "  File \"/Users/zachcm/opt/miniconda3/envs/pyme/lib/python3.7/site-packages/OpenGL/wrapper.py\", line 438, in calculate_pyArgs\n",
      "    yield converter(args[index], self, args)\n",
      "  File \"/Users/zachcm/opt/miniconda3/envs/pyme/lib/python3.7/site-packages/OpenGL/converters.py\", line 135, in __call__\n",
      "    return self.function( incoming )\n",
      "  File \"/Users/zachcm/opt/miniconda3/envs/pyme/lib/python3.7/site-packages/OpenGL/arrays/arraydatatype.py\", line 149, in asArray\n",
      "    return cls.getHandler(value).asArray( value, typeCode or cls.typeConstant )\n",
      "  File \"/Users/zachcm/opt/miniconda3/envs/pyme/lib/python3.7/site-packages/OpenGL/arrays/arraydatatype.py\", line 53, in __call__\n",
      "    typ.__module__, type.__name__, repr(value)[:50]\n",
      "TypeError: ('No array-type handler for type numpy.type (value: 1) registered', <OpenGL.converters.CallFuncPyConverter object at 0x7ff4f6d4bcd0>)\n"
     ]
    },
    {
     "name": "stdout",
     "output_type": "stream",
     "text": [
      "Iteration 0 ...\n",
      "lw update\n",
      "Viewport:  (622, 645)\n",
      "Snap min: 0.0 max: 1.0\n",
      "Iteration 0 ...\n"
     ]
    },
    {
     "name": "stderr",
     "output_type": "stream",
     "text": [
      "Exception ignored in: <function OffScreenHandler.__del__ at 0x7ff4f709e710>\n",
      "Traceback (most recent call last):\n",
      "  File \"/Users/zachcm/Code/python-microscopy/PYME/LMVis/gl_offScreenHandler.py\", line 52, in __del__\n",
      "    glDeleteFramebuffers(1, self._frame_buffer_object)\n",
      "  File \"/Users/zachcm/opt/miniconda3/envs/pyme/lib/python3.7/site-packages/OpenGL/latebind.py\", line 45, in __call__\n",
      "    return self._finalCall( *args, **named )\n",
      "  File \"/Users/zachcm/opt/miniconda3/envs/pyme/lib/python3.7/site-packages/OpenGL/wrapper.py\", line 677, in wrapperCall\n",
      "    pyArgs = tuple( calculate_pyArgs( args ))\n",
      "  File \"/Users/zachcm/opt/miniconda3/envs/pyme/lib/python3.7/site-packages/OpenGL/wrapper.py\", line 438, in calculate_pyArgs\n",
      "    yield converter(args[index], self, args)\n",
      "  File \"/Users/zachcm/opt/miniconda3/envs/pyme/lib/python3.7/site-packages/OpenGL/converters.py\", line 135, in __call__\n",
      "    return self.function( incoming )\n",
      "  File \"/Users/zachcm/opt/miniconda3/envs/pyme/lib/python3.7/site-packages/OpenGL/arrays/arraydatatype.py\", line 149, in asArray\n",
      "    return cls.getHandler(value).asArray( value, typeCode or cls.typeConstant )\n",
      "  File \"/Users/zachcm/opt/miniconda3/envs/pyme/lib/python3.7/site-packages/OpenGL/arrays/arraydatatype.py\", line 53, in __call__\n",
      "    typ.__module__, type.__name__, repr(value)[:50]\n",
      "TypeError: ('No array-type handler for type numpy.type (value: 2) registered', <OpenGL.converters.CallFuncPyConverter object at 0x7ff4f6d4bcd0>)\n",
      "Exception ignored in: <function OffScreenHandler.__del__ at 0x7ff4f709e710>\n",
      "Traceback (most recent call last):\n",
      "  File \"/Users/zachcm/Code/python-microscopy/PYME/LMVis/gl_offScreenHandler.py\", line 52, in __del__\n"
     ]
    },
    {
     "name": "stdout",
     "output_type": "stream",
     "text": [
      "lw update\n",
      "Viewport:  (622, 645)\n",
      "Snap min: 0.0 max: 1.0\n",
      "Iteration 0 ...\n"
     ]
    },
    {
     "name": "stderr",
     "output_type": "stream",
     "text": [
      "    glDeleteFramebuffers(1, self._frame_buffer_object)\n",
      "  File \"/Users/zachcm/opt/miniconda3/envs/pyme/lib/python3.7/site-packages/OpenGL/latebind.py\", line 45, in __call__\n",
      "    return self._finalCall( *args, **named )\n",
      "  File \"/Users/zachcm/opt/miniconda3/envs/pyme/lib/python3.7/site-packages/OpenGL/wrapper.py\", line 677, in wrapperCall\n",
      "    pyArgs = tuple( calculate_pyArgs( args ))\n",
      "  File \"/Users/zachcm/opt/miniconda3/envs/pyme/lib/python3.7/site-packages/OpenGL/wrapper.py\", line 438, in calculate_pyArgs\n",
      "    yield converter(args[index], self, args)\n",
      "  File \"/Users/zachcm/opt/miniconda3/envs/pyme/lib/python3.7/site-packages/OpenGL/converters.py\", line 135, in __call__\n",
      "    return self.function( incoming )\n",
      "  File \"/Users/zachcm/opt/miniconda3/envs/pyme/lib/python3.7/site-packages/OpenGL/arrays/arraydatatype.py\", line 149, in asArray\n",
      "    return cls.getHandler(value).asArray( value, typeCode or cls.typeConstant )\n",
      "  File \"/Users/zachcm/opt/miniconda3/envs/pyme/lib/python3.7/site-packages/OpenGL/arrays/arraydatatype.py\", line 53, in __call__\n",
      "    typ.__module__, type.__name__, repr(value)[:50]\n",
      "TypeError: ('No array-type handler for type numpy.type (value: 3) registered', <OpenGL.converters.CallFuncPyConverter object at 0x7ff4f6d4bcd0>)\n"
     ]
    },
    {
     "name": "stdout",
     "output_type": "stream",
     "text": [
      "Delaunay remesh...\n",
      "Guessed eps: 6.631788688659668\n",
      "initializing halfedges ...\n",
      "vertices.shape = (529, 3), faces.shape = (1082, 3)\n",
      "iterating edges\n",
      "done initializing halfedges\n",
      "lw update\n",
      "Viewport:  (622, 645)\n",
      "Snap min: 0.0 max: 1.0\n",
      "Iteration 0 ...\n"
     ]
    },
    {
     "name": "stderr",
     "output_type": "stream",
     "text": [
      "Exception ignored in: <function OffScreenHandler.__del__ at 0x7ff4f709e710>\n",
      "Traceback (most recent call last):\n",
      "  File \"/Users/zachcm/Code/python-microscopy/PYME/LMVis/gl_offScreenHandler.py\", line 52, in __del__\n",
      "    glDeleteFramebuffers(1, self._frame_buffer_object)\n",
      "  File \"/Users/zachcm/opt/miniconda3/envs/pyme/lib/python3.7/site-packages/OpenGL/latebind.py\", line 45, in __call__\n",
      "    return self._finalCall( *args, **named )\n",
      "  File \"/Users/zachcm/opt/miniconda3/envs/pyme/lib/python3.7/site-packages/OpenGL/wrapper.py\", line 677, in wrapperCall\n",
      "    pyArgs = tuple( calculate_pyArgs( args ))\n",
      "  File \"/Users/zachcm/opt/miniconda3/envs/pyme/lib/python3.7/site-packages/OpenGL/wrapper.py\", line 438, in calculate_pyArgs\n",
      "    yield converter(args[index], self, args)\n",
      "  File \"/Users/zachcm/opt/miniconda3/envs/pyme/lib/python3.7/site-packages/OpenGL/converters.py\", line 135, in __call__\n",
      "    return self.function( incoming )\n",
      "  File \"/Users/zachcm/opt/miniconda3/envs/pyme/lib/python3.7/site-packages/OpenGL/arrays/arraydatatype.py\", line 149, in asArray\n",
      "    return cls.getHandler(value).asArray( value, typeCode or cls.typeConstant )\n",
      "  File \"/Users/zachcm/opt/miniconda3/envs/pyme/lib/python3.7/site-packages/OpenGL/arrays/arraydatatype.py\", line 53, in __call__\n",
      "    typ.__module__, type.__name__, repr(value)[:50]\n",
      "TypeError: ('No array-type handler for type numpy.type (value: 4) registered', <OpenGL.converters.CallFuncPyConverter object at 0x7ff4f6d4bcd0>)\n"
     ]
    },
    {
     "name": "stdout",
     "output_type": "stream",
     "text": [
      "lw update\n",
      "Viewport:  (622, 645)\n",
      "Snap min: 0.0 max: 1.0\n",
      "Iteration 0 ...\n"
     ]
    },
    {
     "name": "stderr",
     "output_type": "stream",
     "text": [
      "Exception ignored in: <function OffScreenHandler.__del__ at 0x7ff4f709e710>\n",
      "Traceback (most recent call last):\n",
      "  File \"/Users/zachcm/Code/python-microscopy/PYME/LMVis/gl_offScreenHandler.py\", line 52, in __del__\n",
      "    glDeleteFramebuffers(1, self._frame_buffer_object)\n",
      "  File \"/Users/zachcm/opt/miniconda3/envs/pyme/lib/python3.7/site-packages/OpenGL/latebind.py\", line 45, in __call__\n",
      "    return self._finalCall( *args, **named )\n",
      "  File \"/Users/zachcm/opt/miniconda3/envs/pyme/lib/python3.7/site-packages/OpenGL/wrapper.py\", line 677, in wrapperCall\n",
      "    pyArgs = tuple( calculate_pyArgs( args ))\n",
      "  File \"/Users/zachcm/opt/miniconda3/envs/pyme/lib/python3.7/site-packages/OpenGL/wrapper.py\", line 438, in calculate_pyArgs\n",
      "    yield converter(args[index], self, args)\n",
      "  File \"/Users/zachcm/opt/miniconda3/envs/pyme/lib/python3.7/site-packages/OpenGL/converters.py\", line 135, in __call__\n",
      "    return self.function( incoming )\n",
      "  File \"/Users/zachcm/opt/miniconda3/envs/pyme/lib/python3.7/site-packages/OpenGL/arrays/arraydatatype.py\", line 149, in asArray\n",
      "    return cls.getHandler(value).asArray( value, typeCode or cls.typeConstant )\n",
      "  File \"/Users/zachcm/opt/miniconda3/envs/pyme/lib/python3.7/site-packages/OpenGL/arrays/arraydatatype.py\", line 53, in __call__\n",
      "    typ.__module__, type.__name__, repr(value)[:50]\n",
      "TypeError: ('No array-type handler for type numpy.type (value: 5) registered', <OpenGL.converters.CallFuncPyConverter object at 0x7ff4f6d4bcd0>)\n"
     ]
    },
    {
     "name": "stdout",
     "output_type": "stream",
     "text": [
      "Split count: 1635\n",
      "Collapse count: 538[63 failed]\n",
      "Flip count: 472 [969 failed]\n",
      "Split count: 2583\n",
      "Collapse count: 2538[554 failed]\n",
      "Flip count: 347 [722 failed]\n",
      "Split count: 2608\n",
      "Collapse count: 2479[881 failed]\n",
      "Flip count: 331 [632 failed]\n",
      "Split count: 4039\n",
      "Collapse count: 3532[1314 failed]\n",
      "Flip count: 514 [1048 failed]\n",
      "Split count: 3775\n",
      "Collapse count: 3894[1502 failed]\n",
      "Flip count: 508 [816 failed]\n",
      "Target mean length: 5.894951343536377   Resulting mean length: 6.9567027\n",
      "lw update\n",
      "Viewport:  (622, 645)\n",
      "Snap min: 0.0 max: 1.0\n",
      "Iteration 0 ...\n"
     ]
    },
    {
     "name": "stderr",
     "output_type": "stream",
     "text": [
      "Exception ignored in: <function OffScreenHandler.__del__ at 0x7ff4f709e710>\n",
      "Traceback (most recent call last):\n",
      "  File \"/Users/zachcm/Code/python-microscopy/PYME/LMVis/gl_offScreenHandler.py\", line 52, in __del__\n",
      "    glDeleteFramebuffers(1, self._frame_buffer_object)\n",
      "  File \"/Users/zachcm/opt/miniconda3/envs/pyme/lib/python3.7/site-packages/OpenGL/latebind.py\", line 45, in __call__\n",
      "    return self._finalCall( *args, **named )\n",
      "  File \"/Users/zachcm/opt/miniconda3/envs/pyme/lib/python3.7/site-packages/OpenGL/wrapper.py\", line 677, in wrapperCall\n",
      "    pyArgs = tuple( calculate_pyArgs( args ))\n",
      "  File \"/Users/zachcm/opt/miniconda3/envs/pyme/lib/python3.7/site-packages/OpenGL/wrapper.py\", line 438, in calculate_pyArgs\n",
      "    yield converter(args[index], self, args)\n",
      "  File \"/Users/zachcm/opt/miniconda3/envs/pyme/lib/python3.7/site-packages/OpenGL/converters.py\", line 135, in __call__\n",
      "    return self.function( incoming )\n",
      "  File \"/Users/zachcm/opt/miniconda3/envs/pyme/lib/python3.7/site-packages/OpenGL/arrays/arraydatatype.py\", line 149, in asArray\n",
      "    return cls.getHandler(value).asArray( value, typeCode or cls.typeConstant )\n",
      "  File \"/Users/zachcm/opt/miniconda3/envs/pyme/lib/python3.7/site-packages/OpenGL/arrays/arraydatatype.py\", line 53, in __call__\n",
      "    typ.__module__, type.__name__, repr(value)[:50]\n",
      "TypeError: ('No array-type handler for type numpy.type (value: 6) registered', <OpenGL.converters.CallFuncPyConverter object at 0x7ff4f6d4bcd0>)\n"
     ]
    }
   ],
   "source": [
    "from ch_shrinkwrap.animation import animate_shrinkwrap\n",
    "\n",
    "animate_shrinkwrap(mesh, pts, sigma, layer, pymevis, dir_name)"
   ]
  },
  {
   "cell_type": "code",
   "execution_count": null,
   "metadata": {},
   "outputs": [],
   "source": []
  }
 ],
 "metadata": {
  "kernelspec": {
   "display_name": "pyme",
   "language": "python",
   "name": "pyme"
  },
  "language_info": {
   "codemirror_mode": {
    "name": "ipython",
    "version": 3
   },
   "file_extension": ".py",
   "mimetype": "text/x-python",
   "name": "python",
   "nbconvert_exporter": "python",
   "pygments_lexer": "ipython3",
   "version": "3.7.6"
  }
 },
 "nbformat": 4,
 "nbformat_minor": 4
}
