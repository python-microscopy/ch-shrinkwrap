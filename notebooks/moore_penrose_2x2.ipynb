{
 "cells": [
  {
   "cell_type": "code",
   "execution_count": 1,
   "metadata": {},
   "outputs": [
    {
     "name": "stdout",
     "output_type": "stream",
     "text": [
      "Populating the interactive namespace from numpy and matplotlib\n"
     ]
    }
   ],
   "source": [
    "%pylab inline"
   ]
  },
  {
   "cell_type": "code",
   "execution_count": 115,
   "metadata": {},
   "outputs": [],
   "source": [
    "EPS = 1e-12\n",
    "\n",
    "def moore_penrose_2x2(A):\n",
    "    At = np.zeros((2,2),dtype=np.float32)\n",
    "    \n",
    "    a = A[0,0]\n",
    "    b = A[0,1]\n",
    "    c = A[1,0]\n",
    "    d = A[1,1]\n",
    "    \n",
    "    a2 = a*a\n",
    "    b2 = b*b\n",
    "    c2 = c*c\n",
    "    d2 = d*d\n",
    "    \n",
    "    a2b2 = a2+b2\n",
    "    c2d2 = c2+d2\n",
    "    a2b2nc2nd2 = a2b2-c2d2\n",
    "    tacbd = 2*(a*c+b*d)\n",
    "    \n",
    "    theta = 0.5*np.arctan2(2*(a*b+c*d),a2+c2-b2-d2)\n",
    "    phi = 0.5*np.arctan2(tacbd, a2b2nc2nd2)\n",
    "    \n",
    "    ctheta = np.cos(theta)\n",
    "    cphi = np.cos(phi)\n",
    "    stheta = np.sin(theta)\n",
    "    sphi = np.sin(phi)\n",
    "    \n",
    "    ctcp = ctheta*cphi\n",
    "    ctsp = ctheta*sphi\n",
    "    stcp = stheta*cphi\n",
    "    stsp = stheta*sphi\n",
    "    \n",
    "    sign0 = np.sign(ctcp*a+ctsp*c+stcp*b+stsp*d)\n",
    "    sign1 = np.sign(stsp*a-stcp*c-ctsp*b+ctcp*d)\n",
    "    \n",
    "    ss = a2b2+c2d2\n",
    "    sd = np.sqrt(a2b2nc2nd2**2+tacbd**2)\n",
    "    \n",
    "    sig0 = np.sqrt((ss+sd)/2.0)\n",
    "    sig1 = np.sqrt((ss-sd)/2.0)\n",
    "    \n",
    "    thresh = EPS*2*sig0\n",
    "    \n",
    "    siginv0 = (1.0/sig0) if (sig0 > thresh) else 0.0\n",
    "    siginv1 = (1.0/sig1) if (sig1 > thresh) else 0.0\n",
    "    \n",
    "    s0s0 = sign0*siginv0\n",
    "    s1s1 = sign1*siginv1\n",
    "    \n",
    "    At[0,0] = ctcp*s0s0+stsp*s1s1\n",
    "    At[0,1] = ctsp*s0s0-stcp*s1s1\n",
    "    At[1,0] = stcp*s0s0-ctsp*s1s1\n",
    "    At[1,1] = stsp*s0s0+ctcp*s1s1\n",
    "    \n",
    "    return At"
   ]
  },
  {
   "cell_type": "code",
   "execution_count": 126,
   "metadata": {},
   "outputs": [
    {
     "data": {
      "text/plain": [
       "array([[0.83700616, 0.60502218],\n",
       "       [0.48288836, 0.32125766]])"
      ]
     },
     "execution_count": 126,
     "metadata": {},
     "output_type": "execute_result"
    }
   ],
   "source": [
    "a = np.random.rand(2,2)\n",
    "a"
   ]
  },
  {
   "cell_type": "code",
   "execution_count": 127,
   "metadata": {},
   "outputs": [
    {
     "data": {
      "text/plain": [
       "array([[-13.80950021,  26.00732972],\n",
       "       [ 20.75731634, -35.97933427]])"
      ]
     },
     "execution_count": 127,
     "metadata": {},
     "output_type": "execute_result"
    }
   ],
   "source": [
    "np.linalg.pinv(a)"
   ]
  },
  {
   "cell_type": "code",
   "execution_count": 128,
   "metadata": {},
   "outputs": [
    {
     "data": {
      "text/plain": [
       "array([[-13.8095  ,  26.00733 ],\n",
       "       [ 20.757317, -35.979336]], dtype=float32)"
      ]
     },
     "execution_count": 128,
     "metadata": {},
     "output_type": "execute_result"
    }
   ],
   "source": [
    "moore_penrose_2x2(a)"
   ]
  },
  {
   "cell_type": "code",
   "execution_count": 125,
   "metadata": {},
   "outputs": [],
   "source": [
    "for i in np.arange(1000):\n",
    "    a = np.random.rand(2,2)\n",
    "    np.testing.assert_almost_equal(np.linalg.pinv(a),moore_penrose_2x2(a),decimal=3)"
   ]
  },
  {
   "cell_type": "code",
   "execution_count": null,
   "metadata": {},
   "outputs": [],
   "source": []
  }
 ],
 "metadata": {
  "kernelspec": {
   "display_name": "pyme",
   "language": "python",
   "name": "pyme"
  },
  "language_info": {
   "codemirror_mode": {
    "name": "ipython",
    "version": 3
   },
   "file_extension": ".py",
   "mimetype": "text/x-python",
   "name": "python",
   "nbconvert_exporter": "python",
   "pygments_lexer": "ipython3",
   "version": "3.7.6"
  }
 },
 "nbformat": 4,
 "nbformat_minor": 4
}
