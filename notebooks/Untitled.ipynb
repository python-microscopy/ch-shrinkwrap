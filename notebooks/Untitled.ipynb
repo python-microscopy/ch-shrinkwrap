{
 "cells": [
  {
   "cell_type": "code",
   "execution_count": 1,
   "metadata": {},
   "outputs": [],
   "source": [
    "import numpy as np\n",
    "\n",
    "EPS = 1e-6\n",
    "\n",
    "def spherical_mesh(R=1, n_subdivision=3):\n",
    "    # Generate a spherical mesh from icosahedral subdivision\n",
    "\n",
    "    from PYME.Analysis.points.spherical_harmonics import icosahedron_mesh\n",
    "    from PYME.Analysis.points.coordinate_tools import spherical_to_cartesian\n",
    "\n",
    "    from ch_shrinkwrap import _membrane_mesh as membrane_mesh\n",
    "\n",
    "    # Quasi-regular sample points on a unit sphere with icosahedron subdivision\n",
    "    azimuth, zenith, f = icosahedron_mesh(n_subdivision)\n",
    "\n",
    "    x, y, z = spherical_to_cartesian(azimuth, zenith, R)\n",
    "    v = np.vstack([x,y,z]).T\n",
    "\n",
    "    return membrane_mesh.MembraneMesh(v,f)\n",
    "\n",
    "def planar_mesh(a=1, n_subdivision=1):\n",
    "    # Generate a plane from subdividing a square\n",
    "    from ch_shrinkwrap import _membrane_mesh as membrane_mesh\n",
    "    \n",
    "    step = 1/n_subdivision\n",
    "    p = np.arange(0,1+step,step)\n",
    "    pv = np.vstack([p]*(n_subdivision+1))*a\n",
    "    x = pv.ravel('F')\n",
    "    y = pv.ravel('C')\n",
    "    z = np.zeros_like(x)\n",
    "    v = np.vstack([x,y,z]).T\n",
    "\n",
    "    lr = np.ravel(np.arange(len(p)-1)[None,:] + np.arange(len(p),len(x),len(p))[:,None],order='C')\n",
    "    ll = np.ravel(np.arange(len(p)-1)[None,:] + np.arange(0,len(x)-len(p),len(p))[:,None],order='C')\n",
    "    ul = np.ravel(np.arange(1,len(p))[None,:] + np.arange(0,len(x)-len(p),len(p))[:,None],order='C')\n",
    "    ur = np.ravel(np.arange(1,len(p))[None,:] + np.arange(len(p),len(x),len(p))[:,None],order='C')\n",
    "    f = np.vstack([np.vstack([ll,lr,ur]).T,np.vstack([ll,ur,ul]).T])\n",
    "\n",
    "    return membrane_mesh.MembraneMesh(v,f)\n"
   ]
  },
  {
   "cell_type": "code",
   "execution_count": 2,
   "metadata": {},
   "outputs": [],
   "source": [
    "def test_mean_curvature_sphere(R, n_subdivision):\n",
    "    # confirm sphere of radius R has mean curvature of 1/R\n",
    "#     R = int(100*np.random.rand()+1)\n",
    "#     n_subdivision = int(4*np.random.rand()+2)\n",
    "\n",
    "    mesh = spherical_mesh(R, n_subdivision)\n",
    "\n",
    "    print(np.mean(mesh.curvature_mean), 1/R ,R, n_subdivision)"
   ]
  },
  {
   "cell_type": "code",
   "execution_count": 10,
   "metadata": {},
   "outputs": [
    {
     "name": "stdout",
     "output_type": "stream",
     "text": [
      "initializing halfedges ...\n",
      "vertices.shape = (10242, 3), faces.shape = (20480, 3)\n",
      "iterating edges\n",
      "done initializing halfedges\n",
      "1.0071553 1.0 1 5\n"
     ]
    }
   ],
   "source": [
    "test_mean_curvature_sphere(1,5)"
   ]
  },
  {
   "cell_type": "code",
   "execution_count": 4,
   "metadata": {},
   "outputs": [],
   "source": [
    "# 0.017104644 0.016666666666666666 60 3\n",
    "\n",
    "# 0.02332452 0.022727272727272728 44 3\n",
    "\n",
    "# nan 0.16666666666666666 6 4\n",
    "\n",
    "# 0.01342774 0.012987012987012988 77 2\n",
    "\n",
    "\n",
    "# 0.010999318 0.010638297872340425 94 2\n",
    "\n",
    "# 1.0071684 1.0 1 5\n",
    "\n",
    "# 0.0136837205 0.013333333333333334 75 3\n",
    "\n",
    "# 0.03052026 0.030303030303030304 33 5\n",
    "\n",
    "# 0.011749272 0.011363636363636364 88 2\n",
    "\n",
    "# 0.027419453 0.02702702702702703 37 4"
   ]
  }
 ],
 "metadata": {
  "kernelspec": {
   "display_name": "pyme",
   "language": "python",
   "name": "pyme"
  },
  "language_info": {
   "codemirror_mode": {
    "name": "ipython",
    "version": 3
   },
   "file_extension": ".py",
   "mimetype": "text/x-python",
   "name": "python",
   "nbconvert_exporter": "python",
   "pygments_lexer": "ipython3",
   "version": "3.7.6"
  }
 },
 "nbformat": 4,
 "nbformat_minor": 4
}
