{
 "cells": [
  {
   "cell_type": "code",
   "execution_count": 1,
   "metadata": {},
   "outputs": [],
   "source": [
    "from ch_shrinkwrap import _membrane_mesh as membrane_mesh\n",
    "from ch_shrinkwrap import shape"
   ]
  },
  {
   "cell_type": "code",
   "execution_count": 4,
   "metadata": {},
   "outputs": [
    {
     "name": "stdout",
     "output_type": "stream",
     "text": [
      "initializing halfedges ...\n",
      "vertices.shape = (2562, 3), faces.shape = (5120, 3)\n",
      "iterating edges\n",
      "done initializing halfedges\n"
     ]
    }
   ],
   "source": [
    "import numpy as np\n",
    "\n",
    "from PYME.Analysis.points.spherical_harmonics import icosahedron_mesh\n",
    "from PYME.Analysis.points.coordinate_tools import spherical_to_cartesian\n",
    "\n",
    "from ch_shrinkwrap import membrane_mesh\n",
    "\n",
    "R = 5\n",
    "n_subdivision = 4\n",
    "\n",
    "# Quasi-regular sample points on a unit sphere with icosahedron subdivision\n",
    "azimuth, zenith, f = icosahedron_mesh(n_subdivision)\n",
    "\n",
    "x, y, z = spherical_to_cartesian(azimuth, zenith, R)\n",
    "v = np.vstack([x,y,z]).T\n",
    "\n",
    "mesh = membrane_mesh.MembraneMesh(v,f)"
   ]
  },
  {
   "cell_type": "code",
   "execution_count": 42,
   "metadata": {},
   "outputs": [
    {
     "name": "stdout",
     "output_type": "stream",
     "text": [
      "Data munged to vertices, faces\n",
      "initializing halfedges ...\n",
      "vertices.shape = (1814, 3), faces.shape = (3628, 3)\n",
      "iterating edges\n",
      "done initializing halfedges\n"
     ]
    }
   ],
   "source": [
    "import numpy as np\n",
    "from ch_shrinkwrap import membrane_mesh\n",
    "\n",
    "mesh = membrane_mesh.MembraneMesh.from_stl('PYMEtorus_R50_r30_p0_n5_0.stl')"
   ]
  },
  {
   "cell_type": "code",
   "execution_count": 43,
   "metadata": {},
   "outputs": [],
   "source": [
    "sph = shape.Torus(50,30)"
   ]
  },
  {
   "cell_type": "code",
   "execution_count": 44,
   "metadata": {},
   "outputs": [
    {
     "name": "stdout",
     "output_type": "stream",
     "text": [
      "3.148182473037791\n"
     ]
    }
   ],
   "source": [
    "error = 0\n",
    "count = 0\n",
    "for i in range(mesh._vertices.shape[0]):\n",
    "    if mesh._vertices[i]['halfedge'] == -1:\n",
    "        continue\n",
    "    count +=1\n",
    "    error += sph.sdf(mesh._vertices[i]['position'])**2\n",
    "print(error/count)"
   ]
  },
  {
   "cell_type": "code",
   "execution_count": null,
   "metadata": {},
   "outputs": [],
   "source": [
    "MESH                          MSE (Based on SDF)\n",
    "Poisson no noise              0.012714198111586457\n",
    "Poisson noise                 13.909791773578116\n",
    "PYME no noise                 0.33027337894668857\n",
    "PYME noise                    3.148182473037791\n"
   ]
  },
  {
   "cell_type": "code",
   "execution_count": 29,
   "metadata": {},
   "outputs": [
    {
     "data": {
      "text/plain": [
       "89.1234359741211"
      ]
     },
     "execution_count": 29,
     "metadata": {},
     "output_type": "execute_result"
    }
   ],
   "source": [
    "sph.sdf(mesh._vertices['position'][mesh._vertices['halfedge']!=-1].T)"
   ]
  },
  {
   "cell_type": "code",
   "execution_count": null,
   "metadata": {},
   "outputs": [],
   "source": []
  }
 ],
 "metadata": {
  "kernelspec": {
   "display_name": "pyme",
   "language": "python",
   "name": "pyme"
  },
  "language_info": {
   "codemirror_mode": {
    "name": "ipython",
    "version": 3
   },
   "file_extension": ".py",
   "mimetype": "text/x-python",
   "name": "python",
   "nbconvert_exporter": "python",
   "pygments_lexer": "ipython3",
   "version": "3.7.6"
  }
 },
 "nbformat": 4,
 "nbformat_minor": 4
}
