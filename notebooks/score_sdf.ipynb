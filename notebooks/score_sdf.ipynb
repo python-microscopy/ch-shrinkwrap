{
 "cells": [
  {
   "cell_type": "code",
   "execution_count": 2,
   "metadata": {},
   "outputs": [],
   "source": [
    "from ch_shrinkwrap import _membrane_mesh as membrane_mesh\n",
    "from ch_shrinkwrap import shape"
   ]
  },
  {
   "cell_type": "code",
   "execution_count": 4,
   "metadata": {},
   "outputs": [
    {
     "name": "stdout",
     "output_type": "stream",
     "text": [
      "initializing halfedges ...\n",
      "vertices.shape = (2562, 3), faces.shape = (5120, 3)\n",
      "iterating edges\n",
      "done initializing halfedges\n"
     ]
    }
   ],
   "source": [
    "import numpy as np\n",
    "\n",
    "from PYME.Analysis.points.spherical_harmonics import icosahedron_mesh\n",
    "from PYME.Analysis.points.coordinate_tools import spherical_to_cartesian\n",
    "\n",
    "from ch_shrinkwrap import membrane_mesh\n",
    "\n",
    "R = 5\n",
    "n_subdivision = 4\n",
    "\n",
    "# Quasi-regular sample points on a unit sphere with icosahedron subdivision\n",
    "azimuth, zenith, f = icosahedron_mesh(n_subdivision)\n",
    "\n",
    "x, y, z = spherical_to_cartesian(azimuth, zenith, R)\n",
    "v = np.vstack([x,y,z]).T\n",
    "\n",
    "mesh = membrane_mesh.MembraneMesh(v,f)"
   ]
  },
  {
   "cell_type": "code",
   "execution_count": 17,
   "metadata": {},
   "outputs": [],
   "source": [
    "sph = shape.Sphere(R)"
   ]
  },
  {
   "cell_type": "code",
   "execution_count": 19,
   "metadata": {},
   "outputs": [
    {
     "data": {
      "text/plain": [
       "1.1823431e-11"
      ]
     },
     "execution_count": 19,
     "metadata": {},
     "output_type": "execute_result"
    }
   ],
   "source": [
    "np.sum(sph.sdf(mesh._vertices['position'][mesh._vertices['halfedge']!=-1])**2)"
   ]
  },
  {
   "cell_type": "code",
   "execution_count": null,
   "metadata": {},
   "outputs": [],
   "source": []
  }
 ],
 "metadata": {
  "kernelspec": {
   "display_name": "pyme",
   "language": "python",
   "name": "pyme"
  },
  "language_info": {
   "codemirror_mode": {
    "name": "ipython",
    "version": 3
   },
   "file_extension": ".py",
   "mimetype": "text/x-python",
   "name": "python",
   "nbconvert_exporter": "python",
   "pygments_lexer": "ipython3",
   "version": "3.7.6"
  }
 },
 "nbformat": 4,
 "nbformat_minor": 4
}
