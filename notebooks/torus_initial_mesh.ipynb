{
 "cells": [
  {
   "cell_type": "code",
   "execution_count": null,
   "metadata": {},
   "outputs": [],
   "source": [
    "%gui wx\n",
    "\n",
    "from PYME.LMVis import VisGUI"
   ]
  },
  {
   "cell_type": "code",
   "execution_count": null,
   "metadata": {},
   "outputs": [],
   "source": [
    "# Delay so wx can boot up\n",
    "import time\n",
    "time.sleep(8)"
   ]
  },
  {
   "cell_type": "code",
   "execution_count": null,
   "metadata": {},
   "outputs": [],
   "source": [
    "pymevis = VisGUI.ipython_pymevisualize()\n",
    "pipeline = pymevis.pipeline\n",
    "recipe = pipeline.recipe"
   ]
  },
  {
   "cell_type": "code",
   "execution_count": null,
   "metadata": {},
   "outputs": [],
   "source": [
    "from ch_shrinkwrap import shape\n",
    "from PYME.IO import tabular\n",
    "import numpy as np\n",
    "\n",
    "# Create a torus\n",
    "R = 50\n",
    "r = 30\n",
    "t = shape.Torus(R, r)\n",
    "pts_t = t.points(1)\n",
    "# pts_t = np.load('hemo_pts.npy')\n",
    "\n",
    "# Create a bounding box\n",
    "# import numpy as np\n",
    "# pts_t = np.vstack([pts_t, np.array([-2*R,-2*R,-2*R]), np.array([2*R,2*R,2*R])])\n",
    "\n",
    "pipeline.addDataSource('points', tabular.mappingFilter({'x' : pts_t[:,0], 'y':pts_t[:,1], 'z':pts_t[:,2]}))\n",
    "pipeline.selectDataSource('points')\n",
    "pymevis.add_pointcloud_layer(ds_name='points')"
   ]
  },
  {
   "cell_type": "code",
   "execution_count": null,
   "metadata": {
    "scrolled": false
   },
   "outputs": [],
   "source": [
    "# Surface generation parameters\n",
    "threshold_density = 0.005\n",
    "# threshold_density = 0.0001\n",
    "n_points_min = 50\n",
    "# n_points_min = 100\n",
    "repair = False\n",
    "remesh = False\n",
    "\n",
    "# Run surface generation recipe on the point cloud\n",
    "from PYME.LMVis.layers.mesh import TriangleRenderLayer\n",
    "from ch_shrinkwrap import _membrane_mesh as membrane_mesh\n",
    "from ch_shrinkwrap import delaunay_utils\n",
    "from scipy.spatial import Delaunay\n",
    "\n",
    "d = Delaunay(pts_t)\n",
    "tri = delaunay_utils.orient_simps(d, pts_t)\n",
    "f = delaunay_utils.surf_from_delaunay(tri)\n",
    "\n",
    "mesh = membrane_mesh.MembraneMesh(1.1*pts_t,f)\n",
    "\n",
    "surf_name, surf_count = pipeline.new_ds_name('surf', return_count=True)\n",
    "pipeline.dataSources[surf_name] = mesh\n",
    "layer = TriangleRenderLayer(pipeline, dsname=surf_name, method='shaded', cmap = ['C', 'M', 'Y', 'R', 'G', 'B'][surf_count % 6])\n",
    "pymevis.add_layer(layer)"
   ]
  },
  {
   "cell_type": "code",
   "execution_count": null,
   "metadata": {},
   "outputs": [],
   "source": [
    "mesh.remesh()"
   ]
  },
  {
   "cell_type": "code",
   "execution_count": null,
   "metadata": {
    "scrolled": false
   },
   "outputs": [],
   "source": [
    "mesh.delaunay_remesh(pts_t)"
   ]
  },
  {
   "cell_type": "code",
   "execution_count": null,
   "metadata": {},
   "outputs": [],
   "source": [
    "# layer.display_normals=True"
   ]
  },
  {
   "cell_type": "code",
   "execution_count": null,
   "metadata": {},
   "outputs": [],
   "source": [
    "# from ch_shrinkwrap import sdf"
   ]
  },
  {
   "cell_type": "code",
   "execution_count": null,
   "metadata": {},
   "outputs": [],
   "source": [
    "# v0 = np.array([0,0,0])\n",
    "# v1 = np.array([1,0,0])\n",
    "# v2 = np.array([1,1,0])\n",
    "# v3 = np.array([0,0,1])\n",
    "# v = np.vstack([v0,v1,v2,v3])\n",
    "\n",
    "# sdf.tetrahedron(0.1*v,v0,v1,v2,v3)"
   ]
  },
  {
   "cell_type": "code",
   "execution_count": null,
   "metadata": {},
   "outputs": [],
   "source": []
  },
  {
   "cell_type": "code",
   "execution_count": null,
   "metadata": {},
   "outputs": [],
   "source": []
  },
  {
   "cell_type": "code",
   "execution_count": null,
   "metadata": {},
   "outputs": [],
   "source": []
  },
  {
   "cell_type": "code",
   "execution_count": null,
   "metadata": {},
   "outputs": [],
   "source": []
  },
  {
   "cell_type": "code",
   "execution_count": null,
   "metadata": {},
   "outputs": [],
   "source": []
  },
  {
   "cell_type": "code",
   "execution_count": null,
   "metadata": {},
   "outputs": [],
   "source": []
  },
  {
   "cell_type": "code",
   "execution_count": null,
   "metadata": {},
   "outputs": [],
   "source": []
  },
  {
   "cell_type": "code",
   "execution_count": null,
   "metadata": {},
   "outputs": [],
   "source": []
  }
 ],
 "metadata": {
  "kernelspec": {
   "display_name": "pyme",
   "language": "python",
   "name": "pyme"
  },
  "language_info": {
   "codemirror_mode": {
    "name": "ipython",
    "version": 3
   },
   "file_extension": ".py",
   "mimetype": "text/x-python",
   "name": "python",
   "nbconvert_exporter": "python",
   "pygments_lexer": "ipython3",
   "version": "3.7.6"
  }
 },
 "nbformat": 4,
 "nbformat_minor": 4
}
