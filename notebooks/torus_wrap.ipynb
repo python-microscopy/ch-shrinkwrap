{
 "cells": [
  {
   "cell_type": "code",
   "execution_count": 1,
   "metadata": {},
   "outputs": [
    {
     "name": "stderr",
     "output_type": "stream",
     "text": [
      "/Users/zachcm/opt/miniconda3/envs/pyme/lib/python3.7/_collections_abc.py:702: MatplotlibDeprecationWarning: The global colormaps dictionary is no longer considered public API.\n",
      "  return len(self._mapping)\n",
      "/Users/zachcm/opt/miniconda3/envs/pyme/lib/python3.7/_collections_abc.py:720: MatplotlibDeprecationWarning: The global colormaps dictionary is no longer considered public API.\n",
      "  yield from self._mapping\n",
      "/Users/zachcm/Code/python-microscopy/PYME/misc/extraCMaps.py:73: MatplotlibDeprecationWarning: \n",
      "The revcmap function was deprecated in Matplotlib 3.2 and will be removed two minor releases later. Use Colormap.reversed() instead.\n",
      "  cmapdat_r = cm.revcmap(ndat[cmapname])\n",
      "INFO:OpenGL.acceleratesupport:No OpenGL_accelerate module loaded: No module named 'OpenGL_accelerate'\n"
     ]
    },
    {
     "name": "stdout",
     "output_type": "stream",
     "text": [
      "Trying to load 3rd party recipe module ch_shrinkwrap.recipe_modules.surface_fitting\n",
      "Loaded 3rd party recipe module ch_shrinkwrap.recipe_modules.surface_fitting\n",
      "quaternion module not found, disabling custom clip plane orientations\n",
      "quaternion module not found, disabling custom clip plane orientations\n"
     ]
    }
   ],
   "source": [
    "%gui wx\n",
    "\n",
    "from PYME.LMVis import VisGUI"
   ]
  },
  {
   "cell_type": "code",
   "execution_count": 2,
   "metadata": {},
   "outputs": [],
   "source": [
    "# Delay so wx can boot up\n",
    "import time\n",
    "time.sleep(8)"
   ]
  },
  {
   "cell_type": "code",
   "execution_count": 3,
   "metadata": {},
   "outputs": [
    {
     "name": "stderr",
     "output_type": "stream",
     "text": [
      "DEBUG:PYME.LMVis.visCore:Creating VisGUI menu bar\n",
      "DEBUG:PYME.LMVis.Extras:Initializing QPobjectSegment plugin\n",
      "DEBUG:PYME.LMVis.Extras:Initializing animation plugin\n",
      "DEBUG:PYME.LMVis.Extras:Initializing clusterAnalysis plugin\n",
      "DEBUG:PYME.LMVis.Extras:Initializing dockedPanel plugin\n",
      "DEBUG:PYME.LMVis.Extras:Initializing extra_layers plugin\n",
      "DEBUG:PYME.LMVis.Extras:Initializing fiducial plugin\n",
      "DEBUG:PYME.LMVis.Extras:Initializing flagZMotionArtifacts plugin\n",
      "DEBUG:root:Adding menu items for event filters\n",
      "DEBUG:PYME.LMVis.Extras:Initializing fusionUtils plugin\n",
      "DEBUG:PYME.LMVis.Extras:Initializing multiColourAnalysis plugin\n",
      "DEBUG:PYME.LMVis.Extras:Initializing multiviewMapping plugin\n",
      "DEBUG:root:Adding menu items for multi-view manipulation\n",
      "DEBUG:PYME.LMVis.Extras:Initializing objectMeasurements plugin\n",
      "DEBUG:PYME.LMVis.Extras:Initializing particleTracking plugin\n",
      "DEBUG:PYME.LMVis.Extras:Initializing perFrameVariable plugin\n",
      "DEBUG:PYME.LMVis.Extras:Initializing photophysics plugin\n",
      "DEBUG:PYME.LMVis.Extras:Initializing pointSetGeneration plugin\n",
      "DEBUG:PYME.LMVis.Extras:Initializing pointwiseColoc plugin\n",
      "DEBUG:PYME.LMVis.Extras:Initializing saved_views plugin\n",
      "DEBUG:PYME.LMVis.Extras:Initializing scaleBox plugin\n",
      "DEBUG:PYME.LMVis.Extras:Initializing sequentialSpecies plugin\n",
      "DEBUG:PYME.LMVis.Extras:Initializing setBGImage plugin\n",
      "DEBUG:PYME.LMVis.Extras:Initializing shiftmapGenerator plugin\n",
      "DEBUG:PYME.LMVis.Extras:Initializing showShortcuts plugin\n",
      "DEBUG:PYME.LMVis.Extras:Initializing snapshot plugin\n",
      "DEBUG:PYME.LMVis.Extras:Initializing spherical_harmonics plugin\n",
      "DEBUG:root:Adding menu items for spherical harmonic (shell) fitting\n",
      "DEBUG:PYME.LMVis.Extras:Initializing subsets plugin\n",
      "DEBUG:PYME.LMVis.Extras:Initializing surface_fitting plugin\n",
      "DEBUG:PYME.LMVis.Extras:Initializing temperaturePlot plugin\n",
      "DEBUG:PYME.LMVis.Extras:Initializing vibration plugin\n"
     ]
    },
    {
     "name": "stdout",
     "output_type": "stream",
     "text": [
      "New Canvas\n",
      "Saved Views are deprecated -  use the ones with animation instead and remove me!\n"
     ]
    },
    {
     "name": "stderr",
     "output_type": "stream",
     "text": [
      "/Users/zachcm/Code/python-microscopy/PYME/LMVis/filterPane.py:111: wxPyDeprecationWarning: Call to deprecated item. Use InsertItem instead.\n",
      "  ind = self.lFiltKeys.InsertStringItem(ind+1, key)\n",
      "/Users/zachcm/Code/python-microscopy/PYME/LMVis/filterPane.py:112: wxPyDeprecationWarning: Call to deprecated item. Use SetItem instead.\n",
      "  self.lFiltKeys.SetStringItem(ind, 1, '%3.2f' % value[0])\n",
      "/Users/zachcm/Code/python-microscopy/PYME/LMVis/filterPane.py:113: wxPyDeprecationWarning: Call to deprecated item. Use SetItem instead.\n",
      "  self.lFiltKeys.SetStringItem(ind, 2, '%3.2f' % value[1])\n"
     ]
    },
    {
     "name": "stdout",
     "output_type": "stream",
     "text": [
      "Creating fold panel\n",
      "GenPanels\n",
      "Creating datasource panel\n",
      "RecipeView._layout\n",
      "Input datasources:  []\n",
      "Image list size: 1\n",
      "Creating layers GUI\n",
      "height:  0\n",
      "NB best size: wx.Size(200, 0)\n",
      "RecipeView._layout\n",
      "Input datasources:  []\n",
      "RecipeView._layout\n",
      "Input datasources:  []\n",
      "0\n",
      "OpenGL - Version: b'2.1 INTEL-14.7.8'\n",
      "Shader - Version: b'1.20'\n",
      "GL_MAX_SAMPLES: 8, GL_SAMPLES: 4\n"
     ]
    },
    {
     "name": "stderr",
     "output_type": "stream",
     "text": [
      "/Users/zachcm/Code/python-microscopy/PYME/LMVis/filterPane.py:111: wxPyDeprecationWarning: Call to deprecated item. Use InsertItem instead.\n",
      "  ind = self.lFiltKeys.InsertStringItem(ind+1, key)\n",
      "/Users/zachcm/Code/python-microscopy/PYME/LMVis/filterPane.py:112: wxPyDeprecationWarning: Call to deprecated item. Use SetItem instead.\n",
      "  self.lFiltKeys.SetStringItem(ind, 1, '%3.2f' % value[0])\n",
      "/Users/zachcm/Code/python-microscopy/PYME/LMVis/filterPane.py:113: wxPyDeprecationWarning: Call to deprecated item. Use SetItem instead.\n",
      "  self.lFiltKeys.SetStringItem(ind, 2, '%3.2f' % value[1])\n",
      "DEBUG:PYME.LMVis.shader_programs.ShaderProgramFactory:New shader program created: <class 'PYME.LMVis.shader_programs.DefaultShaderProgram.DefaultShaderProgram'>\n",
      "/Users/zachcm/Code/python-microscopy/PYME/ui/manualFoldPanel.py:37: wxPyDeprecationWarning: Using deprecated class. Use Colour instead.\n",
      "  col = wx.NamedColour(col)\n"
     ]
    }
   ],
   "source": [
    "pymevis = VisGUI.ipython_pymevisualize()\n",
    "pipeline = pymevis.pipeline\n",
    "recipe = pipeline.recipe"
   ]
  },
  {
   "cell_type": "code",
   "execution_count": 4,
   "metadata": {},
   "outputs": [
    {
     "name": "stderr",
     "output_type": "stream",
     "text": [
      "/Users/zachcm/Code/python-microscopy/PYME/IO/tabular.py:48: VisibleDeprecationWarning: mappingFilter is deprecated, use MappingFilter instead\n",
      "  warnings.warn(VisibleDeprecationWarning('%s is deprecated, use %s instead' % (name, cls.__name__)))\n",
      "/Users/zachcm/Code/python-microscopy/PYME/IO/tabular.py:928: VisibleDeprecationWarning: Mapping filter created with something that is not a tabular object. This will be unsupported in a future release. Consider DictSource or ColumnSource instead\n",
      "  warnings.warn(VisibleDeprecationWarning('Mapping filter created with something that is not a tabular object. This will be unsupported in a future release. Consider DictSource or ColumnSource instead'))\n",
      "DEBUG:PYME.LMVis.shader_programs.ShaderProgramFactory:New shader program created: <class 'PYME.LMVis.shader_programs.DefaultShaderProgram.OpaquePointShaderProgram'>\n"
     ]
    },
    {
     "name": "stdout",
     "output_type": "stream",
     "text": [
      "lw update\n",
      "lw update\n",
      "Creating layers GUI\n"
     ]
    },
    {
     "name": "stderr",
     "output_type": "stream",
     "text": [
      "/Users/zachcm/Code/python-microscopy/PYME/LMVis/layers/base.py:65: FutureWarning: `rcond` parameter will change to the default of machine precision times ``max(M, N)`` where M and N are the input matrix dimensions.\n",
      "To use the future default and silence this warning we advise to pass `rcond=None`, to keep using the old, explicitly pass `rcond=-1`.\n",
      "  self.shader_program.v_matrix[3,:3] = -np.linalg.lstsq(gl_canvas.object_rotation_matrix[:3,:3], gl_canvas.view.translation)[0]\n",
      "DEBUG:PYME.LMVis.visCore:Added layer, datasouce=points\n"
     ]
    },
    {
     "name": "stdout",
     "output_type": "stream",
     "text": [
      "hl update\n",
      "height:  308\n",
      "NB best size: wx.Size(243, 308)\n"
     ]
    },
    {
     "data": {
      "text/plain": [
       "<PYME.LMVis.layers.pointcloud.PointCloudRenderLayer at 0x7fe08cc5c890>"
      ]
     },
     "execution_count": 4,
     "metadata": {},
     "output_type": "execute_result"
    }
   ],
   "source": [
    "from ch_shrinkwrap import shape\n",
    "from PYME.IO import tabular\n",
    "import numpy as np\n",
    "\n",
    "# Create a torus\n",
    "R = 50\n",
    "r = 30\n",
    "t = shape.Torus(R, r)\n",
    "pts_t = t.points(1)\n",
    "# pts_t = np.load('hemo_pts.npy')\n",
    "\n",
    "# Create a bounding box\n",
    "# import numpy as np\n",
    "# pts_t = np.vstack([pts_t, np.array([-2*R,-2*R,-2*R]), np.array([2*R,2*R,2*R])])\n",
    "\n",
    "pipeline.addDataSource('points', tabular.mappingFilter({'x' : pts_t[:,0], 'y':pts_t[:,1], 'z':pts_t[:,2]}))\n",
    "pipeline.selectDataSource('points')\n",
    "pymevis.add_pointcloud_layer(ds_name='points')"
   ]
  },
  {
   "cell_type": "code",
   "execution_count": 5,
   "metadata": {
    "scrolled": false
   },
   "outputs": [
    {
     "name": "stdout",
     "output_type": "stream",
     "text": [
      "Resizing node store - new size: 1500\n",
      "Resizing node store - new size: 2250\n",
      "Resizing node store - new size: 3375\n",
      "Resizing node store - new size: 5063\n",
      "Resizing node store - new size: 7595\n",
      "Resizing node store - new size: 11393\n",
      "Octree  (octree0) created\n",
      "RecipeView._layout\n",
      "Input datasources:  ['points', 'octree0']\n"
     ]
    },
    {
     "name": "stderr",
     "output_type": "stream",
     "text": [
      "/Users/zachcm/Code/python-microscopy/PYME/ui/layerFoldPanel.py:47: wxPyDeprecationWarning: Call to deprecated item BitmapFromBuffer. Use :meth:`wx.Bitmap.FromBuffer` or :meth:`wx.Bitmap.FromBufferAndAlpha` instead.\n",
      "  return wx.BitmapFromBuffer(30, 10, img)\n",
      "/Users/zachcm/Code/python-microscopy/PYME/ui/histLimits.py:289: wxPyDeprecationWarning: Call to deprecated item EmptyBitmap. Use :class:`wx.Bitmap` instead\n",
      "  MemBitmap = wx.EmptyBitmap(s.GetWidth(), s.GetHeight())\n"
     ]
    },
    {
     "name": "stdout",
     "output_type": "stream",
     "text": [
      "Dual grid created in 0.368 s\n",
      "March in 0.079 s\n",
      "Generating TriangularMesh object\n",
      "Data munged to vertices, faces\n",
      "initializing halfedges ...\n",
      "vertices.shape = (1699, 3), faces.shape = (3426, 3)\n",
      "iterating edges\n",
      "done initializing halfedges\n",
      "Generated TriangularMesh object\n",
      "lw update\n",
      "hl update\n",
      "RecipeView._layout\n"
     ]
    },
    {
     "name": "stderr",
     "output_type": "stream",
     "text": [
      "/Users/zachcm/Code/python-microscopy/PYME/experimental/dual_marching_cubes.py:690: RuntimeWarning: divide by zero encountered in true_divide\n",
      "  mu1 = 1. * (self.isolevel - v0_value) / (m_value - v0_value)\n",
      "/Users/zachcm/Code/python-microscopy/PYME/experimental/dual_marching_cubes.py:691: RuntimeWarning: invalid value encountered in multiply\n",
      "  p = v0 + mu1[:, None] * (vm - v0)\n",
      "/Users/zachcm/Code/python-microscopy/PYME/experimental/dual_marching_cubes.py:693: RuntimeWarning: divide by zero encountered in true_divide\n",
      "  mu2 = 1. * (self.isolevel - m_value) / (v1_value - m_value)\n",
      "/Users/zachcm/Code/python-microscopy/PYME/experimental/dual_marching_cubes.py:694: RuntimeWarning: invalid value encountered in multiply\n",
      "  p[mu2 > 0, :] = (vm + mu2[:, None] * (v1 - vm))[mu2 > 0, :]\n"
     ]
    },
    {
     "ename": "SystemError",
     "evalue": "<class 'wx._core.WindowDestroyEvent'> returned a result with an error set",
     "output_type": "error",
     "traceback": [
      "\u001b[0;31m---------------------------------------------------------------------------\u001b[0m",
      "\u001b[0;31mwxAssertionError\u001b[0m                          Traceback (most recent call last)",
      "\u001b[0;31mwxAssertionError\u001b[0m: C++ assertion \"GetEventHandler() == this\" failed at /opt/concourse/worker/volumes/live/3ef8f33f-8e5b-442f-6716-948fc4646a36/volume/wxpython_1547931203930/work/ext/wxWidgets/src/common/wincmn.cpp(478) in ~wxWindowBase(): any pushed event handlers must have been removed",
      "\nThe above exception was the direct cause of the following exception:\n",
      "\u001b[0;31mSystemError\u001b[0m                               Traceback (most recent call last)",
      "\u001b[0;31mSystemError\u001b[0m: <class 'wx._core.WindowDestroyEvent'> returned a result with an error set"
     ]
    },
    {
     "name": "stderr",
     "output_type": "stream",
     "text": [
      "DEBUG:PYME.LMVis.shader_programs.ShaderProgramFactory:New shader program created: <class 'PYME.LMVis.shader_programs.GouraudShaderProgram.GouraudShaderProgram'>\n"
     ]
    },
    {
     "name": "stdout",
     "output_type": "stream",
     "text": [
      "Input datasources:  ['points', 'octree0']\n",
      "lw update\n",
      "Disposing of HistLimitsEditor\n",
      "Creating layers GUI\n",
      "hl update\n",
      "hl update\n",
      "height:  335\n",
      "NB best size: wx.Size(200, 335)\n"
     ]
    }
   ],
   "source": [
    "# Surface generation parameters\n",
    "threshold_density = 0.005\n",
    "# threshold_density = 0.0001\n",
    "n_points_min = 50\n",
    "# n_points_min = 100\n",
    "repair = False\n",
    "remesh = False\n",
    "\n",
    "# Run surface generation recipe on the point cloud\n",
    "from PYME.LMVis.Extras import extra_layers\n",
    "from PYME.LMVis.layers.mesh import TriangleRenderLayer\n",
    "from PYME.recipes.surface_fitting import DualMarchingCubes\n",
    "from ch_shrinkwrap import _membrane_mesh as membrane_mesh\n",
    "\n",
    "oc_name = extra_layers.gen_octree_from_points(pymevis)\n",
    "surf_name, surf_count = pipeline.new_ds_name('surf', return_count=True)\n",
    "dmc = DualMarchingCubes(recipe, invalidate_parent=False, input=oc_name, output=surf_name, threshold_density=threshold_density, n_points_min=n_points_min, repair=repair, remesh=remesh)\n",
    "recipe.add_module(dmc)\n",
    "recipe.execute()\n",
    "layer = TriangleRenderLayer(pipeline, dsname=surf_name, method='shaded', cmap = ['C', 'M', 'Y', 'R', 'G', 'B'][surf_count % 6])\n",
    "pymevis.add_layer(layer)\n",
    "dmc._invalidate_parent = True\n",
    "# mesh = membrane_mesh.MembraneMesh.from_stl('hemo.stl')\n",
    "# pipeline.dataSources[surf_name] = mesh\n",
    "# layer = TriangleRenderLayer(pipeline, dsname=surf_name, method='shaded', cmap = ['C', 'M', 'Y', 'R', 'G', 'B'][surf_count % 6])\n",
    "# pymevis.add_layer(layer)"
   ]
  },
  {
   "cell_type": "code",
   "execution_count": 6,
   "metadata": {},
   "outputs": [],
   "source": [
    "# Shrinkwrapping parameters\n",
    "max_iters = 1\n",
    "step_size = 0.1\n",
    "attraction_weight = 1  # eV/nm\n",
    "curvature_weight = 1\n",
    "largest_component_only = True\n",
    "method = 'euler'\n",
    "remesh_every = 500  # iterations"
   ]
  },
  {
   "cell_type": "code",
   "execution_count": 7,
   "metadata": {
    "scrolled": false
   },
   "outputs": [
    {
     "name": "stdout",
     "output_type": "stream",
     "text": [
      "Iteration 0 <<<\n",
      "Iteration 0 ...\n",
      "Iteration 1 ...\n",
      "Iteration 2 ...\n",
      "Iteration 3 ...\n",
      "Iteration 4 ...\n",
      "Iteration 5 ...\n",
      "Iteration 6 ...\n",
      "Iteration 7 ...\n",
      "Iteration 8 ...\n",
      "Iteration 9 ...\n",
      "Time elapsed = 4.402001857757568 s\n"
     ]
    }
   ],
   "source": [
    "from PYME.util import mProfile\n",
    "import time\n",
    "\n",
    "# mProfile.profileOn(['_membrane_mesh.pyx'])\n",
    "\n",
    "# Run surface meshing on the point cloud\n",
    "membrane_name = pipeline.new_ds_name('membrane')\n",
    "\n",
    "points_name = 'points'\n",
    "\n",
    "mesh = membrane_mesh.MembraneMesh(mesh=recipe.namespace[surf_name])\n",
    "mesh.a = attraction_weight\n",
    "mesh.c = curvature_weight\n",
    "mesh.max_iter = 10\n",
    "mesh.step_size = step_size\n",
    "# mesh.keep_largest_connected_component()\n",
    "# mesh.kg = 0\n",
    "\n",
    "pts = np.ascontiguousarray(np.vstack([recipe.namespace[points_name]['x'], \n",
    "                                      recipe.namespace[points_name]['y'],\n",
    "                                      recipe.namespace[points_name]['z']]).T)\n",
    "\n",
    "try:\n",
    "    sigma = recipe.namespace[points_name]['sigma']\n",
    "except(KeyError):\n",
    "    sigma = np.ones_like(recipe.namespace[points_name]['x'])\n",
    "    \n",
    "residuals = []\n",
    "res_prev = 1e10\n",
    "mesh_prev = membrane_mesh.MembraneMesh(mesh=mesh)\n",
    "start = time.time()\n",
    "for _i in range(max_iters):\n",
    "    print('Iteration {} <<<'.format(_i))\n",
    "    mesh.shrink_wrap(pts, sigma, method=method)\n",
    "    if ((_i+1) % remesh_every) == 0:\n",
    "        mesh.remesh()\n",
    "#     comparison_points = mesh._vertices['position'][mesh._vertices['halfedge']!=-1]\n",
    "#     new_res = s.surface_res(comparison_points)\n",
    "#     residuals.append(new_res)\n",
    "stop = time.time()\n",
    "print('Time elapsed = {} s'.format(stop-start))\n",
    "# mProfile.profileOff()\n",
    "# mProfile.report()"
   ]
  },
  {
   "cell_type": "code",
   "execution_count": 8,
   "metadata": {},
   "outputs": [
    {
     "name": "stdout",
     "output_type": "stream",
     "text": [
      "lw update\n",
      "Disposing of HistLimitsEditor\n",
      "Disposing of HistLimitsEditor\n",
      "Creating layers GUI\n",
      "hl update\n",
      "hl update\n",
      "hl update\n",
      "height:  360\n",
      "NB best size: wx.Size(200, 360)\n"
     ]
    }
   ],
   "source": [
    "recipe.namespace[membrane_name] = mesh\n",
    "surf_count = 0\n",
    "layer = TriangleRenderLayer(pipeline, dsname=membrane_name, method='shaded', cmap = ['C', 'M', 'Y', 'R', 'G', 'B'][surf_count % 6])\n",
    "pymevis.add_layer(layer)\n",
    "\n",
    "# visgui.RefreshView()"
   ]
  },
  {
   "cell_type": "code",
   "execution_count": 9,
   "metadata": {},
   "outputs": [],
   "source": [
    "# pipeline.dataSources['surf0'].manifold"
   ]
  },
  {
   "cell_type": "code",
   "execution_count": 10,
   "metadata": {},
   "outputs": [],
   "source": [
    "# np.histogram((mesh.vertices**2).sum(1))\n",
    "# mesh.vertices[(mesh.vertices**2).sum(1)>5e6]"
   ]
  },
  {
   "cell_type": "code",
   "execution_count": 11,
   "metadata": {},
   "outputs": [],
   "source": [
    "# %timeit np.zeros(1000,dtype=float)"
   ]
  },
  {
   "cell_type": "code",
   "execution_count": 12,
   "metadata": {},
   "outputs": [],
   "source": [
    "# a = np.zeros(1000,dtype=float)"
   ]
  },
  {
   "cell_type": "code",
   "execution_count": 13,
   "metadata": {},
   "outputs": [],
   "source": [
    "# %timeit a[:] = 0"
   ]
  },
  {
   "cell_type": "code",
   "execution_count": 14,
   "metadata": {},
   "outputs": [],
   "source": [
    "# a = np.random.rand(3)"
   ]
  },
  {
   "cell_type": "code",
   "execution_count": 15,
   "metadata": {},
   "outputs": [],
   "source": [
    "# %timeit np.linalg.norm(a)"
   ]
  },
  {
   "cell_type": "code",
   "execution_count": 16,
   "metadata": {},
   "outputs": [],
   "source": [
    "# %timeit math.sqrt(a[0]*a[0]+a[1]*a[1]+a[2]*a[2])"
   ]
  },
  {
   "cell_type": "code",
   "execution_count": 17,
   "metadata": {},
   "outputs": [],
   "source": [
    "# import math\n",
    "# mesh.curvature_mean"
   ]
  },
  {
   "cell_type": "code",
   "execution_count": 18,
   "metadata": {
    "scrolled": false
   },
   "outputs": [],
   "source": [
    "# mesh.curvature_mean\n",
    "\n",
    "# array([-0.02428699, -0.02683684, -0.03520463, -0.03526436, -0.02588729,\n",
    "#        -0.01925983, -0.02496032, -0.03601997, -0.03186244, -0.02513247,\n",
    "#        -0.01710546, -0.02181269, -0.03572722, -0.03095525, -0.02884807,\n",
    "#        -0.02043651, -0.02260816, -0.0107248 , -0.01783027, -0.02440133,\n",
    "#        -0.01989751, -0.0300505 , -0.02325139, -0.03114404, -0.03416455,\n",
    "#        -0.02380164, -0.02358823, -0.01761594, -0.02641878, -0.01438287,\n",
    "#        -0.0193562 , -0.02085626, -0.0029468 , -0.01964906, -0.00958929,\n",
    "#        -0.02563001, -0.03561622, -0.00939163, -0.031532  , -0.02300384,\n",
    "#        -0.02635964, -0.02772332, -0.02310884, -0.02327645, -0.0072066 ,\n",
    "#        -0.02903603, -0.01831257, -0.02788141, -0.04116877, -0.02206988,\n",
    "#        -0.01740585, -0.02495094, -0.01955125, -0.01970816, -0.01835   ,\n",
    "#        -0.0247904 , -0.02731424, -0.01983626, -0.01559758, -0.02533107,\n",
    "#        -0.0352015 , -0.0280713 , -0.02011003, -0.02124435, -0.0150802 ,\n",
    "#        -0.01749244, -0.02111065, -0.0214844 , -0.02949768, -0.02012722,\n",
    "#        -0.02403631, -0.02695736, -0.02245096, -0.03606458, -0.02146059,\n",
    "#        -0.01547824, -0.0222936 , -0.02028874, -0.02526367, -0.02357065,\n",
    "#        -0.01670315, -0.01303259, -0.0186887 , -0.02633759, -0.02411485,\n",
    "#        -0.01861133, -0.01269312, -0.01623714, -0.01864439, -0.01145577,\n",
    "#        -0.03017015, -0.01010752, -0.01259226, -0.0236379 , -0.02923537,\n",
    "#        -0.02318496, -0.03050997, -0.01805417, -0.02209906, -0.02108093,\n",
    "#        -0.02428403, -0.01309952, -0.02677417, -0.02818513, -0.01476679,\n",
    "#        -0.02374327, -0.01872782, -0.03944606, -0.02458709, -0.00866113,\n",
    "#        -0.01370072, -0.0192804 , -0.00441773, -0.01821632, -0.01043966,\n",
    "#        -0.00130279, -0.02214376, -0.01680489, -0.00706394, -0.01516902,\n",
    "#        -0.01780665, -0.01457214, -0.02435759, -0.03524471, -0.00783969,\n",
    "#        -0.01186128, -0.01143814, -0.03120759, -0.0063282 , -0.01020337,\n",
    "#        -0.01257871, -0.01775423, -0.00728451, -0.02327399,  0.00364834,\n",
    "#        -0.01600981, -0.01543664,  0.01229528, -0.01225048, -0.01942955,\n",
    "#        -0.02935543, -0.02550427, -0.01586993, -0.04390951,  0.00650615,\n",
    "#        -0.02241991, -0.00990511, -0.02178879,  0.00980132, -0.00436514,\n",
    "#        -0.03258994, -0.00667402, -0.01332166, -0.02527781, -0.01186465,\n",
    "#        -0.0310817 ,  0.00275017,  0.00557112, -0.0165073 ,  0.00934914,\n",
    "#        -0.02143568,  0.01010292,  0.00855976, -0.00342653, -0.02542293,\n",
    "#        -0.00931988, -0.02799959, -0.03468434, -0.0077624 ,  0.00084449,\n",
    "#        -0.02273379, -0.01293858, -0.03561233, -0.01979131,  0.01687119,\n",
    "#         0.00413307, -0.02711775, -0.03809338, -0.02496661, -0.03083615,\n",
    "#         0.0097606 , -0.01860571, -0.02811976,  0.0054048 ,  0.0046436 ,\n",
    "#         0.02366572, -0.02235126,  0.00883175, -0.01200637,  0.0073257 ,\n",
    "#         0.00066619, -0.01588879, -0.03306139, -0.02519416, -0.01258933,\n",
    "#        -0.02504222, -0.02732345, -0.0209931 , -0.01871451, -0.017646  ,\n",
    "#         0.01005471,  0.00986897, -0.0213646 , -0.00655994,  0.00249966,\n",
    "#        -0.00219651,  0.00496376, -0.00588127, -0.02175344,  0.0061173 ,\n",
    "#        -0.01495314,  0.0071039 , -0.02333255,  0.00272639,  0.02275358,\n",
    "#         0.01218204,  0.01757658, -0.01330966, -0.02856968,  0.00368614,\n",
    "#        -0.01133232,  0.0031727 , -0.03328399, -0.02639776, -0.00038218,\n",
    "#        -0.02132755, -0.00999628, -0.02454205, -0.01895948,  0.00185627,\n",
    "#        -0.00851669,  0.00493476, -0.02885019, -0.00228561, -0.02850068,\n",
    "#        -0.00334863,  0.00362692, -0.01204349, -0.01241132, -0.02427487,\n",
    "#        -0.02815121,  0.01158011,  0.00888515,  0.00184343,  0.00165609,\n",
    "#        -0.01279603,  0.00260754, -0.00519981,  0.01143622, -0.01231805,\n",
    "#         0.00286222,  0.00194954, -0.01769878,  0.01155681,  0.00157978,\n",
    "#        -0.01836439, -0.00972983, -0.01104447, -0.02940429, -0.01344321,\n",
    "#        -0.02076529,  0.00583254, -0.00775563, -0.0148745 ,  0.00349053,\n",
    "#         0.00077056, -0.03073701, -0.02452233,  0.00527282, -0.02439156,\n",
    "#        -0.02132563, -0.01054089,  0.02629377, -0.02767393,  0.00327356,\n",
    "#        -0.02574031, -0.0303606 , -0.04927377,  0.02471186,  0.00288398,\n",
    "#         0.00828506, -0.00125715,  0.0058288 , -0.02288444, -0.00625468,\n",
    "#        -0.02080576,  0.00444387, -0.00814379, -0.03910419,  0.00221765,\n",
    "#        -0.01573792, -0.04382191,  0.00188401, -0.01362715,  0.00937242,\n",
    "#        -0.0217329 , -0.02940036, -0.02217906,  0.00489172, -0.00566332,\n",
    "#        -0.03649801, -0.0285956 , -0.01640536,  0.0056593 , -0.02271517,\n",
    "#        -0.02015894, -0.02518942, -0.01082677, -0.01319173,  0.00638537,\n",
    "#         0.00893749, -0.01762452, -0.01216674,  0.00913494, -0.03882822,\n",
    "#         0.00951584,  0.00669762,  0.01812355, -0.01458035, -0.01895053,\n",
    "#        -0.01085002, -0.00022472,  0.00040178, -0.0079778 , -0.02921758,\n",
    "#        -0.01752107,  0.00094714,  0.00476546,  0.01666948,  0.01499952,\n",
    "#         0.00443209, -0.02010418,  0.00920325, -0.01495799, -0.02529663,\n",
    "#        -0.01401451, -0.01684001, -0.02203484, -0.00876777, -0.02782854,\n",
    "#        -0.01745879,  0.01610401, -0.00696585, -0.02386749, -0.01722617,\n",
    "#        -0.02718452, -0.0187023 ,  0.00740241,  0.00789447, -0.01228877,\n",
    "#         0.00353131,  0.0101284 ,  0.00417677, -0.01538138,  0.00646361,\n",
    "#        -0.01656402, -0.01016967, -0.01483929, -0.00765386, -0.03255694,\n",
    "#        -0.00273584, -0.02118263,  0.00692286, -0.01273934, -0.02560711,\n",
    "#         0.00907632, -0.02876468,  0.01171936, -0.00573571, -0.01674777,\n",
    "#        -0.00719333, -0.02643972, -0.03112123, -0.02049832, -0.00770186,\n",
    "#        -0.01760427,  0.0031446 ,  0.00953153, -0.03006687, -0.00554376,\n",
    "#        -0.00020991, -0.01195611, -0.02506681, -0.00435059, -0.01758481,\n",
    "#        -0.00123239, -0.02286805,  0.00686782, -0.01740249, -0.01914145,\n",
    "#        -0.01237933, -0.03381315, -0.02972456, -0.04160903, -0.03327181,\n",
    "#        -0.01300887, -0.0073038 , -0.01711192, -0.00900999, -0.02268764,\n",
    "#        -0.02403082, -0.03988414, -0.02824538, -0.01850842, -0.00813776,\n",
    "#        -0.01646433, -0.00393025, -0.02257454, -0.02851966, -0.00385589,\n",
    "#        -0.01780758, -0.02379884, -0.02451319, -0.01305262, -0.01915051,\n",
    "#        -0.0196269 , -0.01755026, -0.0238513 , -0.02259182, -0.04198226,\n",
    "#        -0.03224476, -0.01969934, -0.01739067, -0.02100361, -0.01051624,\n",
    "#        -0.00512036, -0.00635493, -0.02643401, -0.00897924, -0.03875568,\n",
    "#        -0.01688808, -0.01334461, -0.0310249 , -0.01973836, -0.01159971,\n",
    "#        -0.01885707, -0.02010073, -0.02752874, -0.02716831, -0.01938521,\n",
    "#        -0.02410734, -0.01593927, -0.01689317, -0.02928831, -0.02091559,\n",
    "#        -0.01578908, -0.02460966, -0.01819157, -0.0313473 , -0.01237409,\n",
    "#        -0.02287448, -0.01266937, -0.02476892, -0.0178554 , -0.02271202,\n",
    "#        -0.02613081, -0.04485568, -0.01507519, -0.01785437, -0.02282061,\n",
    "#        -0.02435467, -0.04738642, -0.01341974, -0.02017318, -0.028458  ,\n",
    "#        -0.01409955, -0.03844487, -0.02358252, -0.01973921, -0.01340611,\n",
    "#        -0.03714912, -0.01775715, -0.02435848, -0.02036288, -0.01026366,\n",
    "#        -0.04247127, -0.01809015, -0.02076143, -0.0222487 , -0.02372591,\n",
    "#        -0.02512021, -0.0297163 , -0.02479245, -0.02373596, -0.02216434,\n",
    "#        -0.02818504, -0.02805958, -0.02031546, -0.03181601, -0.03984148,\n",
    "#        -0.02797087, -0.02796311, -0.03940429, -0.02222643, -0.01781616,\n",
    "#        -0.01967643, -0.01990352, -0.01322638, -0.02362229, -0.03346263,\n",
    "#        -0.02250043, -0.02400169, -0.01398825, -0.02086991, -0.01661455,\n",
    "#        -0.01748164, -0.02621643, -0.02020466, -0.01858558, -0.03237082,\n",
    "#        -0.02512064, -0.02703524, -0.02105164, -0.01532315, -0.0272542 ,\n",
    "#        -0.02369798, -0.02112821, -0.02947138, -0.02624152, -0.03506381,\n",
    "#        -0.03745314, -0.03926392, -0.03261371, -0.01844874, -0.01201435,\n",
    "#        -0.01970507, -0.03175253, -0.03741222, -0.03789268], dtype=float32)"
   ]
  },
  {
   "cell_type": "code",
   "execution_count": 19,
   "metadata": {
    "scrolled": false
   },
   "outputs": [
    {
     "name": "stderr",
     "output_type": "stream",
     "text": [
      "ERROR:traitsui.wx.toolkit:Wx control <traitsui.wx.helper.TraitsUIPanel object at 0x7fe08d5ff550> not destroyed cleanly\n",
      "Traceback (most recent call last):\n",
      "  File \"/Users/zachcm/opt/miniconda3/envs/pyme/lib/python3.7/site-packages/traitsui/wx/toolkit.py\", line 436, in _destroy_control\n",
      "    control.Destroy()\n",
      "  File \"/Users/zachcm/opt/miniconda3/envs/pyme/lib/python3.7/site-packages/traitsui/wx/helper.py\", line 326, in Destroy\n",
      "    self.Unbind(wx.EVT_CHILD_FOCUS)\n",
      "  File \"/Users/zachcm/opt/miniconda3/envs/pyme/lib/python3.7/site-packages/wx/core.py\", line 1416, in _EvtHandler_Unbind\n",
      "    return event.Unbind(self, id, id2, handler)\n",
      "  File \"/Users/zachcm/opt/miniconda3/envs/pyme/lib/python3.7/site-packages/wx/core.py\", line 1485, in Unbind\n",
      "    success += int(target.Disconnect(id1, id2, et, handler))\n",
      "RuntimeError: wrapped C/C++ object of type TraitsUIPanel has been deleted\n",
      "ERROR:traitsui.wx.toolkit:Wx control <traitsui.wx.helper.TraitsUIPanel object at 0x7fe0a6214cd0> not destroyed cleanly\n",
      "Traceback (most recent call last):\n",
      "  File \"/Users/zachcm/opt/miniconda3/envs/pyme/lib/python3.7/site-packages/traitsui/wx/toolkit.py\", line 436, in _destroy_control\n",
      "    control.Destroy()\n",
      "  File \"/Users/zachcm/opt/miniconda3/envs/pyme/lib/python3.7/site-packages/traitsui/wx/helper.py\", line 326, in Destroy\n",
      "    self.Unbind(wx.EVT_CHILD_FOCUS)\n",
      "  File \"/Users/zachcm/opt/miniconda3/envs/pyme/lib/python3.7/site-packages/wx/core.py\", line 1416, in _EvtHandler_Unbind\n",
      "    return event.Unbind(self, id, id2, handler)\n",
      "  File \"/Users/zachcm/opt/miniconda3/envs/pyme/lib/python3.7/site-packages/wx/core.py\", line 1485, in Unbind\n",
      "    success += int(target.Disconnect(id1, id2, et, handler))\n",
      "RuntimeError: wrapped C/C++ object of type TraitsUIPanel has been deleted\n",
      "ERROR:traitsui.wx.toolkit:Wx control <traitsui.wx.helper.TraitsUIPanel object at 0x7fe08830e730> not destroyed cleanly\n",
      "Traceback (most recent call last):\n",
      "  File \"/Users/zachcm/opt/miniconda3/envs/pyme/lib/python3.7/site-packages/traitsui/wx/toolkit.py\", line 436, in _destroy_control\n",
      "    control.Destroy()\n",
      "  File \"/Users/zachcm/opt/miniconda3/envs/pyme/lib/python3.7/site-packages/traitsui/wx/helper.py\", line 326, in Destroy\n",
      "    self.Unbind(wx.EVT_CHILD_FOCUS)\n",
      "  File \"/Users/zachcm/opt/miniconda3/envs/pyme/lib/python3.7/site-packages/wx/core.py\", line 1416, in _EvtHandler_Unbind\n",
      "    return event.Unbind(self, id, id2, handler)\n",
      "  File \"/Users/zachcm/opt/miniconda3/envs/pyme/lib/python3.7/site-packages/wx/core.py\", line 1485, in Unbind\n",
      "    success += int(target.Disconnect(id1, id2, et, handler))\n",
      "RuntimeError: wrapped C/C++ object of type TraitsUIPanel has been deleted\n"
     ]
    },
    {
     "name": "stdout",
     "output_type": "stream",
     "text": [
      "Ev Idle\n",
      "('points', 't')\n",
      "refreshed\n"
     ]
    },
    {
     "name": "stderr",
     "output_type": "stream",
     "text": [
      "ERROR:traits:Exception occurred in traits notification handler for object: <PYME.LMVis.layers.pointcloud.PointCloudRenderLayer object at 0x7fe08cc5c890>, trait: visible, old value: True, new value: False\n",
      "Traceback (most recent call last):\n",
      "  File \"/Users/zachcm/opt/miniconda3/envs/pyme/lib/python3.7/site-packages/traits/trait_notifiers.py\", line 522, in _dispatch_change_event\n",
      "    self.dispatch(handler, *args)\n",
      "  File \"/Users/zachcm/opt/miniconda3/envs/pyme/lib/python3.7/site-packages/traits/trait_notifiers.py\", line 484, in dispatch\n",
      "    handler(*args)\n",
      "  File \"/Users/zachcm/Code/python-microscopy/PYME/LMVis/layers/pointcloud.py\", line 120, in <lambda>\n",
      "    self.on_trait_change(lambda: self.on_update.send(self), 'visible')\n",
      "  File \"/Users/zachcm/Code/python-microscopy/PYME/contrib/dispatch/dispatcher.py\", line 174, in send\n",
      "    for receiver in self._live_receivers(sender)\n",
      "  File \"/Users/zachcm/Code/python-microscopy/PYME/contrib/dispatch/dispatcher.py\", line 174, in <listcomp>\n",
      "    for receiver in self._live_receivers(sender)\n",
      "  File \"/Users/zachcm/Code/python-microscopy/PYME/ui/custom_traits_editors.py\", line 472, in n_update\n",
      "    self.update_editor()\n",
      "  File \"/Users/zachcm/Code/python-microscopy/PYME/ui/custom_traits_editors.py\", line 484, in update_editor\n",
      "    self.control.SetData(self.factory.data(), *self.value)\n",
      "AttributeError: 'NoneType' object has no attribute 'SetData'\n",
      "ERROR:traits:Exception occurred in traits notification handler for object: <PYME.LMVis.layers.pointcloud.PointCloudRenderLayer object at 0x7fe08cc5c890>, trait: visible, old value: True, new value: False\n",
      "Traceback (most recent call last):\n",
      "  File \"/Users/zachcm/opt/miniconda3/envs/pyme/lib/python3.7/site-packages/traits/trait_notifiers.py\", line 522, in _dispatch_change_event\n",
      "    self.dispatch(handler, *args)\n",
      "  File \"/Users/zachcm/opt/miniconda3/envs/pyme/lib/python3.7/site-packages/traits/trait_notifiers.py\", line 484, in dispatch\n",
      "    handler(*args)\n",
      "  File \"/Users/zachcm/Code/python-microscopy/PYME/ui/layerFoldPanel.py\", line 98, in _refresh\n",
      "    self.Refresh()\n",
      "RuntimeError: wrapped C/C++ object of type LayerCaptionBar has been deleted\n",
      "ERROR:traits:Exception occurred in traits notification handler for object: <PYME.LMVis.layers.pointcloud.PointCloudRenderLayer object at 0x7fe08cc5c890>, trait: visible, old value: True, new value: False\n",
      "Traceback (most recent call last):\n",
      "  File \"/Users/zachcm/opt/miniconda3/envs/pyme/lib/python3.7/site-packages/traits/trait_notifiers.py\", line 522, in _dispatch_change_event\n",
      "    self.dispatch(handler, *args)\n",
      "  File \"/Users/zachcm/opt/miniconda3/envs/pyme/lib/python3.7/site-packages/traits/trait_notifiers.py\", line 484, in dispatch\n",
      "    handler(*args)\n",
      "  File \"/Users/zachcm/Code/python-microscopy/PYME/ui/layerFoldPanel.py\", line 98, in _refresh\n",
      "    self.Refresh()\n",
      "RuntimeError: wrapped C/C++ object of type LayerCaptionBar has been deleted\n"
     ]
    },
    {
     "name": "stdout",
     "output_type": "stream",
     "text": [
      "hl update\n"
     ]
    },
    {
     "name": "stderr",
     "output_type": "stream",
     "text": [
      "ERROR:traits:Exception occurred in traits notification handler for object: <PYME.LMVis.layers.mesh.TriangleRenderLayer object at 0x7fe08d895dd0>, trait: visible, old value: True, new value: False\n",
      "Traceback (most recent call last):\n",
      "  File \"/Users/zachcm/opt/miniconda3/envs/pyme/lib/python3.7/site-packages/traits/trait_notifiers.py\", line 522, in _dispatch_change_event\n",
      "    self.dispatch(handler, *args)\n",
      "  File \"/Users/zachcm/opt/miniconda3/envs/pyme/lib/python3.7/site-packages/traits/trait_notifiers.py\", line 484, in dispatch\n",
      "    handler(*args)\n",
      "  File \"/Users/zachcm/Code/python-microscopy/PYME/ui/layerFoldPanel.py\", line 98, in _refresh\n",
      "    self.Refresh()\n",
      "RuntimeError: wrapped C/C++ object of type LayerCaptionBar has been deleted\n",
      "ERROR:traits:Exception occurred in traits notification handler for object: <PYME.LMVis.layers.mesh.TriangleRenderLayer object at 0x7fe08d895dd0>, trait: visible, old value: False, new value: True\n",
      "Traceback (most recent call last):\n",
      "  File \"/Users/zachcm/opt/miniconda3/envs/pyme/lib/python3.7/site-packages/traits/trait_notifiers.py\", line 522, in _dispatch_change_event\n",
      "    self.dispatch(handler, *args)\n",
      "  File \"/Users/zachcm/opt/miniconda3/envs/pyme/lib/python3.7/site-packages/traits/trait_notifiers.py\", line 484, in dispatch\n",
      "    handler(*args)\n",
      "  File \"/Users/zachcm/Code/python-microscopy/PYME/ui/layerFoldPanel.py\", line 98, in _refresh\n",
      "    self.Refresh()\n",
      "RuntimeError: wrapped C/C++ object of type LayerCaptionBar has been deleted\n",
      "ERROR:traits:Exception occurred in traits notification handler for object: <PYME.LMVis.layers.mesh.TriangleRenderLayer object at 0x7fe08d895dd0>, trait: visible, old value: True, new value: False\n",
      "Traceback (most recent call last):\n",
      "  File \"/Users/zachcm/opt/miniconda3/envs/pyme/lib/python3.7/site-packages/traits/trait_notifiers.py\", line 522, in _dispatch_change_event\n",
      "    self.dispatch(handler, *args)\n",
      "  File \"/Users/zachcm/opt/miniconda3/envs/pyme/lib/python3.7/site-packages/traits/trait_notifiers.py\", line 484, in dispatch\n",
      "    handler(*args)\n",
      "  File \"/Users/zachcm/Code/python-microscopy/PYME/ui/layerFoldPanel.py\", line 98, in _refresh\n",
      "    self.Refresh()\n",
      "RuntimeError: wrapped C/C++ object of type LayerCaptionBar has been deleted\n",
      "ERROR:traits:Exception occurred in traits notification handler for object: <PYME.LMVis.layers.mesh.TriangleRenderLayer object at 0x7fe08d895dd0>, trait: visible, old value: False, new value: True\n",
      "Traceback (most recent call last):\n",
      "  File \"/Users/zachcm/opt/miniconda3/envs/pyme/lib/python3.7/site-packages/traits/trait_notifiers.py\", line 522, in _dispatch_change_event\n",
      "    self.dispatch(handler, *args)\n",
      "  File \"/Users/zachcm/opt/miniconda3/envs/pyme/lib/python3.7/site-packages/traits/trait_notifiers.py\", line 484, in dispatch\n",
      "    handler(*args)\n",
      "  File \"/Users/zachcm/Code/python-microscopy/PYME/ui/layerFoldPanel.py\", line 98, in _refresh\n",
      "    self.Refresh()\n",
      "RuntimeError: wrapped C/C++ object of type LayerCaptionBar has been deleted\n",
      "ERROR:traits:Exception occurred in traits notification handler for object: <PYME.LMVis.layers.mesh.TriangleRenderLayer object at 0x7fe08d895dd0>, trait: visible, old value: True, new value: False\n",
      "Traceback (most recent call last):\n",
      "  File \"/Users/zachcm/opt/miniconda3/envs/pyme/lib/python3.7/site-packages/traits/trait_notifiers.py\", line 522, in _dispatch_change_event\n",
      "    self.dispatch(handler, *args)\n",
      "  File \"/Users/zachcm/opt/miniconda3/envs/pyme/lib/python3.7/site-packages/traits/trait_notifiers.py\", line 484, in dispatch\n",
      "    handler(*args)\n",
      "  File \"/Users/zachcm/Code/python-microscopy/PYME/ui/layerFoldPanel.py\", line 98, in _refresh\n",
      "    self.Refresh()\n",
      "RuntimeError: wrapped C/C++ object of type LayerCaptionBar has been deleted\n",
      "ERROR:traits:Exception occurred in traits notification handler for object: <PYME.LMVis.layers.mesh.TriangleRenderLayer object at 0x7fe08d895dd0>, trait: visible, old value: False, new value: True\n",
      "Traceback (most recent call last):\n",
      "  File \"/Users/zachcm/opt/miniconda3/envs/pyme/lib/python3.7/site-packages/traits/trait_notifiers.py\", line 522, in _dispatch_change_event\n",
      "    self.dispatch(handler, *args)\n",
      "  File \"/Users/zachcm/opt/miniconda3/envs/pyme/lib/python3.7/site-packages/traits/trait_notifiers.py\", line 484, in dispatch\n",
      "    handler(*args)\n",
      "  File \"/Users/zachcm/Code/python-microscopy/PYME/ui/layerFoldPanel.py\", line 98, in _refresh\n",
      "    self.Refresh()\n",
      "RuntimeError: wrapped C/C++ object of type LayerCaptionBar has been deleted\n",
      "ERROR:traits:Exception occurred in traits notification handler for object: <PYME.LMVis.layers.mesh.TriangleRenderLayer object at 0x7fe08d895dd0>, trait: visible, old value: True, new value: False\n",
      "Traceback (most recent call last):\n",
      "  File \"/Users/zachcm/opt/miniconda3/envs/pyme/lib/python3.7/site-packages/traits/trait_notifiers.py\", line 522, in _dispatch_change_event\n",
      "    self.dispatch(handler, *args)\n",
      "  File \"/Users/zachcm/opt/miniconda3/envs/pyme/lib/python3.7/site-packages/traits/trait_notifiers.py\", line 484, in dispatch\n",
      "    handler(*args)\n",
      "  File \"/Users/zachcm/Code/python-microscopy/PYME/ui/layerFoldPanel.py\", line 98, in _refresh\n",
      "    self.Refresh()\n",
      "RuntimeError: wrapped C/C++ object of type LayerCaptionBar has been deleted\n"
     ]
    }
   ],
   "source": [
    "# mesh._E\n",
    "\n",
    "# array([2.11844757e-01, 2.40198106e-01, 3.19626093e-01, 4.17075068e-01,\n",
    "#        2.46623173e-01, 1.20239317e-01, 1.14637233e-01, 4.29192245e-01,\n",
    "#        3.56957167e-01, 2.29203776e-01, 1.04349464e-01, 1.81151569e-01,\n",
    "#        3.98130208e-01, 2.54946232e-01, 3.37461829e-01, 1.41302496e-01,\n",
    "#        2.45739833e-01, 5.14777005e-02, 8.57661143e-02, 1.31548330e-01,\n",
    "#        1.00605771e-01, 3.08747321e-01, 1.27968907e-01, 3.62230748e-01,\n",
    "#        3.35921764e-01, 2.29208544e-01, 1.33878291e-01, 7.86462128e-02,\n",
    "#        2.58702904e-01, 6.29288033e-02, 1.40812173e-01, 1.12942219e-01,\n",
    "#        6.23609754e-04, 1.14936337e-01, 2.44266633e-02, 2.75681525e-01,\n",
    "#        2.91851372e-01, 2.50656456e-02, 3.79334241e-01, 1.43675789e-01,\n",
    "#        1.45927966e-01, 1.79455012e-01, 1.44920379e-01, 1.59630924e-01,\n",
    "#        1.40660116e-02, 3.92872155e-01, 9.11607444e-02, 2.50618219e-01,\n",
    "#        5.91276884e-01, 1.31263480e-01, 9.42734703e-02, 2.49100611e-01,\n",
    "#        8.34460780e-02, 7.19749853e-02, 1.95434555e-01, 2.34105453e-01,\n",
    "#        1.62592202e-01, 2.17767105e-01, 5.22441864e-02, 2.06140459e-01,\n",
    "#        3.32834303e-01, 1.70426279e-01, 1.02266766e-01, 8.11644569e-02,\n",
    "#        6.11756742e-02, 1.52298883e-01, 1.86738163e-01, 1.59445047e-01,\n",
    "#        3.41478914e-01, 1.17165469e-01, 1.16045162e-01, 2.21677065e-01,\n",
    "#        2.05612421e-01, 4.46011394e-01, 1.67268202e-01, 1.21020578e-01,\n",
    "#        1.70276925e-01, 1.17432162e-01, 2.21850500e-01, 2.52588570e-01,\n",
    "#        8.72929469e-02, 6.34207726e-02, 7.87766576e-02, 1.58695623e-01,\n",
    "#        2.13395953e-01, 9.78938118e-02, 4.48519029e-02, 7.51284435e-02,\n",
    "#        8.58340338e-02, 3.92180867e-02, 1.43989056e-01, 2.10357066e-02,\n",
    "#        6.79732934e-02, 2.20209882e-01, 2.91711003e-01, 1.05285563e-01,\n",
    "#        3.44499499e-01, 1.18244603e-01, 2.07727388e-01, 1.51647195e-01,\n",
    "#        1.48057610e-01, 7.17694983e-02, 2.85979182e-01, 2.41913930e-01,\n",
    "#        7.48134777e-02, 2.29917809e-01, 1.27310529e-01, 5.21201968e-01,\n",
    "#        2.48505428e-01, 2.30297856e-02, 7.75261000e-02, 8.69389549e-02,\n",
    "#        4.91457293e-03, 1.11557879e-01, 2.07631309e-02, 5.24509116e-04,\n",
    "#        1.37923062e-01, 7.61961788e-02, 2.44462043e-02, 8.79247859e-02,\n",
    "#        9.61737484e-02, 4.31770720e-02, 8.83008242e-02, 2.83914357e-01,\n",
    "#        1.71749257e-02, 3.65213342e-02, 2.23888680e-02, 3.40562552e-01,\n",
    "#        1.06017897e-02, 3.81645486e-02, 6.01236895e-02, 1.02085903e-01,\n",
    "#        1.17906649e-02, 2.06895486e-01, 2.72388011e-03, 8.46246332e-02,\n",
    "#        7.46589899e-02, 4.58317548e-02, 3.56537327e-02, 1.25209406e-01,\n",
    "#        1.54774934e-01, 2.75308847e-01, 1.31001443e-01, 6.99777842e-01,\n",
    "#        1.43785961e-02, 1.36616513e-01, 4.32645008e-02, 2.15182081e-01,\n",
    "#        3.15540694e-02, 4.59863199e-03, 2.06597641e-01, 4.03854158e-03,\n",
    "#        7.65701607e-02, 2.47949719e-01, 3.94720770e-02, 2.32982159e-01,\n",
    "#        1.16317242e-03, 1.36573501e-02, 8.14480484e-02, 2.38426942e-02,\n",
    "#        1.33550614e-01, 2.14099381e-02, 1.95935555e-02, 4.76960372e-03,\n",
    "#        1.47761434e-01, 2.18921993e-02, 2.85688251e-01, 3.23580235e-01,\n",
    "#        8.85527208e-03, 1.55192189e-04, 2.15344205e-01, 4.44305539e-02,\n",
    "#        3.49379212e-01, 1.15302093e-01, 4.93946299e-02, 5.19715715e-03,\n",
    "#        2.87639499e-01, 3.97089064e-01, 1.63428828e-01, 2.77824849e-01,\n",
    "#        2.42899582e-02, 1.47858366e-01, 1.66166633e-01, 6.33449433e-03,\n",
    "#        6.93642953e-03, 9.28448737e-02, 1.38012812e-01, 2.72322390e-02,\n",
    "#        2.46069394e-02, 1.34788919e-02, 5.56510422e-05, 9.74463522e-02,\n",
    "#        3.33480299e-01, 1.82796612e-01, 3.71249728e-02, 1.97137207e-01,\n",
    "#        1.67983651e-01, 3.03274602e-01, 1.02619946e-01, 6.12318255e-02,\n",
    "#        3.58389840e-02, 1.73757598e-02, 1.27164751e-01, 1.36960484e-02,\n",
    "#        1.84018549e-03, 8.80759093e-04, 8.09058361e-03, 1.18713854e-02,\n",
    "#        1.23252690e-01, 1.31772645e-02, 5.79632968e-02, 1.52950361e-02,\n",
    "#        1.74900904e-01, 3.21016321e-03, 1.07127354e-01, 1.90724637e-02,\n",
    "#        5.45050167e-02, 4.02678736e-02, 4.30560857e-01, 3.49710067e-03,\n",
    "#        5.75169772e-02, 2.75441003e-03, 3.95775974e-01, 1.56357631e-01,\n",
    "#        3.55776610e-05, 1.26100928e-01, 2.57842280e-02, 1.98637754e-01,\n",
    "#        1.34725779e-01, 1.13746792e-03, 2.78434772e-02, 4.87509882e-03,\n",
    "#        2.39084184e-01, 1.37894717e-03, 3.11237633e-01, 2.84468289e-03,\n",
    "#        5.55122504e-03, 6.54955432e-02, 4.33744006e-02, 1.84965238e-01,\n",
    "#        1.78745329e-01, 3.09973564e-02, 2.04909388e-02, 8.22097296e-04,\n",
    "#        5.51237667e-04, 4.49952185e-02, 1.35284802e-03, 1.04718097e-02,\n",
    "#        3.58339623e-02, 3.20661888e-02, 3.81498970e-03, 1.35871896e-03,\n",
    "#        1.03211425e-01, 4.03787866e-02, 1.00643642e-03, 3.54908630e-02,\n",
    "#        2.35575978e-02, 3.71206515e-02, 3.89041781e-01, 6.29152730e-02,\n",
    "#        1.31665885e-01, 9.42019094e-03, 2.38942225e-02, 8.95677209e-02,\n",
    "#        1.80882390e-03, 2.28724573e-04, 4.32941973e-01, 1.57322019e-01,\n",
    "#        4.17599594e-03, 1.51665911e-01, 1.60639957e-01, 3.75889763e-02,\n",
    "#        1.92682415e-01, 1.67632893e-01, 3.40637239e-03, 1.76776230e-01,\n",
    "#        1.16903223e-01, 8.52356970e-01, 1.86286211e-01, 3.38164461e-03,\n",
    "#        2.43347771e-02, 5.37718181e-04, 1.17385751e-02, 1.68602437e-01,\n",
    "#        1.06529100e-02, 1.50348738e-01, 7.35526159e-03, 2.48215329e-02,\n",
    "#        5.07833242e-01, 1.46665680e-03, 8.88498127e-02, 4.71479595e-01,\n",
    "#        1.56791543e-03, 5.87662235e-02, 2.29985155e-02, 1.82680100e-01,\n",
    "#        2.04004988e-01, 2.02523738e-01, 7.76014430e-03, 9.96624865e-03,\n",
    "#        2.22430125e-01, 3.12647879e-01, 8.22425559e-02, 8.72820709e-03,\n",
    "#        1.21812239e-01, 1.44254670e-01, 1.47197202e-01, 3.80715132e-02,\n",
    "#        5.43826371e-02, 1.64289270e-02, 2.02907417e-02, 1.14455767e-01,\n",
    "#        4.69076484e-02, 2.63206065e-02, 5.63826978e-01, 2.66517252e-02,\n",
    "#        1.24048833e-02, 9.63013172e-02, 5.30648604e-02, 9.94384065e-02,\n",
    "#        3.36427912e-02, 2.55249797e-05, 4.71572348e-05, 1.69147197e-02,\n",
    "#        2.43265167e-01, 1.10987119e-01, 2.77355983e-04, 7.59399449e-03,\n",
    "#        5.33344261e-02, 7.30097070e-02, 9.27113928e-03, 1.30555645e-01,\n",
    "#        3.44609581e-02, 1.16931424e-01, 2.73109615e-01, 6.43680394e-02,\n",
    "#        1.10167101e-01, 1.44624695e-01, 1.83676518e-02, 2.46778384e-01,\n",
    "#        1.07141823e-01, 6.55956715e-02, 1.53533248e-02, 1.33065060e-01,\n",
    "#        1.26161799e-01, 3.53475362e-01, 1.82224497e-01, 1.23181306e-02,\n",
    "#        2.84932107e-02, 3.15764137e-02, 4.31818096e-03, 1.58830620e-02,\n",
    "#        5.93128707e-03, 1.02113008e-01, 4.67527891e-03, 8.53045359e-02,\n",
    "#        5.73001318e-02, 7.37734213e-02, 2.17196196e-02, 3.29189658e-01,\n",
    "#        9.52804228e-04, 1.55535340e-01, 1.55692184e-02, 5.19933924e-02,\n",
    "#        2.38452584e-01, 2.28146501e-02, 2.27885753e-01, 3.45131569e-02,\n",
    "#        9.20600817e-03, 1.20522715e-01, 2.89723687e-02, 1.92769334e-01,\n",
    "#        3.02713841e-01, 1.16016291e-01, 2.39797849e-02, 6.41986504e-02,\n",
    "#        3.34780617e-03, 2.60174833e-02, 4.31476384e-01, 1.05675841e-02,\n",
    "#        8.58820204e-06, 4.43955399e-02, 2.01925069e-01, 5.44010103e-03,\n",
    "#        9.85106230e-02, 7.20624055e-04, 9.39855054e-02, 1.41107664e-02,\n",
    "#        4.59285639e-02, 1.11439481e-01, 4.48719226e-02, 4.21059966e-01,\n",
    "#        2.29286760e-01, 3.44116002e-01, 1.59251332e-01, 5.85183576e-02,\n",
    "#        1.49104502e-02, 1.21982358e-01, 2.46776268e-02, 2.43922487e-01,\n",
    "#        2.40694031e-01, 4.31693882e-01, 1.98463693e-01, 1.16509587e-01,\n",
    "#        2.48526521e-02, 8.59577432e-02, 2.66669947e-03, 1.88544229e-01,\n",
    "#        2.98709691e-01, 5.00060478e-03, 7.30550736e-02, 1.62714198e-01,\n",
    "#        1.74443230e-01, 5.20204566e-02, 1.03329875e-01, 1.22048743e-01,\n",
    "#        9.66182798e-02, 1.77412018e-01, 3.22219729e-01, 3.46752763e-01,\n",
    "#        1.34693772e-01, 7.24474862e-02, 1.02414556e-01, 1.24682814e-01,\n",
    "#        3.56107913e-02, 9.84345376e-03, 1.84124447e-02, 1.94468305e-01,\n",
    "#        2.14657187e-02, 4.00461704e-01, 1.04595877e-01, 6.84013367e-02,\n",
    "#        1.12178594e-01, 1.44158542e-01, 5.92931658e-02, 1.40711010e-01,\n",
    "#        1.69030502e-01, 2.11114287e-01, 3.97747070e-01, 1.21922649e-01,\n",
    "#        2.28651121e-01, 7.10992217e-02, 8.00500438e-02, 2.51480460e-01,\n",
    "#        2.26462036e-01, 5.95554560e-02, 1.84978947e-01, 1.48768902e-01,\n",
    "#        2.87372977e-01, 6.60978332e-02, 1.55515328e-01, 3.17770392e-02,\n",
    "#        1.78101152e-01, 7.31823295e-02, 1.83794364e-01, 2.13088989e-01,\n",
    "#        3.02245587e-01, 3.18931416e-02, 8.95210803e-02, 2.20069394e-01,\n",
    "#        1.68190181e-01, 4.04831827e-01, 5.07498048e-02, 1.85434818e-01,\n",
    "#        3.10600936e-01, 4.87708673e-02, 3.45963985e-01, 2.12546289e-01,\n",
    "#        6.90520704e-02, 5.78369163e-02, 3.81714195e-01, 1.30271912e-01,\n",
    "#        1.96218565e-01, 1.49756745e-01, 3.35472636e-02, 4.23215479e-01,\n",
    "#        1.12826571e-01, 1.89662471e-01, 1.80209026e-01, 1.36523262e-01,\n",
    "#        8.46341997e-02, 2.03054965e-01, 2.32443795e-01, 1.96966976e-01,\n",
    "#        1.77897424e-01, 2.59882927e-01, 1.89477563e-01, 2.08906338e-01,\n",
    "#        4.40264285e-01, 2.75998205e-01, 9.71355587e-02, 2.13923082e-01,\n",
    "#        3.00143063e-01, 1.80744737e-01, 1.69433579e-01, 1.47434413e-01,\n",
    "#        1.75771132e-01, 7.76272565e-02, 2.40591317e-01, 2.67893612e-01,\n",
    "#        9.84546915e-02, 1.16594501e-01, 5.65603524e-02, 1.68719545e-01,\n",
    "#        6.39974996e-02, 8.36893544e-02, 1.14089482e-01, 9.72598866e-02,\n",
    "#        2.02137098e-01, 2.29562774e-01, 3.79997134e-01, 2.16225833e-01,\n",
    "#        1.02777526e-01, 5.43353297e-02, 2.97718555e-01, 2.66903311e-01,\n",
    "#        1.21603511e-01, 1.51436344e-01, 1.98067039e-01, 1.17484152e-01,\n",
    "#        3.62139821e-01, 3.00418079e-01, 4.08901215e-01, 6.55619502e-02,\n",
    "#        1.09238420e-02, 1.06839560e-01, 3.31521600e-01, 2.90993601e-01,\n",
    "#        4.21168298e-01], dtype=float32)\n"
   ]
  },
  {
   "cell_type": "code",
   "execution_count": null,
   "metadata": {},
   "outputs": [],
   "source": []
  },
  {
   "cell_type": "code",
   "execution_count": null,
   "metadata": {},
   "outputs": [],
   "source": []
  }
 ],
 "metadata": {
  "kernelspec": {
   "display_name": "pyme",
   "language": "python",
   "name": "pyme"
  },
  "language_info": {
   "codemirror_mode": {
    "name": "ipython",
    "version": 3
   },
   "file_extension": ".py",
   "mimetype": "text/x-python",
   "name": "python",
   "nbconvert_exporter": "python",
   "pygments_lexer": "ipython3",
   "version": "3.7.6"
  }
 },
 "nbformat": 4,
 "nbformat_minor": 4
}
