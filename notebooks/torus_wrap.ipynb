{
 "cells": [
  {
   "cell_type": "code",
   "execution_count": 1,
   "metadata": {},
   "outputs": [
    {
     "name": "stderr",
     "output_type": "stream",
     "text": [
      "/Users/zachcm/opt/miniconda3/envs/pyme/lib/python3.7/_collections_abc.py:702: MatplotlibDeprecationWarning: The global colormaps dictionary is no longer considered public API.\n",
      "  return len(self._mapping)\n",
      "/Users/zachcm/opt/miniconda3/envs/pyme/lib/python3.7/_collections_abc.py:720: MatplotlibDeprecationWarning: The global colormaps dictionary is no longer considered public API.\n",
      "  yield from self._mapping\n",
      "/Users/zachcm/Code/python-microscopy/PYME/misc/extraCMaps.py:73: MatplotlibDeprecationWarning: \n",
      "The revcmap function was deprecated in Matplotlib 3.2 and will be removed two minor releases later. Use Colormap.reversed() instead.\n",
      "  cmapdat_r = cm.revcmap(ndat[cmapname])\n",
      "INFO:OpenGL.acceleratesupport:No OpenGL_accelerate module loaded: No module named 'OpenGL_accelerate'\n"
     ]
    },
    {
     "name": "stdout",
     "output_type": "stream",
     "text": [
      "Trying to load 3rd party recipe module ch_shrinkwrap.recipe_modules.surface_fitting\n",
      "Loaded 3rd party recipe module ch_shrinkwrap.recipe_modules.surface_fitting\n",
      "quaternion module not found, disabling custom clip plane orientations\n",
      "quaternion module not found, disabling custom clip plane orientations\n"
     ]
    }
   ],
   "source": [
    "%gui wx\n",
    "\n",
    "from PYME.LMVis import VisGUI"
   ]
  },
  {
   "cell_type": "code",
   "execution_count": 2,
   "metadata": {},
   "outputs": [],
   "source": [
    "# Delay so wx can boot up\n",
    "import time\n",
    "time.sleep(8)"
   ]
  },
  {
   "cell_type": "code",
   "execution_count": 3,
   "metadata": {},
   "outputs": [
    {
     "name": "stderr",
     "output_type": "stream",
     "text": [
      "DEBUG:PYME.LMVis.visCore:Creating VisGUI menu bar\n",
      "DEBUG:PYME.LMVis.Extras:Initializing QPobjectSegment plugin\n",
      "DEBUG:PYME.LMVis.Extras:Initializing animation plugin\n",
      "DEBUG:PYME.LMVis.Extras:Initializing clusterAnalysis plugin\n",
      "DEBUG:PYME.LMVis.Extras:Initializing dockedPanel plugin\n",
      "DEBUG:PYME.LMVis.Extras:Initializing extra_layers plugin\n",
      "DEBUG:PYME.LMVis.Extras:Initializing fiducial plugin\n",
      "DEBUG:PYME.LMVis.Extras:Initializing flagZMotionArtifacts plugin\n",
      "DEBUG:root:Adding menu items for event filters\n",
      "DEBUG:PYME.LMVis.Extras:Initializing fusionUtils plugin\n",
      "DEBUG:PYME.LMVis.Extras:Initializing multiColourAnalysis plugin\n",
      "DEBUG:PYME.LMVis.Extras:Initializing multiviewMapping plugin\n",
      "DEBUG:root:Adding menu items for multi-view manipulation\n",
      "DEBUG:PYME.LMVis.Extras:Initializing objectMeasurements plugin\n",
      "DEBUG:PYME.LMVis.Extras:Initializing particleTracking plugin\n",
      "DEBUG:PYME.LMVis.Extras:Initializing perFrameVariable plugin\n",
      "DEBUG:PYME.LMVis.Extras:Initializing photophysics plugin\n",
      "DEBUG:PYME.LMVis.Extras:Initializing pointSetGeneration plugin\n",
      "DEBUG:PYME.LMVis.Extras:Initializing pointwiseColoc plugin\n",
      "DEBUG:PYME.LMVis.Extras:Initializing saved_views plugin\n",
      "DEBUG:PYME.LMVis.Extras:Initializing scaleBox plugin\n",
      "DEBUG:PYME.LMVis.Extras:Initializing sequentialSpecies plugin\n",
      "DEBUG:PYME.LMVis.Extras:Initializing setBGImage plugin\n",
      "DEBUG:PYME.LMVis.Extras:Initializing shiftmapGenerator plugin\n",
      "DEBUG:PYME.LMVis.Extras:Initializing showShortcuts plugin\n",
      "DEBUG:PYME.LMVis.Extras:Initializing snapshot plugin\n",
      "DEBUG:PYME.LMVis.Extras:Initializing spherical_harmonics plugin\n",
      "DEBUG:root:Adding menu items for spherical harmonic (shell) fitting\n",
      "DEBUG:PYME.LMVis.Extras:Initializing subsets plugin\n",
      "DEBUG:PYME.LMVis.Extras:Initializing surface_fitting plugin\n",
      "DEBUG:PYME.LMVis.Extras:Initializing temperaturePlot plugin\n",
      "DEBUG:PYME.LMVis.Extras:Initializing vibration plugin\n"
     ]
    },
    {
     "name": "stdout",
     "output_type": "stream",
     "text": [
      "New Canvas\n",
      "Saved Views are deprecated -  use the ones with animation instead and remove me!\n",
      "Creating fold panel\n",
      "GenPanels\n",
      "Creating datasource panel\n"
     ]
    },
    {
     "name": "stderr",
     "output_type": "stream",
     "text": [
      "/Users/zachcm/Code/python-microscopy/PYME/LMVis/filterPane.py:111: wxPyDeprecationWarning: Call to deprecated item. Use InsertItem instead.\n",
      "  ind = self.lFiltKeys.InsertStringItem(ind+1, key)\n",
      "/Users/zachcm/Code/python-microscopy/PYME/LMVis/filterPane.py:112: wxPyDeprecationWarning: Call to deprecated item. Use SetItem instead.\n",
      "  self.lFiltKeys.SetStringItem(ind, 1, '%3.2f' % value[0])\n",
      "/Users/zachcm/Code/python-microscopy/PYME/LMVis/filterPane.py:113: wxPyDeprecationWarning: Call to deprecated item. Use SetItem instead.\n",
      "  self.lFiltKeys.SetStringItem(ind, 2, '%3.2f' % value[1])\n",
      "/Users/zachcm/Code/python-microscopy/PYME/LMVis/filterPane.py:111: wxPyDeprecationWarning: Call to deprecated item. Use InsertItem instead.\n",
      "  ind = self.lFiltKeys.InsertStringItem(ind+1, key)\n",
      "/Users/zachcm/Code/python-microscopy/PYME/LMVis/filterPane.py:112: wxPyDeprecationWarning: Call to deprecated item. Use SetItem instead.\n",
      "  self.lFiltKeys.SetStringItem(ind, 1, '%3.2f' % value[0])\n",
      "/Users/zachcm/Code/python-microscopy/PYME/LMVis/filterPane.py:113: wxPyDeprecationWarning: Call to deprecated item. Use SetItem instead.\n",
      "  self.lFiltKeys.SetStringItem(ind, 2, '%3.2f' % value[1])\n",
      "DEBUG:PYME.LMVis.shader_programs.ShaderProgramFactory:New shader program created: <class 'PYME.LMVis.shader_programs.DefaultShaderProgram.DefaultShaderProgram'>\n"
     ]
    },
    {
     "name": "stdout",
     "output_type": "stream",
     "text": [
      "RecipeView._layout\n",
      "Input datasources:  []\n",
      "Image list size: 1\n",
      "Creating layers GUI\n",
      "height:  0\n",
      "NB best size: wx.Size(200, 0)\n",
      "RecipeView._layout\n",
      "Input datasources:  []\n",
      "RecipeView._layout\n",
      "Input datasources:  []\n",
      "0\n",
      "OpenGL - Version: b'2.1 INTEL-14.7.8'\n",
      "Shader - Version: b'1.20'\n",
      "GL_MAX_SAMPLES: 8, GL_SAMPLES: 4\n"
     ]
    },
    {
     "name": "stderr",
     "output_type": "stream",
     "text": [
      "/Users/zachcm/Code/python-microscopy/PYME/ui/manualFoldPanel.py:37: wxPyDeprecationWarning: Using deprecated class. Use Colour instead.\n",
      "  col = wx.NamedColour(col)\n"
     ]
    }
   ],
   "source": [
    "pymevis = VisGUI.ipython_pymevisualize()\n",
    "pipeline = pymevis.pipeline\n",
    "recipe = pipeline.recipe"
   ]
  },
  {
   "cell_type": "code",
   "execution_count": 4,
   "metadata": {},
   "outputs": [
    {
     "name": "stderr",
     "output_type": "stream",
     "text": [
      "/Users/zachcm/Code/python-microscopy/PYME/IO/tabular.py:48: VisibleDeprecationWarning: mappingFilter is deprecated, use MappingFilter instead\n",
      "  warnings.warn(VisibleDeprecationWarning('%s is deprecated, use %s instead' % (name, cls.__name__)))\n",
      "/Users/zachcm/Code/python-microscopy/PYME/IO/tabular.py:928: VisibleDeprecationWarning: Mapping filter created with something that is not a tabular object. This will be unsupported in a future release. Consider DictSource or ColumnSource instead\n",
      "  warnings.warn(VisibleDeprecationWarning('Mapping filter created with something that is not a tabular object. This will be unsupported in a future release. Consider DictSource or ColumnSource instead'))\n",
      "DEBUG:PYME.LMVis.shader_programs.ShaderProgramFactory:New shader program created: <class 'PYME.LMVis.shader_programs.DefaultShaderProgram.OpaquePointShaderProgram'>\n"
     ]
    },
    {
     "name": "stdout",
     "output_type": "stream",
     "text": [
      "lw update\n",
      "lw update\n",
      "Creating layers GUI\n"
     ]
    },
    {
     "name": "stderr",
     "output_type": "stream",
     "text": [
      "/Users/zachcm/Code/python-microscopy/PYME/LMVis/layers/base.py:65: FutureWarning: `rcond` parameter will change to the default of machine precision times ``max(M, N)`` where M and N are the input matrix dimensions.\n",
      "To use the future default and silence this warning we advise to pass `rcond=None`, to keep using the old, explicitly pass `rcond=-1`.\n",
      "  self.shader_program.v_matrix[3,:3] = -np.linalg.lstsq(gl_canvas.object_rotation_matrix[:3,:3], gl_canvas.view.translation)[0]\n",
      "DEBUG:PYME.LMVis.visCore:Added layer, datasouce=points\n"
     ]
    },
    {
     "name": "stdout",
     "output_type": "stream",
     "text": [
      "hl update\n",
      "height:  308\n",
      "NB best size: wx.Size(243, 308)\n"
     ]
    },
    {
     "data": {
      "text/plain": [
       "<PYME.LMVis.layers.pointcloud.PointCloudRenderLayer at 0x7fb925c29890>"
      ]
     },
     "execution_count": 4,
     "metadata": {},
     "output_type": "execute_result"
    }
   ],
   "source": [
    "from ch_shrinkwrap import shape\n",
    "from PYME.IO import tabular\n",
    "import numpy as np\n",
    "\n",
    "# Create a torus\n",
    "R = 50\n",
    "r = 30\n",
    "t = shape.Torus(R, r)\n",
    "pts_t = t.points(1)\n",
    "# pts_t = np.load('hemo_pts.npy')\n",
    "\n",
    "# Create a bounding box\n",
    "# import numpy as np\n",
    "# pts_t = np.vstack([pts_t, np.array([-2*R,-2*R,-2*R]), np.array([2*R,2*R,2*R])])\n",
    "\n",
    "pipeline.addDataSource('points', tabular.mappingFilter({'x' : pts_t[:,0], 'y':pts_t[:,1], 'z':pts_t[:,2]}))\n",
    "pipeline.selectDataSource('points')\n",
    "pymevis.add_pointcloud_layer(ds_name='points')"
   ]
  },
  {
   "cell_type": "code",
   "execution_count": 5,
   "metadata": {
    "scrolled": false
   },
   "outputs": [
    {
     "name": "stdout",
     "output_type": "stream",
     "text": [
      "Resizing node store - new size: 1500\n",
      "Resizing node store - new size: 2250\n",
      "Resizing node store - new size: 3375\n",
      "Resizing node store - new size: 5063\n",
      "Resizing node store - new size: 7595\n",
      "Resizing node store - new size: 11393\n",
      "Octree  (octree0) created\n",
      "RecipeView._layout\n",
      "Input datasources:  ['points', 'octree0']\n"
     ]
    },
    {
     "name": "stderr",
     "output_type": "stream",
     "text": [
      "/Users/zachcm/Code/python-microscopy/PYME/ui/layerFoldPanel.py:47: wxPyDeprecationWarning: Call to deprecated item BitmapFromBuffer. Use :meth:`wx.Bitmap.FromBuffer` or :meth:`wx.Bitmap.FromBufferAndAlpha` instead.\n",
      "  return wx.BitmapFromBuffer(30, 10, img)\n",
      "/Users/zachcm/Code/python-microscopy/PYME/ui/histLimits.py:289: wxPyDeprecationWarning: Call to deprecated item EmptyBitmap. Use :class:`wx.Bitmap` instead\n",
      "  MemBitmap = wx.EmptyBitmap(s.GetWidth(), s.GetHeight())\n"
     ]
    },
    {
     "name": "stdout",
     "output_type": "stream",
     "text": [
      "Dual grid created in 0.387 s\n",
      "March in 0.078 s\n",
      "Generating TriangularMesh object\n",
      "Data munged to vertices, faces\n",
      "initializing halfedges ...\n",
      "vertices.shape = (1702, 3), faces.shape = (3416, 3)\n",
      "iterating edges\n",
      "done initializing halfedges\n",
      "Generated TriangularMesh object\n",
      "lw update\n",
      "hl update\n",
      "RecipeView._layout\n"
     ]
    },
    {
     "name": "stderr",
     "output_type": "stream",
     "text": [
      "/Users/zachcm/Code/python-microscopy/PYME/experimental/dual_marching_cubes.py:690: RuntimeWarning: divide by zero encountered in true_divide\n",
      "  mu1 = 1. * (self.isolevel - v0_value) / (m_value - v0_value)\n",
      "/Users/zachcm/Code/python-microscopy/PYME/experimental/dual_marching_cubes.py:691: RuntimeWarning: invalid value encountered in multiply\n",
      "  p = v0 + mu1[:, None] * (vm - v0)\n",
      "/Users/zachcm/Code/python-microscopy/PYME/experimental/dual_marching_cubes.py:693: RuntimeWarning: divide by zero encountered in true_divide\n",
      "  mu2 = 1. * (self.isolevel - m_value) / (v1_value - m_value)\n",
      "/Users/zachcm/Code/python-microscopy/PYME/experimental/dual_marching_cubes.py:694: RuntimeWarning: invalid value encountered in multiply\n",
      "  p[mu2 > 0, :] = (vm + mu2[:, None] * (v1 - vm))[mu2 > 0, :]\n"
     ]
    },
    {
     "ename": "SystemError",
     "evalue": "<class 'wx._core.WindowDestroyEvent'> returned a result with an error set",
     "output_type": "error",
     "traceback": [
      "\u001b[0;31m---------------------------------------------------------------------------\u001b[0m",
      "\u001b[0;31mwxAssertionError\u001b[0m                          Traceback (most recent call last)",
      "\u001b[0;31mwxAssertionError\u001b[0m: C++ assertion \"GetEventHandler() == this\" failed at /opt/concourse/worker/volumes/live/3ef8f33f-8e5b-442f-6716-948fc4646a36/volume/wxpython_1547931203930/work/ext/wxWidgets/src/common/wincmn.cpp(478) in ~wxWindowBase(): any pushed event handlers must have been removed",
      "\nThe above exception was the direct cause of the following exception:\n",
      "\u001b[0;31mSystemError\u001b[0m                               Traceback (most recent call last)",
      "\u001b[0;31mSystemError\u001b[0m: <class 'wx._core.WindowDestroyEvent'> returned a result with an error set"
     ]
    },
    {
     "name": "stderr",
     "output_type": "stream",
     "text": [
      "DEBUG:PYME.LMVis.shader_programs.ShaderProgramFactory:New shader program created: <class 'PYME.LMVis.shader_programs.GouraudShaderProgram.GouraudShaderProgram'>\n"
     ]
    },
    {
     "name": "stdout",
     "output_type": "stream",
     "text": [
      "Input datasources:  ['points', 'octree0']\n",
      "lw update\n",
      "Disposing of HistLimitsEditor\n",
      "Creating layers GUI\n",
      "hl update\n",
      "hl update\n",
      "height:  335\n",
      "NB best size: wx.Size(200, 335)\n"
     ]
    }
   ],
   "source": [
    "# Surface generation parameters\n",
    "threshold_density = 0.005\n",
    "# threshold_density = 0.0001\n",
    "n_points_min = 50\n",
    "# n_points_min = 100\n",
    "repair = False\n",
    "remesh = False\n",
    "\n",
    "# Run surface generation recipe on the point cloud\n",
    "from PYME.LMVis.Extras import extra_layers\n",
    "from PYME.LMVis.layers.mesh import TriangleRenderLayer\n",
    "from PYME.recipes.surface_fitting import DualMarchingCubes\n",
    "from ch_shrinkwrap import membrane_mesh\n",
    "\n",
    "oc_name = extra_layers.gen_octree_from_points(pymevis)\n",
    "surf_name, surf_count = pipeline.new_ds_name('surf', return_count=True)\n",
    "dmc = DualMarchingCubes(recipe, invalidate_parent=False, input=oc_name, output=surf_name, threshold_density=threshold_density, n_points_min=n_points_min, repair=repair, remesh=remesh)\n",
    "recipe.add_module(dmc)\n",
    "recipe.execute()\n",
    "layer = TriangleRenderLayer(pipeline, dsname=surf_name, method='shaded', cmap = ['C', 'M', 'Y', 'R', 'G', 'B'][surf_count % 6])\n",
    "pymevis.add_layer(layer)\n",
    "dmc._invalidate_parent = True\n",
    "# mesh = membrane_mesh.MembraneMesh.from_stl('hemo.stl')\n",
    "# pipeline.dataSources[surf_name] = mesh"
   ]
  },
  {
   "cell_type": "code",
   "execution_count": 6,
   "metadata": {},
   "outputs": [],
   "source": [
    "# Shrinkwrapping parameters\n",
    "max_iters = 1\n",
    "step_size = 0.1\n",
    "attraction_weight = 1  # eV/nm\n",
    "curvature_weight = 1\n",
    "largest_component_only = True\n",
    "method = 'euler'\n",
    "remesh_every = 500  # iterations"
   ]
  },
  {
   "cell_type": "code",
   "execution_count": 7,
   "metadata": {
    "scrolled": false
   },
   "outputs": [
    {
     "name": "stdout",
     "output_type": "stream",
     "text": [
      "Iteration 0 <<<\n",
      "Iteration 0 ...\n",
      "Iteration 1 ...\n",
      "Iteration 2 ...\n",
      "Iteration 3 ...\n",
      "Iteration 4 ...\n",
      "Iteration 5 ...\n",
      "Iteration 6 ...\n",
      "Iteration 7 ...\n",
      "Iteration 8 ...\n",
      "Iteration 9 ...\n",
      "Time elapsed = 11.072782039642334 s\n"
     ]
    }
   ],
   "source": [
    "from ch_shrinkwrap import _membrane_mesh as membrane_mesh\n",
    "from PYME.util import mProfile\n",
    "import time\n",
    "\n",
    "# mProfile.profileOn(['_membrane_mesh.pyx'])\n",
    "\n",
    "# Run surface meshing on the point cloud\n",
    "membrane_name = pipeline.new_ds_name('membrane')\n",
    "\n",
    "points_name = 'points'\n",
    "\n",
    "mesh = membrane_mesh.MembraneMesh(mesh=recipe.namespace[surf_name])\n",
    "mesh.a = attraction_weight\n",
    "mesh.c = curvature_weight\n",
    "mesh.max_iter = 10\n",
    "mesh.step_size = step_size\n",
    "# mesh.keep_largest_connected_component()\n",
    "# mesh.kg = 0\n",
    "\n",
    "pts = np.ascontiguousarray(np.vstack([recipe.namespace[points_name]['x'], \n",
    "                                      recipe.namespace[points_name]['y'],\n",
    "                                      recipe.namespace[points_name]['z']]).T)\n",
    "\n",
    "try:\n",
    "    sigma = recipe.namespace[points_name]['sigma']\n",
    "except(KeyError):\n",
    "    sigma = np.ones_like(recipe.namespace[points_name]['x'])\n",
    "    \n",
    "residuals = []\n",
    "res_prev = 1e10\n",
    "mesh_prev = membrane_mesh.MembraneMesh(mesh=mesh)\n",
    "start = time.time()\n",
    "for _i in range(max_iters):\n",
    "    print('Iteration {} <<<'.format(_i))\n",
    "    mesh.shrink_wrap(pts, sigma, method=method)\n",
    "    if ((_i+1) % remesh_every) == 0:\n",
    "        mesh.remesh()\n",
    "#     comparison_points = mesh._vertices['position'][mesh._vertices['halfedge']!=-1]\n",
    "#     new_res = s.surface_res(comparison_points)\n",
    "#     residuals.append(new_res)\n",
    "stop = time.time()\n",
    "print('Time elapsed = {} s'.format(stop-start))\n",
    "# mProfile.profileOff()\n",
    "# mProfile.report()"
   ]
  },
  {
   "cell_type": "code",
   "execution_count": 8,
   "metadata": {},
   "outputs": [
    {
     "name": "stdout",
     "output_type": "stream",
     "text": [
      "lw update\n",
      "Disposing of HistLimitsEditor\n",
      "Disposing of HistLimitsEditor\n",
      "Creating layers GUI\n",
      "hl update\n",
      "hl update\n",
      "hl update\n",
      "height:  360\n",
      "NB best size: wx.Size(200, 360)\n"
     ]
    }
   ],
   "source": [
    "recipe.namespace[membrane_name] = mesh\n",
    "surf_count = 0\n",
    "layer = TriangleRenderLayer(pipeline, dsname=membrane_name, method='shaded', cmap = ['C', 'M', 'Y', 'R', 'G', 'B'][surf_count % 6])\n",
    "pymevis.add_layer(layer)\n",
    "\n",
    "# visgui.RefreshView()"
   ]
  },
  {
   "cell_type": "code",
   "execution_count": 9,
   "metadata": {},
   "outputs": [],
   "source": [
    "# pipeline.dataSources['surf0'].manifold"
   ]
  },
  {
   "cell_type": "code",
   "execution_count": 10,
   "metadata": {},
   "outputs": [],
   "source": [
    "# np.histogram((mesh.vertices**2).sum(1))\n",
    "# mesh.vertices[(mesh.vertices**2).sum(1)>5e6]"
   ]
  },
  {
   "cell_type": "code",
   "execution_count": 11,
   "metadata": {},
   "outputs": [],
   "source": [
    "# %timeit np.zeros(1000,dtype=float)"
   ]
  },
  {
   "cell_type": "code",
   "execution_count": 12,
   "metadata": {},
   "outputs": [],
   "source": [
    "# a = np.zeros(1000,dtype=float)"
   ]
  },
  {
   "cell_type": "code",
   "execution_count": 13,
   "metadata": {},
   "outputs": [
    {
     "name": "stderr",
     "output_type": "stream",
     "text": [
      "ERROR:traitsui.wx.toolkit:Wx control <traitsui.wx.helper.TraitsUIPanel object at 0x7fb9267d1550> not destroyed cleanly\n",
      "Traceback (most recent call last):\n",
      "  File \"/Users/zachcm/opt/miniconda3/envs/pyme/lib/python3.7/site-packages/traitsui/wx/toolkit.py\", line 436, in _destroy_control\n",
      "    control.Destroy()\n",
      "  File \"/Users/zachcm/opt/miniconda3/envs/pyme/lib/python3.7/site-packages/traitsui/wx/helper.py\", line 326, in Destroy\n",
      "    self.Unbind(wx.EVT_CHILD_FOCUS)\n",
      "  File \"/Users/zachcm/opt/miniconda3/envs/pyme/lib/python3.7/site-packages/wx/core.py\", line 1416, in _EvtHandler_Unbind\n",
      "    return event.Unbind(self, id, id2, handler)\n",
      "  File \"/Users/zachcm/opt/miniconda3/envs/pyme/lib/python3.7/site-packages/wx/core.py\", line 1485, in Unbind\n",
      "    success += int(target.Disconnect(id1, id2, et, handler))\n",
      "RuntimeError: wrapped C/C++ object of type TraitsUIPanel has been deleted\n",
      "ERROR:traitsui.wx.toolkit:Wx control <traitsui.wx.helper.TraitsUIPanel object at 0x7fb92726eb90> not destroyed cleanly\n",
      "Traceback (most recent call last):\n",
      "  File \"/Users/zachcm/opt/miniconda3/envs/pyme/lib/python3.7/site-packages/traitsui/wx/toolkit.py\", line 436, in _destroy_control\n",
      "    control.Destroy()\n",
      "  File \"/Users/zachcm/opt/miniconda3/envs/pyme/lib/python3.7/site-packages/traitsui/wx/helper.py\", line 326, in Destroy\n",
      "    self.Unbind(wx.EVT_CHILD_FOCUS)\n",
      "  File \"/Users/zachcm/opt/miniconda3/envs/pyme/lib/python3.7/site-packages/wx/core.py\", line 1416, in _EvtHandler_Unbind\n",
      "    return event.Unbind(self, id, id2, handler)\n",
      "  File \"/Users/zachcm/opt/miniconda3/envs/pyme/lib/python3.7/site-packages/wx/core.py\", line 1485, in Unbind\n",
      "    success += int(target.Disconnect(id1, id2, et, handler))\n",
      "RuntimeError: wrapped C/C++ object of type TraitsUIPanel has been deleted\n",
      "ERROR:traitsui.wx.toolkit:Wx control <traitsui.wx.helper.TraitsUIPanel object at 0x7fb921353690> not destroyed cleanly\n",
      "Traceback (most recent call last):\n",
      "  File \"/Users/zachcm/opt/miniconda3/envs/pyme/lib/python3.7/site-packages/traitsui/wx/toolkit.py\", line 436, in _destroy_control\n",
      "    control.Destroy()\n",
      "  File \"/Users/zachcm/opt/miniconda3/envs/pyme/lib/python3.7/site-packages/traitsui/wx/helper.py\", line 326, in Destroy\n",
      "    self.Unbind(wx.EVT_CHILD_FOCUS)\n",
      "  File \"/Users/zachcm/opt/miniconda3/envs/pyme/lib/python3.7/site-packages/wx/core.py\", line 1416, in _EvtHandler_Unbind\n",
      "    return event.Unbind(self, id, id2, handler)\n",
      "  File \"/Users/zachcm/opt/miniconda3/envs/pyme/lib/python3.7/site-packages/wx/core.py\", line 1485, in Unbind\n",
      "    success += int(target.Disconnect(id1, id2, et, handler))\n",
      "RuntimeError: wrapped C/C++ object of type TraitsUIPanel has been deleted\n"
     ]
    },
    {
     "name": "stdout",
     "output_type": "stream",
     "text": [
      "Ev Idle\n",
      "('points', 't')\n",
      "refreshed\n"
     ]
    }
   ],
   "source": [
    "# %timeit a[:] = 0"
   ]
  },
  {
   "cell_type": "code",
   "execution_count": null,
   "metadata": {},
   "outputs": [],
   "source": []
  }
 ],
 "metadata": {
  "kernelspec": {
   "display_name": "pyme",
   "language": "python",
   "name": "pyme"
  },
  "language_info": {
   "codemirror_mode": {
    "name": "ipython",
    "version": 3
   },
   "file_extension": ".py",
   "mimetype": "text/x-python",
   "name": "python",
   "nbconvert_exporter": "python",
   "pygments_lexer": "ipython3",
   "version": "3.7.6"
  }
 },
 "nbformat": 4,
 "nbformat_minor": 4
}
