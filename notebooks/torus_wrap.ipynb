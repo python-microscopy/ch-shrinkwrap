{
 "cells": [
  {
   "cell_type": "code",
   "execution_count": 1,
   "metadata": {},
   "outputs": [
    {
     "name": "stderr",
     "output_type": "stream",
     "text": [
      "/Users/zachcm/opt/miniconda3/envs/pyme/lib/python3.7/_collections_abc.py:702: MatplotlibDeprecationWarning: The global colormaps dictionary is no longer considered public API.\n",
      "  return len(self._mapping)\n",
      "/Users/zachcm/opt/miniconda3/envs/pyme/lib/python3.7/_collections_abc.py:720: MatplotlibDeprecationWarning: The global colormaps dictionary is no longer considered public API.\n",
      "  yield from self._mapping\n",
      "/Users/zachcm/Code/python-microscopy/PYME/misc/extraCMaps.py:73: MatplotlibDeprecationWarning: \n",
      "The revcmap function was deprecated in Matplotlib 3.2 and will be removed two minor releases later. Use Colormap.reversed() instead.\n",
      "  cmapdat_r = cm.revcmap(ndat[cmapname])\n",
      "INFO:OpenGL.acceleratesupport:No OpenGL_accelerate module loaded: No module named 'OpenGL_accelerate'\n"
     ]
    },
    {
     "name": "stdout",
     "output_type": "stream",
     "text": [
      "Trying to load 3rd party recipe module ch_shrinkwrap.recipe_modules.surface_fitting\n",
      "Loaded 3rd party recipe module ch_shrinkwrap.recipe_modules.surface_fitting\n",
      "Trying to load 3rd party recipe module nep_fitting.recipe_modules.nep_fits\n",
      "Loaded 3rd party recipe module nep_fitting.recipe_modules.nep_fits\n",
      "quaternion module not found, disabling custom clip plane orientations\n",
      "quaternion module not found, disabling custom clip plane orientations\n"
     ]
    }
   ],
   "source": [
    "%gui wx\n",
    "\n",
    "from PYME.LMVis import VisGUI"
   ]
  },
  {
   "cell_type": "code",
   "execution_count": 2,
   "metadata": {},
   "outputs": [],
   "source": [
    "# Delay so wx can boot up\n",
    "import time\n",
    "time.sleep(8)"
   ]
  },
  {
   "cell_type": "code",
   "execution_count": 3,
   "metadata": {},
   "outputs": [
    {
     "name": "stderr",
     "output_type": "stream",
     "text": [
      "DEBUG:PYME.LMVis.visCore:Creating VisGUI menu bar\n",
      "DEBUG:PYME.LMVis.Extras:Initializing QPobjectSegment plugin\n",
      "DEBUG:PYME.LMVis.Extras:Initializing animation plugin\n",
      "DEBUG:PYME.LMVis.Extras:Initializing clusterAnalysis plugin\n",
      "DEBUG:PYME.LMVis.Extras:Initializing dockedPanel plugin\n",
      "DEBUG:PYME.LMVis.Extras:Initializing extra_layers plugin\n",
      "DEBUG:PYME.LMVis.Extras:Initializing fiducial plugin\n",
      "DEBUG:PYME.LMVis.Extras:Initializing flagZMotionArtifacts plugin\n",
      "DEBUG:root:Adding menu items for event filters\n",
      "DEBUG:PYME.LMVis.Extras:Initializing fusionUtils plugin\n",
      "DEBUG:PYME.LMVis.Extras:Initializing multiColourAnalysis plugin\n",
      "DEBUG:PYME.LMVis.Extras:Initializing multiviewMapping plugin\n",
      "DEBUG:root:Adding menu items for multi-view manipulation\n",
      "DEBUG:PYME.LMVis.Extras:Initializing objectMeasurements plugin\n",
      "DEBUG:PYME.LMVis.Extras:Initializing particleTracking plugin\n",
      "DEBUG:PYME.LMVis.Extras:Initializing perFrameVariable plugin\n",
      "DEBUG:PYME.LMVis.Extras:Initializing photophysics plugin\n",
      "DEBUG:PYME.LMVis.Extras:Initializing pointSetGeneration plugin\n",
      "DEBUG:PYME.LMVis.Extras:Initializing pointwiseColoc plugin\n",
      "DEBUG:PYME.LMVis.Extras:Initializing saved_views plugin\n",
      "DEBUG:PYME.LMVis.Extras:Initializing scaleBox plugin\n",
      "DEBUG:PYME.LMVis.Extras:Initializing sequentialSpecies plugin\n",
      "DEBUG:PYME.LMVis.Extras:Initializing setBGImage plugin\n",
      "DEBUG:PYME.LMVis.Extras:Initializing shiftmapGenerator plugin\n",
      "DEBUG:PYME.LMVis.Extras:Initializing showShortcuts plugin\n",
      "DEBUG:PYME.LMVis.Extras:Initializing snapshot plugin\n",
      "DEBUG:PYME.LMVis.Extras:Initializing spherical_harmonics plugin\n",
      "DEBUG:root:Adding menu items for spherical harmonic (shell) fitting\n",
      "DEBUG:PYME.LMVis.Extras:Initializing subsets plugin\n",
      "DEBUG:PYME.LMVis.Extras:Initializing surface_fitting plugin\n",
      "DEBUG:PYME.LMVis.Extras:Initializing temperaturePlot plugin\n",
      "DEBUG:PYME.LMVis.Extras:Initializing vibration plugin\n"
     ]
    },
    {
     "name": "stdout",
     "output_type": "stream",
     "text": [
      "New Canvas\n",
      "Saved Views are deprecated -  use the ones with animation instead and remove me!\n",
      "Creating fold panel\n",
      "GenPanels\n",
      "Creating datasource panel\n"
     ]
    },
    {
     "name": "stderr",
     "output_type": "stream",
     "text": [
      "/Users/zachcm/Code/python-microscopy/PYME/LMVis/filterPane.py:111: wxPyDeprecationWarning: Call to deprecated item. Use InsertItem instead.\n",
      "  ind = self.lFiltKeys.InsertStringItem(ind+1, key)\n",
      "/Users/zachcm/Code/python-microscopy/PYME/LMVis/filterPane.py:112: wxPyDeprecationWarning: Call to deprecated item. Use SetItem instead.\n",
      "  self.lFiltKeys.SetStringItem(ind, 1, '%3.2f' % value[0])\n",
      "/Users/zachcm/Code/python-microscopy/PYME/LMVis/filterPane.py:113: wxPyDeprecationWarning: Call to deprecated item. Use SetItem instead.\n",
      "  self.lFiltKeys.SetStringItem(ind, 2, '%3.2f' % value[1])\n"
     ]
    },
    {
     "name": "stdout",
     "output_type": "stream",
     "text": [
      "RecipeView._layout\n",
      "Input datasources:  []\n",
      "Image list size: 1\n",
      "Creating layers GUI\n",
      "height:  0\n",
      "NB best size: wx.Size(200, 0)\n",
      "RecipeView._layout\n",
      "Input datasources:  []\n",
      "RecipeView._layout\n",
      "Input datasources:  []\n",
      "0\n"
     ]
    },
    {
     "name": "stderr",
     "output_type": "stream",
     "text": [
      "/Users/zachcm/Code/python-microscopy/PYME/LMVis/filterPane.py:111: wxPyDeprecationWarning: Call to deprecated item. Use InsertItem instead.\n",
      "  ind = self.lFiltKeys.InsertStringItem(ind+1, key)\n",
      "/Users/zachcm/Code/python-microscopy/PYME/LMVis/filterPane.py:112: wxPyDeprecationWarning: Call to deprecated item. Use SetItem instead.\n",
      "  self.lFiltKeys.SetStringItem(ind, 1, '%3.2f' % value[0])\n",
      "/Users/zachcm/Code/python-microscopy/PYME/LMVis/filterPane.py:113: wxPyDeprecationWarning: Call to deprecated item. Use SetItem instead.\n",
      "  self.lFiltKeys.SetStringItem(ind, 2, '%3.2f' % value[1])\n",
      "DEBUG:PYME.LMVis.shader_programs.ShaderProgramFactory:New shader program created: <class 'PYME.LMVis.shader_programs.DefaultShaderProgram.DefaultShaderProgram'>\n"
     ]
    },
    {
     "name": "stdout",
     "output_type": "stream",
     "text": [
      "OpenGL - Version: b'2.1 INTEL-14.7.8'\n",
      "Shader - Version: b'1.20'\n",
      "GL_MAX_SAMPLES: 8, GL_SAMPLES: 4\n"
     ]
    },
    {
     "name": "stderr",
     "output_type": "stream",
     "text": [
      "/Users/zachcm/Code/python-microscopy/PYME/ui/manualFoldPanel.py:37: wxPyDeprecationWarning: Using deprecated class. Use Colour instead.\n",
      "  col = wx.NamedColour(col)\n"
     ]
    }
   ],
   "source": [
    "pymevis = VisGUI.ipython_pymevisualize()\n",
    "pipeline = pymevis.pipeline\n",
    "recipe = pipeline.recipe"
   ]
  },
  {
   "cell_type": "code",
   "execution_count": 4,
   "metadata": {},
   "outputs": [
    {
     "name": "stderr",
     "output_type": "stream",
     "text": [
      "/Users/zachcm/Code/python-microscopy/PYME/IO/tabular.py:48: VisibleDeprecationWarning: mappingFilter is deprecated, use MappingFilter instead\n",
      "  warnings.warn(VisibleDeprecationWarning('%s is deprecated, use %s instead' % (name, cls.__name__)))\n",
      "/Users/zachcm/Code/python-microscopy/PYME/IO/tabular.py:928: VisibleDeprecationWarning: Mapping filter created with something that is not a tabular object. This will be unsupported in a future release. Consider DictSource or ColumnSource instead\n",
      "  warnings.warn(VisibleDeprecationWarning('Mapping filter created with something that is not a tabular object. This will be unsupported in a future release. Consider DictSource or ColumnSource instead'))\n",
      "DEBUG:PYME.LMVis.shader_programs.ShaderProgramFactory:New shader program created: <class 'PYME.LMVis.shader_programs.DefaultShaderProgram.OpaquePointShaderProgram'>\n"
     ]
    },
    {
     "name": "stdout",
     "output_type": "stream",
     "text": [
      "lw update\n",
      "lw update\n",
      "Creating layers GUI\n"
     ]
    },
    {
     "name": "stderr",
     "output_type": "stream",
     "text": [
      "/Users/zachcm/Code/python-microscopy/PYME/LMVis/layers/base.py:65: FutureWarning: `rcond` parameter will change to the default of machine precision times ``max(M, N)`` where M and N are the input matrix dimensions.\n",
      "To use the future default and silence this warning we advise to pass `rcond=None`, to keep using the old, explicitly pass `rcond=-1`.\n",
      "  self.shader_program.v_matrix[3,:3] = -np.linalg.lstsq(gl_canvas.object_rotation_matrix[:3,:3], gl_canvas.view.translation)[0]\n",
      "DEBUG:PYME.LMVis.visCore:Added layer, datasouce=points\n"
     ]
    },
    {
     "name": "stdout",
     "output_type": "stream",
     "text": [
      "hl update\n",
      "height:  308\n",
      "NB best size: wx.Size(243, 308)\n"
     ]
    },
    {
     "data": {
      "text/plain": [
       "<PYME.LMVis.layers.pointcloud.PointCloudRenderLayer at 0x7fa1f3d588f0>"
      ]
     },
     "execution_count": 4,
     "metadata": {},
     "output_type": "execute_result"
    }
   ],
   "source": [
    "from ch_shrinkwrap import shape\n",
    "from PYME.IO import tabular\n",
    "import numpy as np\n",
    "\n",
    "# Create a torus\n",
    "R = 50\n",
    "r = 30\n",
    "# t = shape.Torus(R, r)\n",
    "# pts_t = t.points(1)\n",
    "pts_t = np.load('hemo_pts.npy')\n",
    "\n",
    "# Create a bounding box\n",
    "# import numpy as np\n",
    "# pts_t = np.vstack([pts_t, np.array([-2*R,-2*R,-2*R]), np.array([2*R,2*R,2*R])])\n",
    "\n",
    "pipeline.addDataSource('points', tabular.mappingFilter({'x' : pts_t[:,0], 'y':pts_t[:,1], 'z':pts_t[:,2]}))\n",
    "pipeline.selectDataSource('points')\n",
    "pymevis.add_pointcloud_layer(ds_name='points')"
   ]
  },
  {
   "cell_type": "code",
   "execution_count": 5,
   "metadata": {
    "scrolled": false
   },
   "outputs": [
    {
     "name": "stderr",
     "output_type": "stream",
     "text": [
      "DEBUG:PYME.LMVis.shader_programs.ShaderProgramFactory:New shader program created: <class 'PYME.LMVis.shader_programs.GouraudShaderProgram.GouraudShaderProgram'>\n"
     ]
    },
    {
     "name": "stdout",
     "output_type": "stream",
     "text": [
      "Data munged to vertices, faces\n",
      "initializing halfedges ...\n",
      "vertices.shape = (529, 3), faces.shape = (1054, 3)\n",
      "iterating edges\n",
      "done initializing halfedges\n",
      "lw update\n",
      "Disposing of HistLimitsEditor\n",
      "Creating layers GUI\n",
      "hl update\n"
     ]
    },
    {
     "name": "stderr",
     "output_type": "stream",
     "text": [
      "/Users/zachcm/Code/python-microscopy/PYME/ui/layerFoldPanel.py:47: wxPyDeprecationWarning: Call to deprecated item BitmapFromBuffer. Use :meth:`wx.Bitmap.FromBuffer` or :meth:`wx.Bitmap.FromBufferAndAlpha` instead.\n",
      "  return wx.BitmapFromBuffer(30, 10, img)\n",
      "/Users/zachcm/Code/python-microscopy/PYME/ui/histLimits.py:289: wxPyDeprecationWarning: Call to deprecated item EmptyBitmap. Use :class:`wx.Bitmap` instead\n",
      "  MemBitmap = wx.EmptyBitmap(s.GetWidth(), s.GetHeight())\n"
     ]
    },
    {
     "name": "stdout",
     "output_type": "stream",
     "text": [
      "hl update\n",
      "height:  335\n",
      "NB best size: wx.Size(200, 335)\n"
     ]
    }
   ],
   "source": [
    "# Surface generation parameters\n",
    "threshold_density = 0.005\n",
    "# threshold_density = 0.0001\n",
    "n_points_min = 50\n",
    "# n_points_min = 100\n",
    "repair = False\n",
    "remesh = False\n",
    "\n",
    "# Run surface generation recipe on the point cloud\n",
    "from PYME.LMVis.Extras import extra_layers\n",
    "from PYME.LMVis.layers.mesh import TriangleRenderLayer\n",
    "from PYME.recipes.surface_fitting import DualMarchingCubes\n",
    "from ch_shrinkwrap import _membrane_mesh as membrane_mesh\n",
    "\n",
    "# oc_name = extra_layers.gen_octree_from_points(pymevis)\n",
    "surf_name, surf_count = pipeline.new_ds_name('surf', return_count=True)\n",
    "# dmc = DualMarchingCubes(recipe, invalidate_parent=False, input=oc_name, output=surf_name, threshold_density=threshold_density, n_points_min=n_points_min, repair=repair, remesh=remesh)\n",
    "# recipe.add_module(dmc)\n",
    "# recipe.execute()\n",
    "# layer = TriangleRenderLayer(pipeline, dsname=surf_name, method='shaded', cmap = ['C', 'M', 'Y', 'R', 'G', 'B'][surf_count % 6])\n",
    "# pymevis.add_layer(layer)\n",
    "# dmc._invalidate_parent = True\n",
    "mesh = membrane_mesh.MembraneMesh.from_stl('hemo.stl')\n",
    "pipeline.dataSources[surf_name] = mesh\n",
    "layer = TriangleRenderLayer(pipeline, dsname=surf_name, method='shaded', cmap = ['C', 'M', 'Y', 'R', 'G', 'B'][surf_count % 6])\n",
    "pymevis.add_layer(layer)"
   ]
  },
  {
   "cell_type": "code",
   "execution_count": 6,
   "metadata": {},
   "outputs": [],
   "source": [
    "# Shrinkwrapping parameters\n",
    "max_iters = 1\n",
    "step_size = 0.1\n",
    "attraction_weight = 1  # eV/nm\n",
    "curvature_weight = 1\n",
    "largest_component_only = True\n",
    "method = 'euler'\n",
    "remesh_every = 500  # iterations\n",
    "remesh_frequency = 5\n",
    "delaunay_remesh_frequency = 3"
   ]
  },
  {
   "cell_type": "code",
   "execution_count": 7,
   "metadata": {
    "scrolled": false
   },
   "outputs": [
    {
     "name": "stdout",
     "output_type": "stream",
     "text": [
      "Iteration 0 <<<\n",
      "Iteration 0 ...\n",
      "Iteration 1 ...\n"
     ]
    },
    {
     "name": "stderr",
     "output_type": "stream",
     "text": [
      "/Users/zachcm/opt/miniconda3/envs/pyme/lib/python3.7/site-packages/ipykernel_launcher.py:36: RuntimeWarning: divide by zero encountered in true_divide\n"
     ]
    },
    {
     "name": "stdout",
     "output_type": "stream",
     "text": [
      "Iteration 2 ...\n",
      "Iteration 3 ...\n",
      "Delaunay remesh...\n",
      "Guessed eps: 6.627945945739746\n",
      "initializing halfedges ...\n",
      "vertices.shape = (529, 3), faces.shape = (1082, 3)\n",
      "iterating edges\n",
      "done initializing halfedges\n",
      "Iteration 4 ...\n",
      "Iteration 5 ...\n",
      "Split count: 1633\n",
      "Collapse count: 564[45 failed]\n",
      "Flip count: 462 [1037 failed]\n",
      "Split count: 2615\n",
      "Collapse count: 2583[492 failed]\n",
      "Flip count: 326 [626 failed]\n",
      "Split count: 2877\n",
      "Collapse count: 2693[792 failed]\n",
      "Flip count: 338 [713 failed]\n",
      "Split count: 4264\n",
      "Collapse count: 3802[1404 failed]\n",
      "Flip count: 545 [1048 failed]\n",
      "Split count: 3654\n",
      "Collapse count: 3694[1554 failed]\n",
      "Flip count: 440 [838 failed]\n",
      "Target mean length: 5.894951343536377   Resulting mean length: 6.7926373\n",
      "Iteration 6 ...\n",
      "Delaunay remesh...\n",
      "Guessed eps: 2687.585748046875\n",
      "initializing halfedges ...\n",
      "vertices.shape = (2237, 3), faces.shape = (8006, 3)\n",
      "iterating edges\n",
      "done initializing halfedges\n",
      "Iteration 7 ...\n"
     ]
    },
    {
     "name": "stderr",
     "output_type": "stream",
     "text": [
      "/Users/zachcm/opt/miniconda3/envs/pyme/lib/python3.7/site-packages/ipykernel_launcher.py:36: RuntimeWarning: invalid value encountered in true_divide\n"
     ]
    },
    {
     "name": "stdout",
     "output_type": "stream",
     "text": [
      "Iteration 8 ...\n"
     ]
    },
    {
     "ename": "IndexError",
     "evalue": "Could not access neighbors for position [nan nan nan].",
     "output_type": "error",
     "traceback": [
      "\u001b[0;31m---------------------------------------------------------------------------\u001b[0m",
      "\u001b[0;31mIndexError\u001b[0m                                Traceback (most recent call last)",
      "\u001b[0;32m~/Code/ch-shrinkwrap/ch_shrinkwrap/_membrane_mesh.pyx\u001b[0m in \u001b[0;36mch_shrinkwrap._membrane_mesh.MembraneMesh.point_attraction_grad_kdtree\u001b[0;34m()\u001b[0m\n",
      "\u001b[0;31mIndexError\u001b[0m: index 16833 is out of bounds for axis 0 with size 16833",
      "\nDuring handling of the above exception, another exception occurred:\n",
      "\u001b[0;31mIndexError\u001b[0m                                Traceback (most recent call last)",
      "\u001b[0;32m<ipython-input-7-a219f3c8ca8a>\u001b[0m in \u001b[0;36m<module>\u001b[0;34m\u001b[0m\n\u001b[1;32m     34\u001b[0m \u001b[0;32mfor\u001b[0m \u001b[0m_i\u001b[0m \u001b[0;32min\u001b[0m \u001b[0mrange\u001b[0m\u001b[0;34m(\u001b[0m\u001b[0mmax_iters\u001b[0m\u001b[0;34m)\u001b[0m\u001b[0;34m:\u001b[0m\u001b[0;34m\u001b[0m\u001b[0;34m\u001b[0m\u001b[0m\n\u001b[1;32m     35\u001b[0m     \u001b[0mprint\u001b[0m\u001b[0;34m(\u001b[0m\u001b[0;34m'Iteration {} <<<'\u001b[0m\u001b[0;34m.\u001b[0m\u001b[0mformat\u001b[0m\u001b[0;34m(\u001b[0m\u001b[0m_i\u001b[0m\u001b[0;34m)\u001b[0m\u001b[0;34m)\u001b[0m\u001b[0;34m\u001b[0m\u001b[0;34m\u001b[0m\u001b[0m\n\u001b[0;32m---> 36\u001b[0;31m     \u001b[0mmesh\u001b[0m\u001b[0;34m.\u001b[0m\u001b[0mshrink_wrap\u001b[0m\u001b[0;34m(\u001b[0m\u001b[0mpts\u001b[0m\u001b[0;34m,\u001b[0m \u001b[0msigma\u001b[0m\u001b[0;34m,\u001b[0m \u001b[0mmethod\u001b[0m\u001b[0;34m=\u001b[0m\u001b[0mmethod\u001b[0m\u001b[0;34m)\u001b[0m\u001b[0;34m\u001b[0m\u001b[0;34m\u001b[0m\u001b[0m\n\u001b[0m\u001b[1;32m     37\u001b[0m     \u001b[0;32mif\u001b[0m \u001b[0;34m(\u001b[0m\u001b[0;34m(\u001b[0m\u001b[0m_i\u001b[0m\u001b[0;34m+\u001b[0m\u001b[0;36m1\u001b[0m\u001b[0;34m)\u001b[0m \u001b[0;34m%\u001b[0m \u001b[0mremesh_every\u001b[0m\u001b[0;34m)\u001b[0m \u001b[0;34m==\u001b[0m \u001b[0;36m0\u001b[0m\u001b[0;34m:\u001b[0m\u001b[0;34m\u001b[0m\u001b[0;34m\u001b[0m\u001b[0m\n\u001b[1;32m     38\u001b[0m         \u001b[0mmesh\u001b[0m\u001b[0;34m.\u001b[0m\u001b[0mremesh\u001b[0m\u001b[0;34m(\u001b[0m\u001b[0;34m)\u001b[0m\u001b[0;34m\u001b[0m\u001b[0;34m\u001b[0m\u001b[0m\n",
      "\u001b[0;32m~/Code/ch-shrinkwrap/ch_shrinkwrap/_membrane_mesh.pyx\u001b[0m in \u001b[0;36mch_shrinkwrap._membrane_mesh.MembraneMesh.shrink_wrap\u001b[0;34m()\u001b[0m\n",
      "\u001b[0;32m~/Code/ch-shrinkwrap/ch_shrinkwrap/_membrane_mesh.pyx\u001b[0m in \u001b[0;36mch_shrinkwrap._membrane_mesh.MembraneMesh.opt_euler\u001b[0;34m()\u001b[0m\n",
      "\u001b[0;32m~/Code/ch-shrinkwrap/ch_shrinkwrap/_membrane_mesh.pyx\u001b[0m in \u001b[0;36mch_shrinkwrap._membrane_mesh.MembraneMesh.grad\u001b[0;34m()\u001b[0m\n",
      "\u001b[0;32m~/Code/ch-shrinkwrap/ch_shrinkwrap/_membrane_mesh.pyx\u001b[0m in \u001b[0;36mch_shrinkwrap._membrane_mesh.MembraneMesh.point_attraction_grad_kdtree\u001b[0;34m()\u001b[0m\n",
      "\u001b[0;31mIndexError\u001b[0m: Could not access neighbors for position [nan nan nan]."
     ]
    }
   ],
   "source": [
    "from PYME.util import mProfile\n",
    "import time\n",
    "\n",
    "# mProfile.profileOn(['_membrane_mesh.pyx'])\n",
    "\n",
    "# Run surface meshing on the point cloud\n",
    "membrane_name = pipeline.new_ds_name('membrane')\n",
    "\n",
    "points_name = 'points'\n",
    "\n",
    "mesh = membrane_mesh.MembraneMesh(mesh=recipe.namespace[surf_name])\n",
    "mesh.a = attraction_weight\n",
    "mesh.c = curvature_weight\n",
    "mesh.max_iter = 10\n",
    "mesh.step_size = step_size\n",
    "mesh.remesh_frequency = remesh_frequency\n",
    "mesh.delaunay_remesh_frequency = delaunay_remesh_frequency\n",
    "# mesh.keep_largest_connected_component()\n",
    "# mesh.kg = 0\n",
    "\n",
    "pts = np.ascontiguousarray(np.vstack([recipe.namespace[points_name]['x'], \n",
    "                                      recipe.namespace[points_name]['y'],\n",
    "                                      recipe.namespace[points_name]['z']]).T)\n",
    "\n",
    "try:\n",
    "    sigma = recipe.namespace[points_name]['sigma']\n",
    "except(KeyError):\n",
    "    sigma = np.ones_like(recipe.namespace[points_name]['x'])\n",
    "    \n",
    "residuals = []\n",
    "res_prev = 1e10\n",
    "mesh_prev = membrane_mesh.MembraneMesh(mesh=mesh)\n",
    "start = time.time()\n",
    "for _i in range(max_iters):\n",
    "    print('Iteration {} <<<'.format(_i))\n",
    "    mesh.shrink_wrap(pts, sigma, method=method)\n",
    "    if ((_i+1) % remesh_every) == 0:\n",
    "        mesh.remesh()\n",
    "#     comparison_points = mesh._vertices['position'][mesh._vertices['halfedge']!=-1]\n",
    "#     new_res = s.surface_res(comparison_points)\n",
    "#     residuals.append(new_res)\n",
    "stop = time.time()\n",
    "print('Time elapsed = {} s'.format(stop-start))\n",
    "# mProfile.profileOff()\n",
    "# mProfile.report()"
   ]
  },
  {
   "cell_type": "code",
   "execution_count": null,
   "metadata": {},
   "outputs": [],
   "source": [
    "recipe.namespace[membrane_name] = mesh\n",
    "surf_count = 0\n",
    "layer = TriangleRenderLayer(pipeline, dsname=membrane_name, method='shaded', cmap = ['C', 'M', 'Y', 'R', 'G', 'B'][surf_count % 6])\n",
    "pymevis.add_layer(layer)\n",
    "\n",
    "# visgui.RefreshView()"
   ]
  },
  {
   "cell_type": "code",
   "execution_count": null,
   "metadata": {},
   "outputs": [],
   "source": [
    "# pipeline.dataSources['surf0'].manifold"
   ]
  },
  {
   "cell_type": "code",
   "execution_count": null,
   "metadata": {},
   "outputs": [],
   "source": [
    "# np.histogram((mesh.vertices**2).sum(1))\n",
    "# mesh.vertices[(mesh.vertices**2).sum(1)>5e6]"
   ]
  },
  {
   "cell_type": "code",
   "execution_count": null,
   "metadata": {},
   "outputs": [],
   "source": [
    "# %timeit np.zeros(1000,dtype=float)"
   ]
  },
  {
   "cell_type": "code",
   "execution_count": null,
   "metadata": {},
   "outputs": [],
   "source": [
    "# a = np.zeros(1000,dtype=float)"
   ]
  },
  {
   "cell_type": "code",
   "execution_count": null,
   "metadata": {},
   "outputs": [],
   "source": [
    "# %timeit a[:] = 0"
   ]
  },
  {
   "cell_type": "code",
   "execution_count": null,
   "metadata": {},
   "outputs": [],
   "source": [
    "# a = np.random.rand(3)"
   ]
  },
  {
   "cell_type": "code",
   "execution_count": null,
   "metadata": {},
   "outputs": [],
   "source": [
    "# %timeit np.linalg.norm(a)"
   ]
  },
  {
   "cell_type": "code",
   "execution_count": null,
   "metadata": {},
   "outputs": [],
   "source": [
    "# %timeit math.sqrt(a[0]*a[0]+a[1]*a[1]+a[2]*a[2])"
   ]
  },
  {
   "cell_type": "code",
   "execution_count": null,
   "metadata": {},
   "outputs": [],
   "source": [
    "# import math\n",
    "# mesh.curvature_mean"
   ]
  },
  {
   "cell_type": "code",
   "execution_count": null,
   "metadata": {
    "scrolled": false
   },
   "outputs": [],
   "source": [
    "mesh.curvature_mean\n",
    "\n",
    "# USE_C = True\n",
    "# array([-0.08093525, -0.00866504, -0.05240814, -0.08317345,  0.02362632,\n",
    "#         0.0282525 ,  0.08179444, -0.07506737,  0.02445984,  0.03046935,\n",
    "#         0.07678507, -0.07827818, -0.05523499, -0.06463801, -0.07142361,\n",
    "#        -0.03030268,  0.00706602,  0.06293204,  0.06461848, -0.08261433,\n",
    "#         0.04309087, -0.05650999, -0.06826805,  0.0064371 , -0.07965706,\n",
    "#        -0.01628881,  0.04309166,  0.09841634, -0.01958373, -0.06741484,\n",
    "#        -0.00354084, -0.07058869,  0.0691588 ,  0.03701629,  0.08057788,\n",
    "#         0.01971012, -0.04278345, -0.07242775, -0.05020911,  0.02466571,\n",
    "#        -0.06187785, -0.02077331, -0.03351416, -0.03336353,  0.08851784,\n",
    "#        -0.07039419,  0.08185363, -0.02909791, -0.06744048,  0.01885984,\n",
    "#         0.06063289,  0.02055458, -0.0239396 , -0.08632922,  0.04301541,\n",
    "#        -0.00720791, -0.08484457, -0.00404598,  0.09438683,  0.01950769,\n",
    "#        -0.03848492,  0.00961029,  0.06587657,  0.07904686, -0.04026097,\n",
    "#        -0.05160251, -0.01016031, -0.05673593, -0.06521066, -0.09267251,\n",
    "#         0.08447719, -0.07383481, -0.06175276, -0.06909902,  0.00688352,\n",
    "#         0.03621555,  0.03355219,  0.02100973, -0.08660565, -0.05175177,\n",
    "#        -0.04748538, -0.02071361,  0.07625633, -0.07078882, -0.0435674 ,\n",
    "#         0.02726529,  0.01767305,  0.05837514, -0.0830881 ,  0.01457721,\n",
    "#        -0.069427  ,  0.08985449, -0.01046628, -0.05343423, -0.03273922,\n",
    "#         0.08770038, -0.07218429,  0.06170661, -0.00568324,  0.03658308,\n",
    "#        -0.06717886, -0.00840327, -0.07135181, -0.08732808,  0.07323299,\n",
    "#        -0.01228129, -0.02651418, -0.06228235, -0.02979777,  0.05788112,\n",
    "#        -0.03345646, -0.071762  ,  0.09927414,  0.02641748, -0.0647912 ,\n",
    "#         0.08614354,  0.07537662, -0.06635574, -0.05567439,  0.05234499,\n",
    "#        -0.07741752, -0.07451253,  0.08693004, -0.08089539,  0.07983296,\n",
    "#        -0.08832347,  0.09088987, -0.07708101, -0.01672961,  0.03091072,\n",
    "#         0.06129769, -0.01242314,  0.00877087,  0.02786648,  0.03394059,\n",
    "#         0.04077507, -0.08509563,  0.08385628, -0.09071361, -0.07253144,\n",
    "#         0.0405217 , -0.0529703 , -0.03314061, -0.04890803,  0.06386208,\n",
    "#        -0.05463498, -0.05359986, -0.018659  ,  0.04514278, -0.09959574,\n",
    "#        -0.05834518, -0.07485174,  0.03013009,  0.08472608,  0.08357349,\n",
    "#        -0.02213929,  0.05884042,  0.05390621,  0.06756914,  0.02725145,\n",
    "#        -0.06414943,  0.00640204,  0.03779678,  0.00140768, -0.06115068,\n",
    "#        -0.04194108, -0.06085332,  0.07411776,  0.07160696,  0.09709716,\n",
    "#         0.01686836,  0.02866014, -0.06657949, -0.08150007,  0.08162254,\n",
    "#         0.01306654, -0.07781316, -0.08183778,  0.02752035, -0.06746855,\n",
    "#         0.06951303, -0.06760946, -0.06613831, -0.08652143, -0.08547915,\n",
    "#         0.05873303, -0.00657114,  0.04554096, -0.07454738,  0.05069579,\n",
    "#         0.09023504, -0.06688145, -0.03482477,  0.08027852, -0.02291005,\n",
    "#        -0.06470495, -0.07426742,  0.00545914, -0.00863561, -0.02665528,\n",
    "#        -0.00463695, -0.0873556 , -0.018519  ,  0.03551615,  0.03062377,\n",
    "#         0.09804794,  0.00381883, -0.0932502 , -0.06188733,  0.05086049,\n",
    "#         0.0721364 , -0.02069302,  0.00416695, -0.07079443,  0.05338389,\n",
    "#         0.06568254,  0.08042908,  0.03027539, -0.06486863,  0.07716027,\n",
    "#         0.03391975,  0.0359735 , -0.03726449, -0.02058276, -0.08122787,\n",
    "#        -0.08823387, -0.07973181, -0.05974455,  0.03828188, -0.04733035,\n",
    "#         0.02045708,  0.05217726, -0.07654178,  0.08472406, -0.02698311,\n",
    "#         0.04361411,  0.02162302,  0.00726681,  0.08632529, -0.058246  ,\n",
    "#        -0.06104133, -0.05225327, -0.05858645,  0.09340581, -0.08084704,\n",
    "#         0.08081819, -0.038642  ,  0.00498478,  0.07952358,  0.06866355,\n",
    "#        -0.02698219, -0.02321153, -0.07417154,  0.08726148,  0.01352412,\n",
    "#        -0.08048396,  0.07948454, -0.03880492, -0.02691324,  0.05726293,\n",
    "#         0.07861667,  0.10486388, -0.02598679,  0.01579438, -0.03692278,\n",
    "#         0.00723103, -0.06538578, -0.02662082, -0.01812587, -0.06560162,\n",
    "#         0.03222846,  0.07197706,  0.07054387, -0.01513215, -0.02647753,\n",
    "#        -0.06351474, -0.10204495, -0.05963679,  0.0819872 ,  0.06517402,\n",
    "#         0.05207862, -0.09205754,  0.0852109 , -0.03847128,  0.08323006,\n",
    "#        -0.04405168, -0.00524504, -0.05019497, -0.05810152, -0.08223791,\n",
    "#         0.04446666, -0.08080712, -0.02544208, -0.02551689, -0.083782  ,\n",
    "#        -0.03862651,  0.07304432, -0.01653309,  0.02793306, -0.08912396,\n",
    "#        -0.03578584, -0.05224152, -0.05399496, -0.09167258,  0.04739149,\n",
    "#         0.00336238, -0.02977977, -0.07488061, -0.08363505,  0.01868158,\n",
    "#         0.04151034, -0.06149033,  0.08001206, -0.08481539, -0.07148408,\n",
    "#         0.04619648,  0.01436198,  0.08199683,  0.09508887, -0.00028106,\n",
    "#        -0.07604101,  0.01725764,  0.08656894, -0.00215596, -0.06412864,\n",
    "#         0.05285272,  0.08367443,  0.07054485,  0.06871039,  0.09339744,\n",
    "#         0.00262263, -0.09212229,  0.03554989,  0.06016709, -0.04546482,\n",
    "#        -0.00760843, -0.01414109,  0.0485468 ,  0.02335481, -0.00112268,\n",
    "#         0.0159213 ,  0.09825272, -0.04633595,  0.00774456,  0.00635282,\n",
    "#        -0.05727105, -0.07166103, -0.00142968, -0.01785818, -0.08884689,\n",
    "#        -0.08702911,  0.02108714, -0.00943309,  0.0404896 , -0.09681296,\n",
    "#        -0.00236784,  0.00256145, -0.05014882, -0.07591031,  0.05089113,\n",
    "#        -0.08964017, -0.02692856,  0.04751926, -0.05224126,  0.03615098,\n",
    "#         0.09417605, -0.07753401,  0.03272931,  0.05148353,  0.06574939,\n",
    "#        -0.01240271, -0.0803483 , -0.04603149,  0.09116818, -0.07083942,\n",
    "#         0.08302771, -0.03449142,  0.0844564 , -0.03880592,  0.08831375,\n",
    "#        -0.09417611,  0.08952627, -0.04311355,  0.05866918, -0.03415646,\n",
    "#        -0.00756662,  0.0321246 ,  0.09669775,  0.08135612, -0.08367465,\n",
    "#        -0.08592194, -0.06180652, -0.08698735, -0.07821529, -0.00575303,\n",
    "#        -0.07070479, -0.02285701, -0.05533003,  0.01514282,  0.006276  ,\n",
    "#         0.06035493, -0.07421799,  0.07870184, -0.05277344,  0.07599598,\n",
    "#        -0.05463277,  0.09790979, -0.02226079, -0.06744492,  0.02043175,\n",
    "#        -0.03129497, -0.07282996, -0.03550398, -0.04196176,  0.07233167,\n",
    "#         0.02441241, -0.01114145,  0.05280567, -0.03975239, -0.06375762,\n",
    "#         0.11489983,  0.09126773, -0.05827877, -0.08380455,  0.08481377,\n",
    "#         0.07808687,  0.0555934 , -0.04957557,  0.03697523, -0.05883717,\n",
    "#        -0.05913805, -0.01319586, -0.08509656,  0.03553954, -0.06951813,\n",
    "#         0.02587411, -0.05867016, -0.00943386, -0.04883876, -0.01536474,\n",
    "#        -0.04329799,  0.05153409, -0.08088   , -0.05916921, -0.01284895,\n",
    "#         0.0421304 ,  0.03493537, -0.06936537, -0.00101822, -0.018182  ,\n",
    "#        -0.0825088 ,  0.09436246, -0.00377361,  0.09758033,  0.0296257 ,\n",
    "#        -0.06786688, -0.07612389,  0.06827646,  0.0181724 , -0.04316521,\n",
    "#        -0.06710073, -0.0634625 ,  0.07469611, -0.01931785,  0.06595237,\n",
    "#         0.07065263, -0.06322552,  0.05086572,  0.01193244, -0.06757798,\n",
    "#        -0.06679147,  0.07170361, -0.00012747,  0.04013213,  0.08307393,\n",
    "#        -0.06271523,  0.05839351,  0.03099809,  0.03282024, -0.07125422,\n",
    "#         0.06895296, -0.05306197, -0.05726997, -0.02779966,  0.00584183,\n",
    "#        -0.04773605, -0.00093441, -0.01229028, -0.06634882, -0.08356398,\n",
    "#        -0.06441096, -0.06856446,  0.01762308, -0.07097671, -0.05300697,\n",
    "#        -0.07049464, -0.01394118,  0.0614799 , -0.07779179, -0.08781993,\n",
    "#         0.01981919, -0.08332206,  0.08814541, -0.05526725,  0.09897321,\n",
    "#         0.07166016, -0.00642368,  0.02407776,  0.06945478,  0.01024565,\n",
    "#        -0.00929939, -0.05791092,  0.07051352,  0.07582062,  0.00241891,\n",
    "#         0.01445695, -0.01963145, -0.02136468, -0.09036957, -0.07875299,\n",
    "#        -0.07406367,  0.00484087, -0.03103768,  0.06924489,  0.08431555,\n",
    "#         0.03683628, -0.04321797, -0.04256097, -0.04894387], dtype=float32)"
   ]
  },
  {
   "cell_type": "code",
   "execution_count": null,
   "metadata": {
    "scrolled": false
   },
   "outputs": [],
   "source": [
    "mesh._E\n",
    "\n",
    "# USE_C = True\n",
    "# array([4.7888641e+00, 5.5163722e-02, 2.4609184e+00, 5.9960074e+00,\n",
    "#        4.5915371e-01, 5.7771659e-01, 5.6203232e+00, 5.9462676e+00,\n",
    "#        5.4938757e-01, 1.0075034e+00, 4.8413677e+00, 5.6176414e+00,\n",
    "#        3.1395075e+00, 6.4202738e+00, 5.5537248e+00, 6.9729555e-01,\n",
    "#        4.1530162e-02, 4.3747277e+00, 4.3887320e+00, 5.4079008e+00,\n",
    "#        1.7928334e+00, 3.2206213e+00, 4.5650330e+00, 3.8700905e-02,\n",
    "#        6.4191022e+00, 2.1214959e-01, 2.1970956e+00, 6.3070550e+00,\n",
    "#        2.1168567e-01, 6.2834620e+00, 1.0434327e-02, 5.0348463e+00,\n",
    "#        4.2337542e+00, 1.0565113e+00, 7.6473565e+00, 3.4533176e-01,\n",
    "#        2.1613719e+00, 5.9268570e+00, 2.1283567e+00, 3.2090414e-01,\n",
    "#        6.3735805e+00, 2.6459917e-01, 1.6344637e+00, 6.0198689e-01,\n",
    "#        6.9923115e+00, 5.7312317e+00, 6.4993458e+00, 9.3252838e-01,\n",
    "#        6.2460003e+00, 2.2247665e-01, 3.3742809e+00, 3.0010641e-01,\n",
    "#        2.9398343e-01, 5.7810731e+00, 2.0994046e+00, 3.6968224e-02,\n",
    "#        5.0750260e+00, 1.8915184e-02, 6.0121322e+00, 2.0741022e-01,\n",
    "#        2.2418504e+00, 6.3844465e-02, 4.4455948e+00, 6.5713048e+00,\n",
    "#        1.2375342e+00, 5.6728153e+00, 7.9492465e-02, 2.3099384e+00,\n",
    "#        3.8939240e+00, 7.0204444e+00, 6.7023602e+00, 5.7257943e+00,\n",
    "#        2.3921909e+00, 6.4833155e+00, 4.7779266e-02, 1.8623694e+00,\n",
    "#        8.5267240e-01, 2.9924068e-01, 5.1858435e+00, 3.9653716e+00,\n",
    "#        2.2095723e+00, 2.8056389e-01, 3.5169144e+00, 5.3895912e+00,\n",
    "#        1.1251317e+00, 3.8480681e-01, 2.3520139e-01, 5.1364026e+00,\n",
    "#        4.4558487e+00, 1.6283160e-01, 4.4731321e+00, 4.7917285e+00,\n",
    "#        1.1163201e-01, 2.9410439e+00, 1.0422636e+00, 5.8669367e+00,\n",
    "#        4.4271083e+00, 2.9688594e+00, 3.1686243e-02, 1.1614283e+00,\n",
    "#        5.4524760e+00, 4.4155672e-02, 5.3286810e+00, 5.8269901e+00,\n",
    "#        5.4955325e+00, 1.3092911e-01, 4.3779945e-01, 4.4724936e+00,\n",
    "#        7.4028039e-01, 2.0326064e+00, 8.9187032e-01, 5.8781209e+00,\n",
    "#        7.9340324e+00, 5.5061084e-01, 2.5872090e+00, 6.4098959e+00,\n",
    "#        7.1977434e+00, 3.8996854e+00, 5.2227812e+00, 2.6616263e+00,\n",
    "#        5.6114402e+00, 4.8262005e+00, 5.9573045e+00, 4.8177314e+00,\n",
    "#        8.8942289e+00, 6.6010251e+00, 6.0271688e+00, 7.6346750e+00,\n",
    "#        1.7964746e-01, 7.7821112e-01, 3.8982661e+00, 1.3144305e-01,\n",
    "#        4.8631292e-02, 6.0351330e-01, 4.8105320e-01, 1.3071668e+00,\n",
    "#        7.6774335e+00, 6.7898817e+00, 7.1501188e+00, 5.5690217e+00,\n",
    "#        1.6183472e+00, 2.0226860e+00, 1.2184782e+00, 2.5106828e+00,\n",
    "#        3.0033431e+00, 3.4103086e+00, 5.1880207e+00, 2.9101086e-01,\n",
    "#        1.7480634e+00, 6.1576080e+00, 4.7578068e+00, 3.2040255e+00,\n",
    "#        6.0393357e-01, 8.3596439e+00, 6.9313936e+00, 2.9909039e-01,\n",
    "#        3.1799836e+00, 3.0187314e+00, 4.7523150e+00, 3.9413416e-01,\n",
    "#        4.9142513e+00, 2.1291757e-02, 9.3232661e-01, 1.2416546e-03,\n",
    "#        5.3798480e+00, 1.5844427e+00, 5.7345781e+00, 4.7131648e+00,\n",
    "#        5.1592126e+00, 7.4231801e+00, 3.1074297e-01, 6.2208301e-01,\n",
    "#        4.8657894e+00, 5.7961779e+00, 5.1572022e+00, 1.5605068e-01,\n",
    "#        8.2143745e+00, 6.3644390e+00, 3.8476819e-01, 3.4241292e+00,\n",
    "#        1.9917096e+00, 5.5379872e+00, 5.4045706e+00, 4.8526483e+00,\n",
    "#        4.5790191e+00, 3.7781124e+00, 3.0609546e-02, 1.2406043e+00,\n",
    "#        8.4874172e+00, 3.5463820e+00, 5.8418164e+00, 3.6798964e+00,\n",
    "#        1.0550048e+00, 4.4712586e+00, 3.2192913e-01, 4.5611644e+00,\n",
    "#        6.5850339e+00, 3.3780396e-02, 5.3841241e-02, 7.8765702e-01,\n",
    "#        1.0542242e-02, 7.4172421e+00, 2.4617361e-01, 7.8218269e-01,\n",
    "#        4.0739399e-01, 6.3738732e+00, 9.6686445e-03, 5.3345094e+00,\n",
    "#        3.0354149e+00, 1.6131656e+00, 5.4176521e+00, 3.5381594e-01,\n",
    "#        1.6288713e-02, 3.6858790e+00, 4.0028548e+00, 4.7986050e+00,\n",
    "#        6.2621160e+00, 4.3108308e-01, 4.8000193e+00, 5.4925661e+00,\n",
    "#        9.8713440e-01, 6.7568588e-01, 1.2393075e+00, 2.7862063e-01,\n",
    "#        5.6362381e+00, 6.6966958e+00, 5.5283189e+00, 3.6817458e+00,\n",
    "#        1.1941537e+00, 1.0477135e+00, 3.6963153e-01, 1.2314720e+00,\n",
    "#        6.1418896e+00, 6.4563394e+00, 6.5189058e-01, 1.0846916e+00,\n",
    "#        2.3305391e-01, 6.1961710e-02, 7.3287172e+00, 3.6886728e+00,\n",
    "#        3.4563589e+00, 3.0157871e+00, 2.0634952e+00, 4.3006420e+00,\n",
    "#        6.8053617e+00, 6.7828703e+00, 5.0602371e-01, 2.3514900e-02,\n",
    "#        5.5874186e+00, 4.9511375e+00, 4.7732851e-01, 2.4739914e-01,\n",
    "#        3.7430487e+00, 5.5713706e+00, 1.1399606e-01, 3.6199925e+00,\n",
    "#        5.8577747e+00, 1.3284577e+00, 6.1506194e-01, 3.4543254e+00,\n",
    "#        5.1167054e+00, 5.6580682e+00, 4.3937865e-01, 1.8910123e-01,\n",
    "#        3.7358674e-01, 2.5920989e-02, 3.5059638e+00, 4.5581210e-01,\n",
    "#        1.7279543e-01, 4.1814322e+00, 8.6622488e-01, 4.3185325e+00,\n",
    "#        5.7583427e+00, 1.8583532e-01, 2.9814109e-01, 4.8372250e+00,\n",
    "#        6.6501174e+00, 6.3159847e+00, 6.3922935e+00, 4.6823802e+00,\n",
    "#        1.6821775e+00, 5.2749057e+00, 3.4202728e+00, 1.4020994e+00,\n",
    "#        6.0857739e+00, 1.8745296e+00, 1.4820901e-02, 1.6015474e+00,\n",
    "#        4.0075908e+00, 3.3238623e+00, 1.3513401e+00, 6.1576443e+00,\n",
    "#        3.9349312e-01, 4.3504477e-01, 4.6195674e+00, 1.1971551e+00,\n",
    "#        4.0746531e+00, 1.7835227e-01, 5.8356440e-01, 6.4687662e+00,\n",
    "#        7.0849180e-01, 1.7079788e+00, 1.8010213e+00, 5.8319793e+00,\n",
    "#        2.3150897e+00, 7.3625427e-03, 7.0159650e-01, 3.0985243e+00,\n",
    "#        5.9485397e+00, 1.9744056e-01, 7.3025990e-01, 2.9512348e+00,\n",
    "#        5.6626897e+00, 7.2472491e+00, 5.5497370e+00, 1.3266283e+00,\n",
    "#        1.0016703e-01, 5.5462346e+00, 6.0535793e+00, 6.0337716e-05,\n",
    "#        3.4725399e+00, 2.2525443e-01, 6.1125011e+00, 2.4116500e-03,\n",
    "#        3.0946944e+00, 3.2320218e+00, 4.8905325e+00, 2.8010314e+00,\n",
    "#        3.1674988e+00, 5.9061852e+00, 6.6142012e-03, 6.7844467e+00,\n",
    "#        9.3697208e-01, 3.2905097e+00, 2.0228808e+00, 3.2543406e-02,\n",
    "#        1.1731124e-01, 1.9703403e+00, 2.3575327e-01, 9.1559370e-04,\n",
    "#        1.5226397e-01, 6.8949986e+00, 9.9924386e-01, 3.6903366e-02,\n",
    "#        3.5914462e-02, 3.6451628e+00, 5.3019094e+00, 1.1162981e-03,\n",
    "#        2.0982702e-01, 4.3668904e+00, 5.0719481e+00, 2.4509613e-01,\n",
    "#        5.2890513e-02, 1.5135165e+00, 5.8030586e+00, 4.3381937e-03,\n",
    "#        6.6354489e-03, 2.3320005e+00, 4.8965917e+00, 2.0596447e+00,\n",
    "#        5.0604062e+00, 6.7511356e-01, 1.7766107e+00, 1.4944606e+00,\n",
    "#        1.1241276e+00, 5.0429959e+00, 5.1474042e+00, 6.4414096e-01,\n",
    "#        1.5391073e+00, 5.3933825e+00, 1.8565731e-01, 6.3890324e+00,\n",
    "#        2.8417873e+00, 5.3183866e+00, 7.2993217e+00, 4.3230224e+00,\n",
    "#        6.8367130e-01, 7.4911723e+00, 1.5951272e+00, 5.1900702e+00,\n",
    "#        6.2257347e+00, 7.2067041e+00, 1.8536645e+00, 3.2579772e+00,\n",
    "#        6.5672177e-01, 4.0172826e-02, 7.1001726e-01, 4.4357443e+00,\n",
    "#        5.7220354e+00, 6.7560086e+00, 4.8456450e+00, 4.5447240e+00,\n",
    "#        7.8404932e+00, 5.8395109e+00, 1.9648816e-02, 3.5543735e+00,\n",
    "#        3.2369775e-01, 2.1804934e+00, 1.1610789e-01, 3.7543837e-02,\n",
    "#        4.4419346e+00, 5.5287800e+00, 9.0927095e+00, 1.9117446e+00,\n",
    "#        4.5217886e+00, 4.3285542e+00, 5.2483411e+00, 4.0475821e-01,\n",
    "#        5.5676084e+00, 2.3994777e-01, 5.2919698e-01, 7.6824365e+00,\n",
    "#        1.2498093e+00, 1.8211323e+00, 5.7286735e+00, 4.7155708e-01,\n",
    "#        1.0708101e-01, 3.0948668e+00, 2.2989216e+00, 4.6216631e+00,\n",
    "#        7.9341006e+00, 7.1694889e+00, 2.1236026e+00, 5.0210338e+00,\n",
    "#        5.9339161e+00, 8.2365780e+00, 2.1767502e+00, 2.0641515e+00,\n",
    "#        6.3958985e-01, 4.7347784e+00, 2.4467101e+00, 1.6105385e-01,\n",
    "#        5.4718084e+00, 1.3814777e+00, 3.0669723e+00, 5.3356999e-01,\n",
    "#        5.6617999e+00, 7.8793593e-02, 3.8679154e+00, 2.3980786e-01,\n",
    "#        1.5452495e+00, 2.4605474e+00, 6.9061947e+00, 3.9578731e+00,\n",
    "#        1.7962563e-01, 1.5172926e+00, 1.3399053e+00, 8.6872663e+00,\n",
    "#        8.9673186e-04, 3.2573292e-01, 5.2483244e+00, 6.4858694e+00,\n",
    "#        1.2081514e-02, 9.5184040e+00, 9.4634658e-01, 6.3570061e+00,\n",
    "#        4.6511669e+00, 5.5561409e+00, 2.3963203e-01, 2.2582257e+00,\n",
    "#        6.0072484e+00, 4.2237816e+00, 5.4450712e+00, 2.9700810e-01,\n",
    "#        4.9449339e+00, 5.7972174e+00, 5.0329504e+00, 2.7869678e+00,\n",
    "#        6.4310014e-02, 5.1839204e+00, 5.0321693e+00, 4.2546315e+00,\n",
    "#        1.7473945e-05, 1.5971855e+00, 6.7981644e+00, 4.1990185e+00,\n",
    "#        3.3182998e+00, 1.1265223e+00, 9.9894416e-01, 4.8688936e+00,\n",
    "#        4.8652844e+00, 1.8973892e+00, 5.5260196e+00, 7.4000776e-01,\n",
    "#        3.2403495e-02, 1.8670808e+00, 8.1452972e-04, 1.7924352e-01,\n",
    "#        4.3902774e+00, 6.4868588e+00, 1.9062065e+00, 5.7808557e+00,\n",
    "#        1.3373585e-01, 5.9885664e+00, 5.4330549e+00, 5.2087989e+00,\n",
    "#        1.6815184e-01, 4.5803266e+00, 4.8934050e+00, 6.0131645e+00,\n",
    "#        1.5008712e-01, 5.9726653e+00, 4.6549406e+00, 5.4572358e+00,\n",
    "#        8.3203640e+00, 3.1516047e+00, 1.8621525e-02, 3.1906304e-01,\n",
    "#        6.3926764e+00, 7.2744198e-02, 9.5846914e-02, 3.5491152e+00,\n",
    "#        7.6704240e+00, 6.5159130e+00, 5.4318267e-03, 1.8654837e-01,\n",
    "#        2.4540196e-01, 4.4106895e-01, 5.5985651e+00, 4.8126459e+00,\n",
    "#        5.2100210e+00, 1.7650893e-02, 1.2904117e+00, 7.3641219e+00,\n",
    "#        4.5413737e+00, 1.3220084e+00, 1.7084887e+00, 2.7827485e+00,\n",
    "#        3.5485535e+00], dtype=float32)\n"
   ]
  },
  {
   "cell_type": "code",
   "execution_count": null,
   "metadata": {},
   "outputs": [],
   "source": [
    "np.any(np.isnan(mesh._vertices['position']))"
   ]
  },
  {
   "cell_type": "code",
   "execution_count": null,
   "metadata": {},
   "outputs": [],
   "source": [
    "p = np.array([[ 0.02505749,  0.12222194, -0.09742415],\n",
    "       [ 0.12222194,  0.98467786,  0.01221341],\n",
    "       [-0.09742415,  0.01221341,  0.99026459]]), \n",
    "nvs = np.array([[  0.2993393 ,   2.5652542 ,  11.128048  ],\n",
    "       [  3.321083  ,   9.913801  ,   5.5698614 ],\n",
    "       [  4.2859726 ,   9.334961  ,  -8.56844   ],\n",
    "       [  1.5804443 ,  -1.8268723 , -10.960474  ],\n",
    "       [  2.3833847 , -10.620859  ,  -3.2391427 ],\n",
    "       [  0.09584808,  -7.5688214 ,   7.2764854 ]], dtype=np.float32)"
   ]
  },
  {
   "cell_type": "code",
   "execution_count": null,
   "metadata": {},
   "outputs": [],
   "source": [
    "np.dot(p,-nvs.T).T[0]"
   ]
  },
  {
   "cell_type": "code",
   "execution_count": null,
   "metadata": {},
   "outputs": [],
   "source": [
    "-0.02505749*0.2993393-0.12222194*2.5652542+0.09742415*11.128048 "
   ]
  },
  {
   "cell_type": "code",
   "execution_count": null,
   "metadata": {},
   "outputs": [],
   "source": [
    "-0.12222194*0.2993393-0.98467786*2.5652542-0.01221341*11.128048 "
   ]
  },
  {
   "cell_type": "code",
   "execution_count": null,
   "metadata": {},
   "outputs": [
    {
     "name": "stderr",
     "output_type": "stream",
     "text": [
      "ERROR:traitsui.wx.toolkit:Wx control <traitsui.wx.helper.TraitsUIPanel object at 0x7fa1f48f1af0> not destroyed cleanly\n",
      "Traceback (most recent call last):\n",
      "  File \"/Users/zachcm/opt/miniconda3/envs/pyme/lib/python3.7/site-packages/traitsui/wx/toolkit.py\", line 436, in _destroy_control\n",
      "    control.Destroy()\n",
      "  File \"/Users/zachcm/opt/miniconda3/envs/pyme/lib/python3.7/site-packages/traitsui/wx/helper.py\", line 326, in Destroy\n",
      "    self.Unbind(wx.EVT_CHILD_FOCUS)\n",
      "  File \"/Users/zachcm/opt/miniconda3/envs/pyme/lib/python3.7/site-packages/wx/core.py\", line 1416, in _EvtHandler_Unbind\n",
      "    return event.Unbind(self, id, id2, handler)\n",
      "  File \"/Users/zachcm/opt/miniconda3/envs/pyme/lib/python3.7/site-packages/wx/core.py\", line 1485, in Unbind\n",
      "    success += int(target.Disconnect(id1, id2, et, handler))\n",
      "RuntimeError: wrapped C/C++ object of type TraitsUIPanel has been deleted\n"
     ]
    },
    {
     "name": "stdout",
     "output_type": "stream",
     "text": [
      "Ev Idle\n",
      "('points', 't')\n",
      "refreshed\n"
     ]
    }
   ],
   "source": [
    "0.09742415*0.2993393-0.01221341*2.5652542-0.99026459*11.128048 "
   ]
  },
  {
   "cell_type": "code",
   "execution_count": null,
   "metadata": {},
   "outputs": [],
   "source": []
  }
 ],
 "metadata": {
  "kernelspec": {
   "display_name": "pyme",
   "language": "python",
   "name": "pyme"
  },
  "language_info": {
   "codemirror_mode": {
    "name": "ipython",
    "version": 3
   },
   "file_extension": ".py",
   "mimetype": "text/x-python",
   "name": "python",
   "nbconvert_exporter": "python",
   "pygments_lexer": "ipython3",
   "version": "3.7.6"
  }
 },
 "nbformat": 4,
 "nbformat_minor": 4
}
